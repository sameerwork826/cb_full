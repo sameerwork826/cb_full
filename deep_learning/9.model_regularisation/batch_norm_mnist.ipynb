{
 "cells": [
  {
   "cell_type": "markdown",
   "id": "ac831a09",
   "metadata": {},
   "source": [
    "<h2 align=\"center\">Codebasics DL Course: Batch Normalization</h2>"
   ]
  },
  {
   "cell_type": "markdown",
   "id": "17589e2a",
   "metadata": {},
   "source": [
    "Batch normalization research paper: https://arxiv.org/pdf/1502.03167"
   ]
  },
  {
   "cell_type": "code",
   "execution_count": 1,
   "id": "28792ca9",
   "metadata": {},
   "outputs": [],
   "source": [
    "import torch\n",
    "import torch.nn as nn\n",
    "import torch.optim as optim\n",
    "from torch.utils.data import DataLoader, Subset\n",
    "from torchvision import datasets, transforms\n",
    "import numpy as np\n",
    "from sklearn.metrics import accuracy_score\n",
    "from matplotlib import pyplot as plt\n",
    "\n",
    "# Device configuration\n",
    "device = torch.device(\"cuda\" if torch.cuda.is_available() else \"cpu\")"
   ]
  },
  {
   "cell_type": "code",
   "execution_count": 43,
   "id": "7bb99619",
   "metadata": {
    "scrolled": false
   },
   "outputs": [],
   "source": [
    "# Load and normalize the MNIST dataset\n",
    "transform = transforms.Compose([transforms.ToTensor(), transforms.Normalize((0.5,), (0.5,))])\n",
    "\n",
    "full_train_dataset = datasets.MNIST(root=\"data\", train=True, download=True, transform=transform)\n",
    "full_test_dataset = datasets.MNIST(root=\"data\", train=False, download=True, transform=transform)\n",
    "\n",
    "\n",
    "train_subset = Subset(full_train_dataset, torch.arange(5000))\n",
    "test_subset = Subset(full_test_dataset, torch.arange(1000))\n",
    "\n",
    "train_loader = DataLoader(train_subset, batch_size=60, shuffle=True)\n",
    "test_loader = DataLoader(test_subset, batch_size=60, shuffle=True)"
   ]
  },
  {
   "cell_type": "markdown",
   "id": "98245dcb",
   "metadata": {},
   "source": [
    "### Train a Neural Net Without Batch Normalization"
   ]
  },
  {
   "cell_type": "code",
   "execution_count": 73,
   "id": "ec632931",
   "metadata": {},
   "outputs": [],
   "source": [
    "# Define the model\n",
    "class MNISTClassifier(nn.Module):\n",
    "    def __init__(self):\n",
    "        super().__init__()\n",
    "        self.network = nn.Sequential(\n",
    "            nn.Flatten(),\n",
    "            nn.Linear(28*28, 128),  \n",
    "            nn.ReLU(),\n",
    "            nn.Linear(128, 64), \n",
    "            nn.ReLU(),\n",
    "            nn.Linear(64, 10)\n",
    "        )\n",
    "\n",
    "    def forward(self, x):\n",
    "        return self.network(x)"
   ]
  },
  {
   "cell_type": "code",
   "execution_count": 74,
   "id": "92192dfd",
   "metadata": {},
   "outputs": [],
   "source": [
    "def train_model(model, train_loader, test_loader, optimizer, criterion, epochs=5):\n",
    "    \n",
    "    val_accuracies = []\n",
    "    \n",
    "    for epoch in range(epochs):\n",
    "        # Training \n",
    "        model.train()\n",
    "        for batch, (images, labels) in enumerate(train_loader):\n",
    "            images = images.to(device)\n",
    "            labels = labels.to(device)\n",
    "            optimizer.zero_grad()          # Zero the gradients\n",
    "            outputs = model(images)        # Forward pass\n",
    "            loss = criterion(outputs, labels) # Compute loss\n",
    "            loss.backward()                # Backpropagate\n",
    "            optimizer.step()               # Update weights\n",
    "            \n",
    "            if batch%100 == 0:\n",
    "                print(f\"Epoch {epoch}, Batch: {batch}, Train Loss: {loss.item():0.2f}\")\n",
    "            \n",
    "        \n",
    "        # Evaluation\n",
    "        model.eval()\n",
    "        y_pred, y_true = [], []\n",
    "        with torch.no_grad():\n",
    "            for inputs, labels in test_loader:\n",
    "                inputs, labels = inputs.to(device), labels.to(device)\n",
    "                outputs = model(inputs)\n",
    "                loss = criterion(outputs, labels)\n",
    "                _, predicted = torch.max(outputs, 1)\n",
    "                y_pred.extend(predicted.cpu().numpy())\n",
    "                y_true.extend(labels.cpu().numpy())\n",
    "        val_accuracy = accuracy_score(y_true, y_pred)\n",
    "        val_accuracies.append(val_accuracy)\n",
    "        \n",
    "    return val_accuracies"
   ]
  },
  {
   "cell_type": "code",
   "execution_count": 87,
   "id": "d3b0287b",
   "metadata": {},
   "outputs": [
    {
     "name": "stdout",
     "output_type": "stream",
     "text": [
      "Epoch 0, Batch: 0, Train Loss: 2.32\n",
      "Epoch 1, Batch: 0, Train Loss: 0.46\n",
      "Epoch 2, Batch: 0, Train Loss: 0.32\n",
      "Epoch 3, Batch: 0, Train Loss: 0.29\n",
      "Epoch 4, Batch: 0, Train Loss: 0.16\n",
      "Epoch 5, Batch: 0, Train Loss: 0.27\n",
      "Epoch 6, Batch: 0, Train Loss: 0.22\n",
      "Epoch 7, Batch: 0, Train Loss: 0.20\n",
      "Epoch 8, Batch: 0, Train Loss: 0.19\n",
      "Epoch 9, Batch: 0, Train Loss: 0.28\n"
     ]
    }
   ],
   "source": [
    "# Instantiate the model, define loss function and optimizer\n",
    "model = MNISTClassifier().to(device)\n",
    "criterion = nn.CrossEntropyLoss()\n",
    "optimizer = optim.Adam(model.parameters(), lr=0.001)\n",
    "\n",
    "val_accuracies_no_bn = train_model(model, train_loader, test_loader, optimizer, criterion, 10)"
   ]
  },
  {
   "cell_type": "code",
   "execution_count": 88,
   "id": "01aa56be",
   "metadata": {
    "scrolled": true
   },
   "outputs": [
    {
     "name": "stdout",
     "output_type": "stream",
     "text": [
      "[0.844, 0.862, 0.881, 0.886, 0.874, 0.896, 0.898, 0.897, 0.897, 0.897]\n"
     ]
    }
   ],
   "source": [
    "print(val_accuracies_no_bn)"
   ]
  },
  {
   "cell_type": "markdown",
   "id": "769ecbdd",
   "metadata": {},
   "source": [
    "### With Batch Normalization"
   ]
  },
  {
   "cell_type": "code",
   "execution_count": 93,
   "id": "5c10a105",
   "metadata": {},
   "outputs": [],
   "source": [
    "# Define the model\n",
    "class MNISTClassifierWithBN(nn.Module):\n",
    "    def __init__(self):\n",
    "        super().__init__()\n",
    "        self.network = nn.Sequential(\n",
    "            nn.Flatten(),\n",
    "            nn.Linear(28*28, 128),  \n",
    "            nn.BatchNorm1d(128),\n",
    "            nn.ReLU(),\n",
    "            nn.Linear(128, 64), \n",
    "            nn.BatchNorm1d(64),\n",
    "            nn.ReLU(),\n",
    "            nn.Linear(64, 10)\n",
    "        )\n",
    "\n",
    "    def forward(self, x):\n",
    "        return self.network(x)"
   ]
  },
  {
   "cell_type": "code",
   "execution_count": 98,
   "id": "bdf9b9f5",
   "metadata": {},
   "outputs": [
    {
     "name": "stdout",
     "output_type": "stream",
     "text": [
      "Epoch 0, Batch: 0, Train Loss: 2.41\n",
      "Epoch 1, Batch: 0, Train Loss: 0.42\n",
      "Epoch 2, Batch: 0, Train Loss: 0.15\n",
      "Epoch 3, Batch: 0, Train Loss: 0.20\n",
      "Epoch 4, Batch: 0, Train Loss: 0.13\n",
      "Epoch 5, Batch: 0, Train Loss: 0.04\n",
      "Epoch 6, Batch: 0, Train Loss: 0.01\n",
      "Epoch 7, Batch: 0, Train Loss: 0.02\n",
      "Epoch 8, Batch: 0, Train Loss: 0.01\n",
      "Epoch 9, Batch: 0, Train Loss: 0.02\n"
     ]
    }
   ],
   "source": [
    "# Instantiate the model, define loss function and optimizer\n",
    "model_with_bn = MNISTClassifierWithBN().to(device)\n",
    "criterion_with_bn = nn.CrossEntropyLoss()\n",
    "optimizer_with_bn = optim.Adam(model_with_bn.parameters(), lr=0.001)\n",
    "\n",
    "val_accuracies_with_bn = train_model(model_with_bn, train_loader, test_loader, optimizer_with_bn, criterion_with_bn, 10)"
   ]
  },
  {
   "cell_type": "code",
   "execution_count": 99,
   "id": "73a5d061",
   "metadata": {},
   "outputs": [
    {
     "data": {
      "text/plain": [
       "[0.879, 0.918, 0.929, 0.924, 0.926, 0.927, 0.937, 0.929, 0.941, 0.931]"
      ]
     },
     "execution_count": 99,
     "metadata": {},
     "output_type": "execute_result"
    }
   ],
   "source": [
    "val_accuracies_with_bn"
   ]
  },
  {
   "cell_type": "code",
   "execution_count": 100,
   "id": "f42fccb1",
   "metadata": {},
   "outputs": [
    {
     "data": {
      "image/png": "[encoded data removed]",
      "text/plain": [
       "<Figure size 640x480 with 1 Axes>"
      ]
     },
     "metadata": {},
     "output_type": "display_data"
    }
   ],
   "source": [
    "plt.plot(val_accuracies_no_bn, label=\"Validation Accuracy (No Batch)\")\n",
    "plt.plot(val_accuracies_with_bn, label=\"Validation Accuracy (With Batch)\")\n",
    "plt.legend()\n",
    "plt.show()"
   ]
  }
 ],
 "metadata": {
  "kernelspec": {
   "display_name": "myenv_cb_dl",
   "language": "python",
   "name": "python3"
  },
  "language_info": {
   "codemirror_mode": {
    "name": "ipython",
    "version": 3
   },
   "file_extension": ".py",
   "mimetype": "text/x-python",
   "name": "python",
   "nbconvert_exporter": "python",
   "pygments_lexer": "ipython3",
   "version": "3.8.20"
  }
 },
 "nbformat": 4,
 "nbformat_minor": 5
}
