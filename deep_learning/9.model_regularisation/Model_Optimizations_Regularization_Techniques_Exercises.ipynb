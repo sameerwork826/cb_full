{
  "cells": [
    {
      "cell_type": "markdown",
      "metadata": {
        "id": "jKQ4bimgnLZP"
      },
      "source": [
        "# Problem Statement: **AtliQ's Customer Churn Prediction**\n",
        "\n",
        "### Welcome to AtliQ Electronics, a leading consumer electronics retailer! AtliQ has been facing customer churn issues and is building an AI-powered predictive model to identify customers likely to discontinue their services. However, the data science team observed that the model tends to overfit the training data, leading to poor generalization on new data. Your task is to implement and compare different regularization techniques to build a robust and accurate churn prediction model.\n",
        "\n",
        "\n",
        "**References**\n",
        "\n",
        "* Batchnorm1d (PyTorch): [Link](https://pytorch.org/docs/stable/generated/torch.nn.BatchNorm1d.html)\n"
      ]
    },
    {
      "cell_type": "markdown",
      "metadata": {
        "id": "nB2zACC84i0x"
      },
      "source": [
        "Imports and CUDA"
      ]
    },
    {
      "cell_type": "code",
      "execution_count": 1,
      "metadata": {
        "id": "hv5okv7X4kiN"
      },
      "outputs": [
        {
          "name": "stdout",
          "output_type": "stream",
          "text": [
            "Using device: cuda\n"
          ]
        }
      ],
      "source": [
        "import torch\n",
        "import numpy as np\n",
        "import torch.nn as nn\n",
        "import torch.optim as optim\n",
        "from torch.utils.data import DataLoader, TensorDataset\n",
        "from sklearn.metrics import accuracy_score, confusion_matrix\n",
        "import matplotlib.pyplot as plt\n",
        "import pandas as pd\n",
        "import seaborn as sns\n",
        "from sklearn.model_selection import train_test_split\n",
        "from sklearn.preprocessing import MinMaxScaler, StandardScaler\n",
        "\n",
        "# Check if CUDA (GPU) is available\n",
        "device = torch.device('cuda' if torch.cuda.is_available() else 'cpu')\n",
        "print(f\"Using device: {device}\")"
      ]
    },
    {
      "cell_type": "markdown",
      "metadata": {
        "id": "bexc1B_IaiNU"
      },
      "source": [
        "### Let's do some revisoin first and test your basic understanding of this module!"
      ]
    },
    {
      "cell_type": "markdown",
      "metadata": {
        "id": "gmftSYXMawJK"
      },
      "source": [
        "Problem1: **Effect of L1 Regularization on Sparsity in AtliQ's AI Models**\n",
        "\n",
        "AtliQ is optimizing its AI models to reduce unnecessary complexity. You are given the following weights from one of AtliQ's neural network layers:\n",
        "\n",
        "\n",
        "\n",
        "```\n",
        "weights = torch.tensor([0.5, -0.3, 0.8, -1.5], requires_grad=True)\n",
        "```\n",
        "\n",
        "Write a PyTorch snippet to compute the L1 regularization term ``` (|w1| + |w2| + ...) ``` and calculate its gradient using backward().\n"
      ]
    },
    {
      "cell_type": "code",
      "execution_count": 5,
      "metadata": {
        "id": "cgXxBUt2eQ5h"
      },
      "outputs": [
        {
          "name": "stdout",
          "output_type": "stream",
          "text": [
            "L1 Regularization: 3.1000\n",
            "Gradients: tensor([ 1., -1.,  1., -1.])\n"
          ]
        }
      ],
      "source": [
        "# weights\n",
        "weights = torch.tensor([0.5,-0.3,0.8,-1.5],requires_grad=True)\n",
        "\n",
        "# Compute L1 regularization term\n",
        "l1_regularization = torch.sum(torch.abs(weights))\n",
        "\n",
        "# compute gradients\n",
        "l1_regularization.backward()\n",
        "# Output gradients\n",
        "print(f\"L1 Regularization: {l1_regularization.item():.4f}\")\n",
        "print(f\"Gradients: {weights.grad}\")"
      ]
    },
    {
      "cell_type": "markdown",
      "metadata": {
        "id": "SBMQibCFevih"
      },
      "source": [
        "\n",
        "\n",
        "---\n",
        "\n"
      ]
    },
    {
      "cell_type": "markdown",
      "metadata": {
        "id": "HNIBQL9NewoF"
      },
      "source": [
        "Problem2: **Batch Normalization of AtliQ's Marketing Data**\n",
        "\n",
        "AtliQ has collected a mini-batch of marketing data:\n",
        "\n",
        "`inputs = torch.tensor([[10.0, 20.0], [15.0, 25.0], [12.0, 18.0]])`\n",
        "\n",
        "Manually implement the forward pass of Batch Normalization. Normalize the data using:\n",
        "\n",
        "$$Normalized= X-μ / σ$$\n",
        "\n",
        "Here, μ is the mean of each feature, and σ is the standard deviation.\n",
        "\n",
        "Write code to compute the normalized data without using `nn.BatchNorm`.\n",
        "\n",
        "\n",
        "\n"
      ]
    },
    {
      "cell_type": "code",
      "execution_count": 8,
      "metadata": {
        "id": "CpSgXDgzfZVj"
      },
      "outputs": [
        {
          "name": "stdout",
          "output_type": "stream",
          "text": [
            "Inputs:\n",
            "tensor([[10., 20.],\n",
            "        [15., 25.],\n",
            "        [12., 18.]])\n",
            "Mean: tensor([12.3333, 21.0000])\n",
            "Standard Deviation: tensor([2.5166, 3.6056])\n",
            "Normalized Outputs:\n",
            "tensor([[-0.9272, -0.2774],\n",
            "        [ 1.0596,  1.1094],\n",
            "        [-0.1325, -0.8321]])\n"
          ]
        }
      ],
      "source": [
        "# inputs\n",
        "inputs = torch.tensor([[10.0, 20.0], [15.0, 25.0], [12.0, 18.0]])\n",
        "\n",
        "# compute mean and standard deviation along each column (feature)\n",
        "mean = inputs.mean(dim=0)\n",
        "std = inputs.std(dim=0)\n",
        "\n",
        "# normalize the input\n",
        "normalized =(inputs-mean)/std\n",
        "\n",
        "print(f\"Inputs:\\n{inputs}\")\n",
        "print(f\"Mean: {mean}\")\n",
        "print(f\"Standard Deviation: {std}\")\n",
        "print(f\"Normalized Outputs:\\n{normalized}\")"
      ]
    },
    {
      "cell_type": "markdown",
      "metadata": {
        "id": "3GNmDoQ6f3gJ"
      },
      "source": [
        "\n",
        "\n",
        "---\n",
        "\n"
      ]
    },
    {
      "cell_type": "markdown",
      "metadata": {
        "id": "CQfmadAunB37"
      },
      "source": [
        "### Task: **AtliQ's Customer Churn Prediction**\n",
        "\n"
      ]
    },
    {
      "cell_type": "markdown",
      "metadata": {
        "id": "iBmVAgUzniwO"
      },
      "source": [
        "**Dataset Description**\n",
        "\n",
        "You are provided with 5000 customer records and 6 features that describe customer behavior over the past 12 months. The provided dataset (**AtliQ_Churn_Prediction_Codebasics_DL.csv)** includes the following attributes:\n",
        "\n",
        "* Purchase_History\n",
        "* Support_Tickets\n",
        "* Last_Purchase_Months\n",
        "* Product_Categories\n",
        "* Satisfaction_Score\n",
        "* Discount_Usage_Rate\n",
        "\n",
        "Target Variable:\n",
        "\n",
        "* Churned: 1 if the customer has churned, 0 otherwise."
      ]
    },
    {
      "cell_type": "markdown",
      "metadata": {
        "id": "kwMQWwt3ohSW"
      },
      "source": [
        "**Step1**: Load and Prepare the Dataset"
      ]
    },
    {
      "cell_type": "code",
      "execution_count": 15,
      "metadata": {
        "id": "8O0bKZ5rolPH"
      },
      "outputs": [
        {
          "name": "stdout",
          "output_type": "stream",
          "text": [
            "<class 'pandas.core.frame.DataFrame'>\n",
            "RangeIndex: 5000 entries, 0 to 4999\n",
            "Data columns (total 7 columns):\n",
            " #   Column                Non-Null Count  Dtype  \n",
            "---  ------                --------------  -----  \n",
            " 0   Purchase_History      5000 non-null   int64  \n",
            " 1   Support_Tickets       5000 non-null   int64  \n",
            " 2   Last_Purchase_Months  5000 non-null   int64  \n",
            " 3   Product_Categories    5000 non-null   int64  \n",
            " 4   Satisfaction_Score    5000 non-null   float64\n",
            " 5   Discount_Usage_Rate   5000 non-null   float64\n",
            " 6   Churned               5000 non-null   int64  \n",
            "dtypes: float64(2), int64(5)\n",
            "memory usage: 273.6 KB\n"
          ]
        }
      ],
      "source": [
        "# Load dataset\n",
        "data = pd.read_csv(\"AtliQ_Churn_Prediction_Codebasics_DL.csv\")\n",
        "\n",
        "# Separate features and target\n",
        "x = data.drop(\"Churned\", axis=1).values\n",
        "y = data['Churned'].values\n",
        "\n",
        "data.info()"
      ]
    },
    {
      "cell_type": "markdown",
      "metadata": {
        "id": "JZSypSRR4rAf"
      },
      "source": [
        "\n",
        "\n",
        "---\n",
        "\n"
      ]
    },
    {
      "cell_type": "markdown",
      "metadata": {
        "id": "99dir8N4ovsK"
      },
      "source": [
        "**Step2**: Split the Dataset\n",
        "\n",
        "Train : Test :: 70 : 30"
      ]
    },
    {
      "cell_type": "markdown",
      "metadata": {
        "id": "Lbvye_8I4sFs"
      },
      "source": [
        "\n",
        "\n",
        "---\n",
        "\n"
      ]
    },
    {
      "cell_type": "code",
      "execution_count": 16,
      "metadata": {
        "id": "6RibvycYpBb8"
      },
      "outputs": [],
      "source": [
        "# Split data\n",
        "x_train, x_test, y_train, y_test = train_test_split(x,y,test_size=0.2,random_state=32)"
      ]
    },
    {
      "cell_type": "markdown",
      "metadata": {
        "id": "_ILShmPy4tc9"
      },
      "source": [
        "\n",
        "\n",
        "---\n",
        "\n"
      ]
    },
    {
      "cell_type": "markdown",
      "metadata": {
        "id": "RukDY2i9pNDY"
      },
      "source": [
        "**Step3**: Normalize the features\n",
        "\n"
      ]
    },
    {
      "cell_type": "code",
      "execution_count": 17,
      "metadata": {
        "id": "LDyxZDo3pSFW"
      },
      "outputs": [],
      "source": [
        "scaler = StandardScaler()\n",
        "X_train = scaler.fit_transform(x_train)\n",
        "X_test = scaler.fit_transform(x_test)"
      ]
    },
    {
      "cell_type": "markdown",
      "metadata": {
        "id": "KyVTFdaM4um3"
      },
      "source": [
        "\n",
        "\n",
        "---\n",
        "\n"
      ]
    },
    {
      "cell_type": "markdown",
      "metadata": {
        "id": "JxnXxajZpcQZ"
      },
      "source": [
        "**Step4**: Convert to PyTorch Tensors"
      ]
    },
    {
      "cell_type": "code",
      "execution_count": 22,
      "metadata": {
        "id": "rBpxi2svpgvP"
      },
      "outputs": [],
      "source": [
        "X_train_tensor = torch.tensor(X_train, dtype=torch.float32)\n",
        "y_train_tensor = torch.tensor(y_train, dtype=torch.float32).unsqueeze(1)\n",
        "X_test_tensor = torch.tensor(X_test, dtype=torch.float32)\n",
        "y_test_tensor = torch.tensor(y_test, dtype=torch.float32).unsqueeze(1)"
      ]
    },
    {
      "cell_type": "markdown",
      "metadata": {
        "id": "LcLqDUMT4viD"
      },
      "source": [
        "\n",
        "\n",
        "---\n",
        "\n"
      ]
    },
    {
      "cell_type": "markdown",
      "metadata": {
        "id": "_qAlu0tApj2K"
      },
      "source": [
        "**Step5**: Build a Base Model (without regularization)\n",
        "\n",
        "Details:\n",
        "* Input layer: 6 features\n",
        "* Hidden layers: Two layers with 32 and 16 neurons (ReLU activation)\n",
        "* Output layer: 1 neuron (Sigmoid activation for binary classification)\n",
        "* Train for 30 epochs, batch size = 32, learning rate = 0.01.\n",
        "* Use **BCELoss** and **SGD** as Optimizer"
      ]
    },
    {
      "cell_type": "code",
      "execution_count": 24,
      "metadata": {
        "id": "AtZBzVDKp6L3"
      },
      "outputs": [],
      "source": [
        "class BaseModel(nn.Module):\n",
        "    def __init__(self):\n",
        "        super(BaseModel, self).__init__()\n",
        "        self.network = nn.Sequential(\n",
        "            nn.Linear(6,32),  #input +hid1\n",
        "            nn.ReLU(),\n",
        "            nn.Linear(32,16),#Input hid2\n",
        "            nn.ReLU(),\n",
        "            nn.Linear(16,1),\n",
        "            nn.Sigmoid()\n",
        "            \n",
        "        )\n",
        "\n",
        "    def forward(self, x):\n",
        "        return self.network(x)\n",
        "\n",
        "model = BaseModel()\n",
        "loss_function = nn.BCELoss()\n",
        "optimizer = optim.SGD(model.parameters(), lr=0.01)\n"
      ]
    },
    {
      "cell_type": "markdown",
      "metadata": {
        "id": "kYK_BFqf4xoA"
      },
      "source": [
        "\n",
        "\n",
        "---\n",
        "\n"
      ]
    },
    {
      "cell_type": "markdown",
      "metadata": {
        "id": "1tWnv--JqwPR"
      },
      "source": [
        "**Step6**: Train the Base Model\n",
        "\n",
        "* epochs = 30\n",
        "* batch size = 32"
      ]
    },
    {
      "cell_type": "code",
      "execution_count": 27,
      "metadata": {
        "id": "pWC7Y0G5q2pt"
      },
      "outputs": [
        {
          "name": "stdout",
          "output_type": "stream",
          "text": [
            "Epoch 1, Training Loss: 0.6165, Validation Loss: 0.6160\n",
            "Epoch 2, Training Loss: 0.6154, Validation Loss: 0.6156\n",
            "Epoch 3, Training Loss: 0.6149, Validation Loss: 0.6155\n",
            "Epoch 4, Training Loss: 0.6146, Validation Loss: 0.6154\n",
            "Epoch 5, Training Loss: 0.6144, Validation Loss: 0.6153\n",
            "Epoch 6, Training Loss: 0.6142, Validation Loss: 0.6153\n",
            "Epoch 7, Training Loss: 0.6141, Validation Loss: 0.6152\n",
            "Epoch 8, Training Loss: 0.6139, Validation Loss: 0.6152\n",
            "Epoch 9, Training Loss: 0.6138, Validation Loss: 0.6152\n",
            "Epoch 10, Training Loss: 0.6137, Validation Loss: 0.6152\n",
            "Epoch 11, Training Loss: 0.6136, Validation Loss: 0.6151\n",
            "Epoch 12, Training Loss: 0.6135, Validation Loss: 0.6151\n",
            "Epoch 13, Training Loss: 0.6134, Validation Loss: 0.6151\n",
            "Epoch 14, Training Loss: 0.6134, Validation Loss: 0.6151\n",
            "Epoch 15, Training Loss: 0.6133, Validation Loss: 0.6151\n",
            "Epoch 16, Training Loss: 0.6132, Validation Loss: 0.6151\n",
            "Epoch 17, Training Loss: 0.6132, Validation Loss: 0.6151\n",
            "Epoch 18, Training Loss: 0.6131, Validation Loss: 0.6151\n",
            "Epoch 19, Training Loss: 0.6131, Validation Loss: 0.6151\n",
            "Epoch 20, Training Loss: 0.6130, Validation Loss: 0.6151\n",
            "Epoch 21, Training Loss: 0.6130, Validation Loss: 0.6151\n",
            "Epoch 22, Training Loss: 0.6130, Validation Loss: 0.6151\n",
            "Epoch 23, Training Loss: 0.6129, Validation Loss: 0.6151\n",
            "Epoch 24, Training Loss: 0.6129, Validation Loss: 0.6151\n",
            "Epoch 25, Training Loss: 0.6128, Validation Loss: 0.6151\n",
            "Epoch 26, Training Loss: 0.6128, Validation Loss: 0.6151\n",
            "Epoch 27, Training Loss: 0.6128, Validation Loss: 0.6151\n",
            "Epoch 28, Training Loss: 0.6127, Validation Loss: 0.6151\n",
            "Epoch 29, Training Loss: 0.6127, Validation Loss: 0.6151\n",
            "Epoch 30, Training Loss: 0.6127, Validation Loss: 0.6151\n"
          ]
        },
        {
          "data": {
            "image/png": "[encoded data removed]",
            "text/plain": [
              "<Figure size 640x480 with 1 Axes>"
            ]
          },
          "metadata": {},
          "output_type": "display_data"
        }
      ],
      "source": [
        "# Train the model\n",
        "epochs =30\n",
        "batch_size =32\n",
        "num_batches = len(X_train_tensor) // batch_size\n",
        "\n",
        "train_loss_history = []\n",
        "val_loss_history = []\n",
        "\n",
        "for epoch in range(epochs):\n",
        "    model.train()\n",
        "    epoch_loss = 0\n",
        "\n",
        "    for i in range(num_batches):\n",
        "        X_batch = X_train_tensor[i*batch_size:(i+1)*batch_size]\n",
        "        y_batch = y_train_tensor[i*batch_size:(i+1)*batch_size]\n",
        "\n",
        "        optimizer.zero_grad()\n",
        "        y_pred = model(X_batch)\n",
        "        loss = loss_function(y_pred,y_batch)\n",
        "        loss.backward()\n",
        "        optimizer.step()\n",
        "        epoch_loss += loss.item()\n",
        "\n",
        "    train_loss_history.append(epoch_loss / num_batches)\n",
        "\n",
        "    # Validation loss\n",
        "    model.eval()\n",
        "    with torch.no_grad():\n",
        "        val_predictions = model(X_test_tensor)\n",
        "        val_loss = loss_function(val_predictions,y_test_tensor)\n",
        "        val_loss_history.append(val_loss.item())\n",
        "\n",
        "    print(f\"Epoch {epoch+1}, Training Loss: {epoch_loss/num_batches:.4f}, Validation Loss: {val_loss.item():.4f}\")\n",
        "\n",
        "# Plot training vs validation loss\n",
        "plt.plot(range(1, epochs+1), train_loss_history, label=\"Training Loss\")\n",
        "plt.plot(range(1, epochs+1), val_loss_history, label=\"Validation Loss\")\n",
        "plt.xlabel(\"Epochs\")\n",
        "plt.ylabel(\"Loss\")\n",
        "plt.legend()\n",
        "plt.title(\"Training vs Validation Loss\")\n",
        "plt.show()"
      ]
    },
    {
      "cell_type": "markdown",
      "metadata": {
        "id": "fOmDLuyo40km"
      },
      "source": [
        "\n",
        "\n",
        "---\n",
        "\n"
      ]
    },
    {
      "cell_type": "markdown",
      "metadata": {
        "id": "7V84oNACrIJQ"
      },
      "source": [
        "**Step7**: Implement Dropout Regularization\n",
        "\n",
        "Modify the base model to include dropout layers after each dense layer.\n",
        "* Experiment with dropout rate 0.4."
      ]
    },
    {
      "cell_type": "code",
      "execution_count": 28,
      "metadata": {
        "id": "Dvx5sbvSrar3"
      },
      "outputs": [],
      "source": [
        "class DropoutModel(nn.Module):\n",
        "    def __init__(self):\n",
        "        super(DropoutModel, self).__init__()\n",
        "        self.network = nn.Sequential(\n",
        "            nn.Linear(6, 32),\n",
        "            nn.ReLU(),\n",
        "            nn.Dropout(0.4),\n",
        "            nn.Linear(32, 16),\n",
        "            nn.ReLU(),\n",
        "            nn.Dropout(0.4),\n",
        "            nn.Linear(16, 1),\n",
        "            nn.Sigmoid()\n",
        "        )\n",
        "\n",
        "    def forward(self, x):\n",
        "        return self.network(x)\n",
        "\n",
        "dropout_model = DropoutModel()\n",
        "optimizer_dropout = optim.SGD(dropout_model.parameters(), lr=0.01)\n"
      ]
    },
    {
      "cell_type": "markdown",
      "metadata": {
        "id": "fh1ZHA8p42QV"
      },
      "source": [
        "\n",
        "\n",
        "---\n",
        "\n"
      ]
    },
    {
      "cell_type": "markdown",
      "metadata": {
        "id": "99hKQHYJ1Smo"
      },
      "source": [
        "**Step8**: Training Process for Dropout Regularization"
      ]
    },
    {
      "cell_type": "code",
      "execution_count": 30,
      "metadata": {
        "id": "QSb6ZjA31YV9"
      },
      "outputs": [
        {
          "name": "stdout",
          "output_type": "stream",
          "text": [
            "Epoch 1, Training Loss: 0.6448, Validation Loss: 0.6312\n",
            "Epoch 2, Training Loss: 0.6299, Validation Loss: 0.6227\n",
            "Epoch 3, Training Loss: 0.6238, Validation Loss: 0.6196\n",
            "Epoch 4, Training Loss: 0.6231, Validation Loss: 0.6187\n",
            "Epoch 5, Training Loss: 0.6199, Validation Loss: 0.6180\n",
            "Epoch 6, Training Loss: 0.6193, Validation Loss: 0.6176\n",
            "Epoch 7, Training Loss: 0.6201, Validation Loss: 0.6173\n",
            "Epoch 8, Training Loss: 0.6198, Validation Loss: 0.6173\n",
            "Epoch 9, Training Loss: 0.6186, Validation Loss: 0.6171\n",
            "Epoch 10, Training Loss: 0.6192, Validation Loss: 0.6170\n",
            "Epoch 11, Training Loss: 0.6168, Validation Loss: 0.6169\n",
            "Epoch 12, Training Loss: 0.6165, Validation Loss: 0.6169\n",
            "Epoch 13, Training Loss: 0.6155, Validation Loss: 0.6168\n",
            "Epoch 14, Training Loss: 0.6156, Validation Loss: 0.6167\n",
            "Epoch 15, Training Loss: 0.6150, Validation Loss: 0.6166\n",
            "Epoch 16, Training Loss: 0.6145, Validation Loss: 0.6166\n",
            "Epoch 17, Training Loss: 0.6139, Validation Loss: 0.6166\n",
            "Epoch 18, Training Loss: 0.6161, Validation Loss: 0.6166\n",
            "Epoch 19, Training Loss: 0.6143, Validation Loss: 0.6165\n",
            "Epoch 20, Training Loss: 0.6144, Validation Loss: 0.6164\n",
            "Epoch 21, Training Loss: 0.6152, Validation Loss: 0.6164\n",
            "Epoch 22, Training Loss: 0.6135, Validation Loss: 0.6163\n",
            "Epoch 23, Training Loss: 0.6146, Validation Loss: 0.6163\n",
            "Epoch 24, Training Loss: 0.6148, Validation Loss: 0.6162\n",
            "Epoch 25, Training Loss: 0.6150, Validation Loss: 0.6163\n",
            "Epoch 26, Training Loss: 0.6157, Validation Loss: 0.6162\n",
            "Epoch 27, Training Loss: 0.6148, Validation Loss: 0.6162\n",
            "Epoch 28, Training Loss: 0.6147, Validation Loss: 0.6162\n",
            "Epoch 29, Training Loss: 0.6146, Validation Loss: 0.6162\n",
            "Epoch 30, Training Loss: 0.6130, Validation Loss: 0.6162\n"
          ]
        },
        {
          "data": {
            "image/png": "[encoded data removed]",
            "text/plain": [
              "<Figure size 640x480 with 1 Axes>"
            ]
          },
          "metadata": {},
          "output_type": "display_data"
        }
      ],
      "source": [
        "# Train the model for Dropout Regularization (Similar training process as above)\n",
        "epochs =30\n",
        "batch_size =32\n",
        "num_batches = len(X_train_tensor) // batch_size\n",
        "\n",
        "train_loss_history = []\n",
        "val_loss_history = []\n",
        "\n",
        "for epoch in range(epochs):\n",
        "    dropout_model.train()\n",
        "    epoch_loss = 0\n",
        "\n",
        "    for i in range(num_batches):\n",
        "        X_batch = X_train_tensor[i*batch_size:(i+1)*batch_size]\n",
        "        y_batch = y_train_tensor[i*batch_size:(i+1)*batch_size]\n",
        "\n",
        "        optimizer_dropout.zero_grad()\n",
        "        y_pred = dropout_model(X_batch)\n",
        "        loss = loss_function(y_pred,y_batch)\n",
        "        loss.backward()\n",
        "        optimizer_dropout.step()\n",
        "        epoch_loss += loss.item()\n",
        "\n",
        "    train_loss_history.append(epoch_loss / num_batches)\n",
        "\n",
        "    # Validation loss\n",
        "    dropout_model.eval()\n",
        "    with torch.no_grad():\n",
        "        val_predictions = dropout_model(X_test_tensor)\n",
        "        val_loss = loss_function(val_predictions,y_test_tensor)\n",
        "        val_loss_history.append(val_loss.item())\n",
        "\n",
        "    print(f\"Epoch {epoch+1}, Training Loss: {epoch_loss/num_batches:.4f}, Validation Loss: {val_loss.item():.4f}\")\n",
        "\n",
        "# Plot training vs validation loss\n",
        "plt.plot(range(1, epochs+1), train_loss_history, label=\"Training Loss\")\n",
        "plt.plot(range(1, epochs+1), val_loss_history, label=\"Validation Loss\")\n",
        "plt.xlabel(\"Epochs\")\n",
        "plt.ylabel(\"Loss\")\n",
        "plt.legend()\n",
        "plt.title(\"Training vs Validation Loss\")\n",
        "plt.show()"
      ]
    },
    {
      "cell_type": "markdown",
      "metadata": {
        "id": "jNzZBOkD451z"
      },
      "source": [
        "\n",
        "\n",
        "---\n",
        "\n"
      ]
    },
    {
      "cell_type": "markdown",
      "metadata": {
        "id": "k5WJWr332ocK"
      },
      "source": [
        "**Step9**: Apply L2 Regularization\n",
        "\n",
        "* Use `torch.optim.SGD` with `weight_decay=0.1` for L2 regularization.\n",
        "* Train the model and monitor validation loss and accuracy."
      ]
    },
    {
      "cell_type": "code",
      "execution_count": 32,
      "metadata": {
        "id": "MJDhFWoZ1SNy"
      },
      "outputs": [
        {
          "name": "stdout",
          "output_type": "stream",
          "text": [
            "Epoch 1, Training Loss: 0.6130, Validation Loss: 0.6162\n",
            "Epoch 2, Training Loss: 0.6130, Validation Loss: 0.6162\n",
            "Epoch 3, Training Loss: 0.6130, Validation Loss: 0.6162\n",
            "Epoch 4, Training Loss: 0.6130, Validation Loss: 0.6162\n",
            "Epoch 5, Training Loss: 0.6130, Validation Loss: 0.6162\n",
            "Epoch 6, Training Loss: 0.6130, Validation Loss: 0.6162\n",
            "Epoch 7, Training Loss: 0.6130, Validation Loss: 0.6162\n",
            "Epoch 8, Training Loss: 0.6130, Validation Loss: 0.6162\n",
            "Epoch 9, Training Loss: 0.6130, Validation Loss: 0.6162\n",
            "Epoch 10, Training Loss: 0.6130, Validation Loss: 0.6162\n",
            "Epoch 11, Training Loss: 0.6130, Validation Loss: 0.6162\n",
            "Epoch 12, Training Loss: 0.6130, Validation Loss: 0.6162\n",
            "Epoch 13, Training Loss: 0.6130, Validation Loss: 0.6162\n",
            "Epoch 14, Training Loss: 0.6130, Validation Loss: 0.6162\n",
            "Epoch 15, Training Loss: 0.6130, Validation Loss: 0.6162\n",
            "Epoch 16, Training Loss: 0.6130, Validation Loss: 0.6162\n",
            "Epoch 17, Training Loss: 0.6130, Validation Loss: 0.6162\n",
            "Epoch 18, Training Loss: 0.6130, Validation Loss: 0.6162\n",
            "Epoch 19, Training Loss: 0.6130, Validation Loss: 0.6162\n",
            "Epoch 20, Training Loss: 0.6130, Validation Loss: 0.6162\n",
            "Epoch 21, Training Loss: 0.6130, Validation Loss: 0.6162\n",
            "Epoch 22, Training Loss: 0.6130, Validation Loss: 0.6162\n",
            "Epoch 23, Training Loss: 0.6130, Validation Loss: 0.6162\n",
            "Epoch 24, Training Loss: 0.6130, Validation Loss: 0.6162\n",
            "Epoch 25, Training Loss: 0.6130, Validation Loss: 0.6162\n",
            "Epoch 26, Training Loss: 0.6130, Validation Loss: 0.6162\n",
            "Epoch 27, Training Loss: 0.6130, Validation Loss: 0.6162\n",
            "Epoch 28, Training Loss: 0.6130, Validation Loss: 0.6162\n",
            "Epoch 29, Training Loss: 0.6130, Validation Loss: 0.6162\n",
            "Epoch 30, Training Loss: 0.6130, Validation Loss: 0.6162\n"
          ]
        },
        {
          "data": {
            "image/png": "[encoded data removed]",
            "text/plain": [
              "<Figure size 640x480 with 1 Axes>"
            ]
          },
          "metadata": {},
          "output_type": "display_data"
        }
      ],
      "source": [
        "# L2 regularization (weight decay)\n",
        "optimizer_l2 = optim.SGD(model.parameters(), lr=0.01, weight_decay=0.1)\n",
        "\n",
        "# Train the model for L2 Regularization (Similar training process as above)\n",
        "epochs =30\n",
        "batch_size =32\n",
        "num_batches = len(X_train_tensor) // batch_size\n",
        "\n",
        "train_loss_history = []\n",
        "val_loss_history = []\n",
        "\n",
        "for epoch in range(epochs):\n",
        "    model.train() # model will remain the same\n",
        "    epoch_loss = 0\n",
        "\n",
        "    for i in range(num_batches):\n",
        "        X_batch = X_train_tensor[i*batch_size:(i+1)*batch_size]\n",
        "        y_batch = y_train_tensor[i*batch_size:(i+1)*batch_size]\n",
        "\n",
        "        optimizer_l2.zero_grad()\n",
        "        y_pred = dropout_model(X_batch)\n",
        "        loss = loss_function(y_pred,y_batch)\n",
        "        loss.backward()\n",
        "        optimizer_l2.step()\n",
        "        epoch_loss += loss.item()\n",
        "\n",
        "    train_loss_history.append(epoch_loss / num_batches)\n",
        "\n",
        "    # Validation loss\n",
        "    model.eval()\n",
        "    with torch.no_grad():\n",
        "        val_predictions = dropout_model(X_test_tensor)\n",
        "        val_loss = loss_function(val_predictions,y_test_tensor)\n",
        "        val_loss_history.append(val_loss.item())\n",
        "\n",
        "    print(f\"Epoch {epoch+1}, Training Loss: {epoch_loss/num_batches:.4f}, Validation Loss: {val_loss.item():.4f}\")\n",
        "\n",
        "# Plot training vs validation loss\n",
        "plt.plot(range(1, epochs+1), train_loss_history, label=\"Training Loss\")\n",
        "plt.plot(range(1, epochs+1), val_loss_history, label=\"Validation Loss\")\n",
        "plt.xlabel(\"Epochs\")\n",
        "plt.ylabel(\"Loss\")\n",
        "plt.legend()\n",
        "plt.title(\"Training vs Validation Loss\")\n",
        "plt.show()\n"
      ]
    },
    {
      "cell_type": "markdown",
      "metadata": {
        "id": "Q1mahxoY5XT5"
      },
      "source": [
        "\n",
        "\n",
        "---\n",
        "\n"
      ]
    },
    {
      "cell_type": "markdown",
      "metadata": {
        "id": "MyyI37IR3OzV"
      },
      "source": [
        "**Step10**: Add Batch Normalization\n",
        "\n",
        "* use BatchNorm1d\n",
        "* use **SGD** Optimizer with learning rate = 0.01"
      ]
    },
    {
      "cell_type": "code",
      "execution_count": 33,
      "metadata": {
        "id": "D6F5oopM3OP0"
      },
      "outputs": [],
      "source": [
        "class BatchNormModel(nn.Module):\n",
        "    def __init__(self):\n",
        "        super(BatchNormModel, self).__init__()\n",
        "        self.layers = nn.Sequential(\n",
        "            nn.Linear(5, 32),\n",
        "            # Batch normalization\n",
        "            nn.BatchNorm1d(32),\n",
        "            nn.ReLU(),\n",
        "            nn.Linear(32, 16),\n",
        "            nn.BatchNorm1d(16),\n",
        "            nn.ReLU(),\n",
        "            nn.Linear(16, 1),\n",
        "            nn.Sigmoid()\n",
        "        )\n",
        "\n",
        "    def forward(self, x):\n",
        "        return self.layers(x)\n",
        "\n",
        "# Train the BatchNormModel\n",
        "batchnorm_model = BatchNormModel()\n",
        "optimizer_bn = optim.SGD(batchnorm_model.parameters(), lr=0.01)\n"
      ]
    },
    {
      "cell_type": "markdown",
      "metadata": {
        "id": "MRn2zhZV5V3S"
      },
      "source": [
        "\n",
        "\n",
        "---\n",
        "\n"
      ]
    },
    {
      "cell_type": "markdown",
      "metadata": {
        "id": "Z6kmyOba33M8"
      },
      "source": [
        "**Step11**: Training Process for Batch Normalization"
      ]
    },
    {
      "cell_type": "code",
      "execution_count": 34,
      "metadata": {
        "id": "ZOV-DXWP4AV5"
      },
      "outputs": [
        {
          "ename": "RuntimeError",
          "evalue": "mat1 and mat2 shapes cannot be multiplied (32x6 and 5x32)",
          "output_type": "error",
          "traceback": [
            "\u001b[1;31m---------------------------------------------------------------------------\u001b[0m",
            "\u001b[1;31mRuntimeError\u001b[0m                              Traceback (most recent call last)",
            "Cell \u001b[1;32mIn[34], line 18\u001b[0m\n\u001b[0;32m     15\u001b[0m y_batch \u001b[38;5;241m=\u001b[39m y_train_tensor[i\u001b[38;5;241m*\u001b[39mbatch_size:(i\u001b[38;5;241m+\u001b[39m\u001b[38;5;241m1\u001b[39m)\u001b[38;5;241m*\u001b[39mbatch_size]\n\u001b[0;32m     17\u001b[0m optimizer_bn\u001b[38;5;241m.\u001b[39mzero_grad()\n\u001b[1;32m---> 18\u001b[0m y_pred \u001b[38;5;241m=\u001b[39m \u001b[43mbatchnorm_model\u001b[49m\u001b[43m(\u001b[49m\u001b[43mX_batch\u001b[49m\u001b[43m)\u001b[49m\n\u001b[0;32m     19\u001b[0m loss \u001b[38;5;241m=\u001b[39m loss_function(y_pred,y_batch)\n\u001b[0;32m     20\u001b[0m loss\u001b[38;5;241m.\u001b[39mbackward()\n",
            "File \u001b[1;32mc:\\Users\\nande\\.conda\\envs\\myenv_cb_dl\\lib\\site-packages\\torch\\nn\\modules\\module.py:1553\u001b[0m, in \u001b[0;36mModule._wrapped_call_impl\u001b[1;34m(self, *args, **kwargs)\u001b[0m\n\u001b[0;32m   1551\u001b[0m     \u001b[38;5;28;01mreturn\u001b[39;00m \u001b[38;5;28mself\u001b[39m\u001b[38;5;241m.\u001b[39m_compiled_call_impl(\u001b[38;5;241m*\u001b[39margs, \u001b[38;5;241m*\u001b[39m\u001b[38;5;241m*\u001b[39mkwargs)  \u001b[38;5;66;03m# type: ignore[misc]\u001b[39;00m\n\u001b[0;32m   1552\u001b[0m \u001b[38;5;28;01melse\u001b[39;00m:\n\u001b[1;32m-> 1553\u001b[0m     \u001b[38;5;28;01mreturn\u001b[39;00m \u001b[38;5;28;43mself\u001b[39;49m\u001b[38;5;241;43m.\u001b[39;49m\u001b[43m_call_impl\u001b[49m\u001b[43m(\u001b[49m\u001b[38;5;241;43m*\u001b[39;49m\u001b[43margs\u001b[49m\u001b[43m,\u001b[49m\u001b[43m \u001b[49m\u001b[38;5;241;43m*\u001b[39;49m\u001b[38;5;241;43m*\u001b[39;49m\u001b[43mkwargs\u001b[49m\u001b[43m)\u001b[49m\n",
            "File \u001b[1;32mc:\\Users\\nande\\.conda\\envs\\myenv_cb_dl\\lib\\site-packages\\torch\\nn\\modules\\module.py:1562\u001b[0m, in \u001b[0;36mModule._call_impl\u001b[1;34m(self, *args, **kwargs)\u001b[0m\n\u001b[0;32m   1557\u001b[0m \u001b[38;5;66;03m# If we don't have any hooks, we want to skip the rest of the logic in\u001b[39;00m\n\u001b[0;32m   1558\u001b[0m \u001b[38;5;66;03m# this function, and just call forward.\u001b[39;00m\n\u001b[0;32m   1559\u001b[0m \u001b[38;5;28;01mif\u001b[39;00m \u001b[38;5;129;01mnot\u001b[39;00m (\u001b[38;5;28mself\u001b[39m\u001b[38;5;241m.\u001b[39m_backward_hooks \u001b[38;5;129;01mor\u001b[39;00m \u001b[38;5;28mself\u001b[39m\u001b[38;5;241m.\u001b[39m_backward_pre_hooks \u001b[38;5;129;01mor\u001b[39;00m \u001b[38;5;28mself\u001b[39m\u001b[38;5;241m.\u001b[39m_forward_hooks \u001b[38;5;129;01mor\u001b[39;00m \u001b[38;5;28mself\u001b[39m\u001b[38;5;241m.\u001b[39m_forward_pre_hooks\n\u001b[0;32m   1560\u001b[0m         \u001b[38;5;129;01mor\u001b[39;00m _global_backward_pre_hooks \u001b[38;5;129;01mor\u001b[39;00m _global_backward_hooks\n\u001b[0;32m   1561\u001b[0m         \u001b[38;5;129;01mor\u001b[39;00m _global_forward_hooks \u001b[38;5;129;01mor\u001b[39;00m _global_forward_pre_hooks):\n\u001b[1;32m-> 1562\u001b[0m     \u001b[38;5;28;01mreturn\u001b[39;00m \u001b[43mforward_call\u001b[49m\u001b[43m(\u001b[49m\u001b[38;5;241;43m*\u001b[39;49m\u001b[43margs\u001b[49m\u001b[43m,\u001b[49m\u001b[43m \u001b[49m\u001b[38;5;241;43m*\u001b[39;49m\u001b[38;5;241;43m*\u001b[39;49m\u001b[43mkwargs\u001b[49m\u001b[43m)\u001b[49m\n\u001b[0;32m   1564\u001b[0m \u001b[38;5;28;01mtry\u001b[39;00m:\n\u001b[0;32m   1565\u001b[0m     result \u001b[38;5;241m=\u001b[39m \u001b[38;5;28;01mNone\u001b[39;00m\n",
            "Cell \u001b[1;32mIn[33], line 17\u001b[0m, in \u001b[0;36mBatchNormModel.forward\u001b[1;34m(self, x)\u001b[0m\n\u001b[0;32m     16\u001b[0m \u001b[38;5;28;01mdef\u001b[39;00m \u001b[38;5;21mforward\u001b[39m(\u001b[38;5;28mself\u001b[39m, x):\n\u001b[1;32m---> 17\u001b[0m     \u001b[38;5;28;01mreturn\u001b[39;00m \u001b[38;5;28;43mself\u001b[39;49m\u001b[38;5;241;43m.\u001b[39;49m\u001b[43mlayers\u001b[49m\u001b[43m(\u001b[49m\u001b[43mx\u001b[49m\u001b[43m)\u001b[49m\n",
            "File \u001b[1;32mc:\\Users\\nande\\.conda\\envs\\myenv_cb_dl\\lib\\site-packages\\torch\\nn\\modules\\module.py:1553\u001b[0m, in \u001b[0;36mModule._wrapped_call_impl\u001b[1;34m(self, *args, **kwargs)\u001b[0m\n\u001b[0;32m   1551\u001b[0m     \u001b[38;5;28;01mreturn\u001b[39;00m \u001b[38;5;28mself\u001b[39m\u001b[38;5;241m.\u001b[39m_compiled_call_impl(\u001b[38;5;241m*\u001b[39margs, \u001b[38;5;241m*\u001b[39m\u001b[38;5;241m*\u001b[39mkwargs)  \u001b[38;5;66;03m# type: ignore[misc]\u001b[39;00m\n\u001b[0;32m   1552\u001b[0m \u001b[38;5;28;01melse\u001b[39;00m:\n\u001b[1;32m-> 1553\u001b[0m     \u001b[38;5;28;01mreturn\u001b[39;00m \u001b[38;5;28;43mself\u001b[39;49m\u001b[38;5;241;43m.\u001b[39;49m\u001b[43m_call_impl\u001b[49m\u001b[43m(\u001b[49m\u001b[38;5;241;43m*\u001b[39;49m\u001b[43margs\u001b[49m\u001b[43m,\u001b[49m\u001b[43m \u001b[49m\u001b[38;5;241;43m*\u001b[39;49m\u001b[38;5;241;43m*\u001b[39;49m\u001b[43mkwargs\u001b[49m\u001b[43m)\u001b[49m\n",
            "File \u001b[1;32mc:\\Users\\nande\\.conda\\envs\\myenv_cb_dl\\lib\\site-packages\\torch\\nn\\modules\\module.py:1562\u001b[0m, in \u001b[0;36mModule._call_impl\u001b[1;34m(self, *args, **kwargs)\u001b[0m\n\u001b[0;32m   1557\u001b[0m \u001b[38;5;66;03m# If we don't have any hooks, we want to skip the rest of the logic in\u001b[39;00m\n\u001b[0;32m   1558\u001b[0m \u001b[38;5;66;03m# this function, and just call forward.\u001b[39;00m\n\u001b[0;32m   1559\u001b[0m \u001b[38;5;28;01mif\u001b[39;00m \u001b[38;5;129;01mnot\u001b[39;00m (\u001b[38;5;28mself\u001b[39m\u001b[38;5;241m.\u001b[39m_backward_hooks \u001b[38;5;129;01mor\u001b[39;00m \u001b[38;5;28mself\u001b[39m\u001b[38;5;241m.\u001b[39m_backward_pre_hooks \u001b[38;5;129;01mor\u001b[39;00m \u001b[38;5;28mself\u001b[39m\u001b[38;5;241m.\u001b[39m_forward_hooks \u001b[38;5;129;01mor\u001b[39;00m \u001b[38;5;28mself\u001b[39m\u001b[38;5;241m.\u001b[39m_forward_pre_hooks\n\u001b[0;32m   1560\u001b[0m         \u001b[38;5;129;01mor\u001b[39;00m _global_backward_pre_hooks \u001b[38;5;129;01mor\u001b[39;00m _global_backward_hooks\n\u001b[0;32m   1561\u001b[0m         \u001b[38;5;129;01mor\u001b[39;00m _global_forward_hooks \u001b[38;5;129;01mor\u001b[39;00m _global_forward_pre_hooks):\n\u001b[1;32m-> 1562\u001b[0m     \u001b[38;5;28;01mreturn\u001b[39;00m \u001b[43mforward_call\u001b[49m\u001b[43m(\u001b[49m\u001b[38;5;241;43m*\u001b[39;49m\u001b[43margs\u001b[49m\u001b[43m,\u001b[49m\u001b[43m \u001b[49m\u001b[38;5;241;43m*\u001b[39;49m\u001b[38;5;241;43m*\u001b[39;49m\u001b[43mkwargs\u001b[49m\u001b[43m)\u001b[49m\n\u001b[0;32m   1564\u001b[0m \u001b[38;5;28;01mtry\u001b[39;00m:\n\u001b[0;32m   1565\u001b[0m     result \u001b[38;5;241m=\u001b[39m \u001b[38;5;28;01mNone\u001b[39;00m\n",
            "File \u001b[1;32mc:\\Users\\nande\\.conda\\envs\\myenv_cb_dl\\lib\\site-packages\\torch\\nn\\modules\\container.py:219\u001b[0m, in \u001b[0;36mSequential.forward\u001b[1;34m(self, input)\u001b[0m\n\u001b[0;32m    217\u001b[0m \u001b[38;5;28;01mdef\u001b[39;00m \u001b[38;5;21mforward\u001b[39m(\u001b[38;5;28mself\u001b[39m, \u001b[38;5;28minput\u001b[39m):\n\u001b[0;32m    218\u001b[0m     \u001b[38;5;28;01mfor\u001b[39;00m module \u001b[38;5;129;01min\u001b[39;00m \u001b[38;5;28mself\u001b[39m:\n\u001b[1;32m--> 219\u001b[0m         \u001b[38;5;28minput\u001b[39m \u001b[38;5;241m=\u001b[39m \u001b[43mmodule\u001b[49m\u001b[43m(\u001b[49m\u001b[38;5;28;43minput\u001b[39;49m\u001b[43m)\u001b[49m\n\u001b[0;32m    220\u001b[0m     \u001b[38;5;28;01mreturn\u001b[39;00m \u001b[38;5;28minput\u001b[39m\n",
            "File \u001b[1;32mc:\\Users\\nande\\.conda\\envs\\myenv_cb_dl\\lib\\site-packages\\torch\\nn\\modules\\module.py:1553\u001b[0m, in \u001b[0;36mModule._wrapped_call_impl\u001b[1;34m(self, *args, **kwargs)\u001b[0m\n\u001b[0;32m   1551\u001b[0m     \u001b[38;5;28;01mreturn\u001b[39;00m \u001b[38;5;28mself\u001b[39m\u001b[38;5;241m.\u001b[39m_compiled_call_impl(\u001b[38;5;241m*\u001b[39margs, \u001b[38;5;241m*\u001b[39m\u001b[38;5;241m*\u001b[39mkwargs)  \u001b[38;5;66;03m# type: ignore[misc]\u001b[39;00m\n\u001b[0;32m   1552\u001b[0m \u001b[38;5;28;01melse\u001b[39;00m:\n\u001b[1;32m-> 1553\u001b[0m     \u001b[38;5;28;01mreturn\u001b[39;00m \u001b[38;5;28;43mself\u001b[39;49m\u001b[38;5;241;43m.\u001b[39;49m\u001b[43m_call_impl\u001b[49m\u001b[43m(\u001b[49m\u001b[38;5;241;43m*\u001b[39;49m\u001b[43margs\u001b[49m\u001b[43m,\u001b[49m\u001b[43m \u001b[49m\u001b[38;5;241;43m*\u001b[39;49m\u001b[38;5;241;43m*\u001b[39;49m\u001b[43mkwargs\u001b[49m\u001b[43m)\u001b[49m\n",
            "File \u001b[1;32mc:\\Users\\nande\\.conda\\envs\\myenv_cb_dl\\lib\\site-packages\\torch\\nn\\modules\\module.py:1562\u001b[0m, in \u001b[0;36mModule._call_impl\u001b[1;34m(self, *args, **kwargs)\u001b[0m\n\u001b[0;32m   1557\u001b[0m \u001b[38;5;66;03m# If we don't have any hooks, we want to skip the rest of the logic in\u001b[39;00m\n\u001b[0;32m   1558\u001b[0m \u001b[38;5;66;03m# this function, and just call forward.\u001b[39;00m\n\u001b[0;32m   1559\u001b[0m \u001b[38;5;28;01mif\u001b[39;00m \u001b[38;5;129;01mnot\u001b[39;00m (\u001b[38;5;28mself\u001b[39m\u001b[38;5;241m.\u001b[39m_backward_hooks \u001b[38;5;129;01mor\u001b[39;00m \u001b[38;5;28mself\u001b[39m\u001b[38;5;241m.\u001b[39m_backward_pre_hooks \u001b[38;5;129;01mor\u001b[39;00m \u001b[38;5;28mself\u001b[39m\u001b[38;5;241m.\u001b[39m_forward_hooks \u001b[38;5;129;01mor\u001b[39;00m \u001b[38;5;28mself\u001b[39m\u001b[38;5;241m.\u001b[39m_forward_pre_hooks\n\u001b[0;32m   1560\u001b[0m         \u001b[38;5;129;01mor\u001b[39;00m _global_backward_pre_hooks \u001b[38;5;129;01mor\u001b[39;00m _global_backward_hooks\n\u001b[0;32m   1561\u001b[0m         \u001b[38;5;129;01mor\u001b[39;00m _global_forward_hooks \u001b[38;5;129;01mor\u001b[39;00m _global_forward_pre_hooks):\n\u001b[1;32m-> 1562\u001b[0m     \u001b[38;5;28;01mreturn\u001b[39;00m \u001b[43mforward_call\u001b[49m\u001b[43m(\u001b[49m\u001b[38;5;241;43m*\u001b[39;49m\u001b[43margs\u001b[49m\u001b[43m,\u001b[49m\u001b[43m \u001b[49m\u001b[38;5;241;43m*\u001b[39;49m\u001b[38;5;241;43m*\u001b[39;49m\u001b[43mkwargs\u001b[49m\u001b[43m)\u001b[49m\n\u001b[0;32m   1564\u001b[0m \u001b[38;5;28;01mtry\u001b[39;00m:\n\u001b[0;32m   1565\u001b[0m     result \u001b[38;5;241m=\u001b[39m \u001b[38;5;28;01mNone\u001b[39;00m\n",
            "File \u001b[1;32mc:\\Users\\nande\\.conda\\envs\\myenv_cb_dl\\lib\\site-packages\\torch\\nn\\modules\\linear.py:117\u001b[0m, in \u001b[0;36mLinear.forward\u001b[1;34m(self, input)\u001b[0m\n\u001b[0;32m    116\u001b[0m \u001b[38;5;28;01mdef\u001b[39;00m \u001b[38;5;21mforward\u001b[39m(\u001b[38;5;28mself\u001b[39m, \u001b[38;5;28minput\u001b[39m: Tensor) \u001b[38;5;241m-\u001b[39m\u001b[38;5;241m>\u001b[39m Tensor:\n\u001b[1;32m--> 117\u001b[0m     \u001b[38;5;28;01mreturn\u001b[39;00m \u001b[43mF\u001b[49m\u001b[38;5;241;43m.\u001b[39;49m\u001b[43mlinear\u001b[49m\u001b[43m(\u001b[49m\u001b[38;5;28;43minput\u001b[39;49m\u001b[43m,\u001b[49m\u001b[43m \u001b[49m\u001b[38;5;28;43mself\u001b[39;49m\u001b[38;5;241;43m.\u001b[39;49m\u001b[43mweight\u001b[49m\u001b[43m,\u001b[49m\u001b[43m \u001b[49m\u001b[38;5;28;43mself\u001b[39;49m\u001b[38;5;241;43m.\u001b[39;49m\u001b[43mbias\u001b[49m\u001b[43m)\u001b[49m\n",
            "\u001b[1;31mRuntimeError\u001b[0m: mat1 and mat2 shapes cannot be multiplied (32x6 and 5x32)"
          ]
        }
      ],
      "source": [
        "# Train the model for Batch Normalization (Similar training process as above)\n",
        "epochs =30\n",
        "batch_size =32\n",
        "num_batches = len(X_train_tensor) // batch_size\n",
        "\n",
        "train_loss_history = []\n",
        "val_loss_history = []\n",
        "\n",
        "for epoch in range(epochs):\n",
        "    batchnorm_model.train()\n",
        "    epoch_loss = 0\n",
        "\n",
        "    for i in range(num_batches):\n",
        "        X_batch = X_train_tensor[i*batch_size:(i+1)*batch_size]\n",
        "        y_batch = y_train_tensor[i*batch_size:(i+1)*batch_size]\n",
        "\n",
        "        optimizer_bn.zero_grad()\n",
        "        y_pred = batchnorm_model(X_batch)\n",
        "        loss = loss_function(y_pred,y_batch)\n",
        "        loss.backward()\n",
        "        optimizer_bn.step()\n",
        "        epoch_loss += loss.item()\n",
        "\n",
        "    train_loss_history.append(epoch_loss / num_batches)\n",
        "\n",
        "    # Validation loss\n",
        "    batchnorm_model.eval()\n",
        "    with torch.no_grad():\n",
        "        val_predictions = batchnorm_model(X_test_tensor)\n",
        "        val_loss = loss_function(val_predictions,y_test_tensor)\n",
        "        val_loss_history.append(val_loss.item())\n",
        "\n",
        "    print(f\"Epoch {epoch+1}, Training Loss: {epoch_loss/num_batches:.4f}, Validation Loss: {val_loss.item():.4f}\")\n",
        "\n",
        "# Plot training vs validation loss\n",
        "plt.plot(range(1, epochs+1), train_loss_history, label=\"Training Loss\")\n",
        "plt.plot(range(1, epochs+1), val_loss_history, label=\"Validation Loss\")\n",
        "plt.xlabel(\"Epochs\")\n",
        "plt.ylabel(\"Loss\")\n",
        "plt.legend()\n",
        "plt.title(\"Training vs Validation Loss\")\n",
        "plt.show()\n"
      ]
    },
    {
      "cell_type": "code",
      "execution_count": 35,
      "metadata": {},
      "outputs": [
        {
          "ename": "RuntimeError",
          "evalue": "mat1 and mat2 shapes cannot be multiplied (32x6 and 5x32)",
          "output_type": "error",
          "traceback": [
            "\u001b[1;31m---------------------------------------------------------------------------\u001b[0m",
            "\u001b[1;31mRuntimeError\u001b[0m                              Traceback (most recent call last)",
            "Cell \u001b[1;32mIn[35], line 18\u001b[0m\n\u001b[0;32m     15\u001b[0m y_batch \u001b[38;5;241m=\u001b[39m y_train_tensor[i\u001b[38;5;241m*\u001b[39mbatch_size:(i\u001b[38;5;241m+\u001b[39m\u001b[38;5;241m1\u001b[39m)\u001b[38;5;241m*\u001b[39mbatch_size]\n\u001b[0;32m     17\u001b[0m optimizer_bn\u001b[38;5;241m.\u001b[39mzero_grad()\n\u001b[1;32m---> 18\u001b[0m y_pred \u001b[38;5;241m=\u001b[39m \u001b[43mbatchnorm_model\u001b[49m\u001b[43m(\u001b[49m\u001b[43mX_batch\u001b[49m\u001b[43m)\u001b[49m\n\u001b[0;32m     19\u001b[0m loss \u001b[38;5;241m=\u001b[39m loss_function(y_pred, y_batch)\n\u001b[0;32m     20\u001b[0m loss\u001b[38;5;241m.\u001b[39mbackward()\n",
            "File \u001b[1;32mc:\\Users\\nande\\.conda\\envs\\myenv_cb_dl\\lib\\site-packages\\torch\\nn\\modules\\module.py:1553\u001b[0m, in \u001b[0;36mModule._wrapped_call_impl\u001b[1;34m(self, *args, **kwargs)\u001b[0m\n\u001b[0;32m   1551\u001b[0m     \u001b[38;5;28;01mreturn\u001b[39;00m \u001b[38;5;28mself\u001b[39m\u001b[38;5;241m.\u001b[39m_compiled_call_impl(\u001b[38;5;241m*\u001b[39margs, \u001b[38;5;241m*\u001b[39m\u001b[38;5;241m*\u001b[39mkwargs)  \u001b[38;5;66;03m# type: ignore[misc]\u001b[39;00m\n\u001b[0;32m   1552\u001b[0m \u001b[38;5;28;01melse\u001b[39;00m:\n\u001b[1;32m-> 1553\u001b[0m     \u001b[38;5;28;01mreturn\u001b[39;00m \u001b[38;5;28;43mself\u001b[39;49m\u001b[38;5;241;43m.\u001b[39;49m\u001b[43m_call_impl\u001b[49m\u001b[43m(\u001b[49m\u001b[38;5;241;43m*\u001b[39;49m\u001b[43margs\u001b[49m\u001b[43m,\u001b[49m\u001b[43m \u001b[49m\u001b[38;5;241;43m*\u001b[39;49m\u001b[38;5;241;43m*\u001b[39;49m\u001b[43mkwargs\u001b[49m\u001b[43m)\u001b[49m\n",
            "File \u001b[1;32mc:\\Users\\nande\\.conda\\envs\\myenv_cb_dl\\lib\\site-packages\\torch\\nn\\modules\\module.py:1562\u001b[0m, in \u001b[0;36mModule._call_impl\u001b[1;34m(self, *args, **kwargs)\u001b[0m\n\u001b[0;32m   1557\u001b[0m \u001b[38;5;66;03m# If we don't have any hooks, we want to skip the rest of the logic in\u001b[39;00m\n\u001b[0;32m   1558\u001b[0m \u001b[38;5;66;03m# this function, and just call forward.\u001b[39;00m\n\u001b[0;32m   1559\u001b[0m \u001b[38;5;28;01mif\u001b[39;00m \u001b[38;5;129;01mnot\u001b[39;00m (\u001b[38;5;28mself\u001b[39m\u001b[38;5;241m.\u001b[39m_backward_hooks \u001b[38;5;129;01mor\u001b[39;00m \u001b[38;5;28mself\u001b[39m\u001b[38;5;241m.\u001b[39m_backward_pre_hooks \u001b[38;5;129;01mor\u001b[39;00m \u001b[38;5;28mself\u001b[39m\u001b[38;5;241m.\u001b[39m_forward_hooks \u001b[38;5;129;01mor\u001b[39;00m \u001b[38;5;28mself\u001b[39m\u001b[38;5;241m.\u001b[39m_forward_pre_hooks\n\u001b[0;32m   1560\u001b[0m         \u001b[38;5;129;01mor\u001b[39;00m _global_backward_pre_hooks \u001b[38;5;129;01mor\u001b[39;00m _global_backward_hooks\n\u001b[0;32m   1561\u001b[0m         \u001b[38;5;129;01mor\u001b[39;00m _global_forward_hooks \u001b[38;5;129;01mor\u001b[39;00m _global_forward_pre_hooks):\n\u001b[1;32m-> 1562\u001b[0m     \u001b[38;5;28;01mreturn\u001b[39;00m \u001b[43mforward_call\u001b[49m\u001b[43m(\u001b[49m\u001b[38;5;241;43m*\u001b[39;49m\u001b[43margs\u001b[49m\u001b[43m,\u001b[49m\u001b[43m \u001b[49m\u001b[38;5;241;43m*\u001b[39;49m\u001b[38;5;241;43m*\u001b[39;49m\u001b[43mkwargs\u001b[49m\u001b[43m)\u001b[49m\n\u001b[0;32m   1564\u001b[0m \u001b[38;5;28;01mtry\u001b[39;00m:\n\u001b[0;32m   1565\u001b[0m     result \u001b[38;5;241m=\u001b[39m \u001b[38;5;28;01mNone\u001b[39;00m\n",
            "Cell \u001b[1;32mIn[33], line 17\u001b[0m, in \u001b[0;36mBatchNormModel.forward\u001b[1;34m(self, x)\u001b[0m\n\u001b[0;32m     16\u001b[0m \u001b[38;5;28;01mdef\u001b[39;00m \u001b[38;5;21mforward\u001b[39m(\u001b[38;5;28mself\u001b[39m, x):\n\u001b[1;32m---> 17\u001b[0m     \u001b[38;5;28;01mreturn\u001b[39;00m \u001b[38;5;28;43mself\u001b[39;49m\u001b[38;5;241;43m.\u001b[39;49m\u001b[43mlayers\u001b[49m\u001b[43m(\u001b[49m\u001b[43mx\u001b[49m\u001b[43m)\u001b[49m\n",
            "File \u001b[1;32mc:\\Users\\nande\\.conda\\envs\\myenv_cb_dl\\lib\\site-packages\\torch\\nn\\modules\\module.py:1553\u001b[0m, in \u001b[0;36mModule._wrapped_call_impl\u001b[1;34m(self, *args, **kwargs)\u001b[0m\n\u001b[0;32m   1551\u001b[0m     \u001b[38;5;28;01mreturn\u001b[39;00m \u001b[38;5;28mself\u001b[39m\u001b[38;5;241m.\u001b[39m_compiled_call_impl(\u001b[38;5;241m*\u001b[39margs, \u001b[38;5;241m*\u001b[39m\u001b[38;5;241m*\u001b[39mkwargs)  \u001b[38;5;66;03m# type: ignore[misc]\u001b[39;00m\n\u001b[0;32m   1552\u001b[0m \u001b[38;5;28;01melse\u001b[39;00m:\n\u001b[1;32m-> 1553\u001b[0m     \u001b[38;5;28;01mreturn\u001b[39;00m \u001b[38;5;28;43mself\u001b[39;49m\u001b[38;5;241;43m.\u001b[39;49m\u001b[43m_call_impl\u001b[49m\u001b[43m(\u001b[49m\u001b[38;5;241;43m*\u001b[39;49m\u001b[43margs\u001b[49m\u001b[43m,\u001b[49m\u001b[43m \u001b[49m\u001b[38;5;241;43m*\u001b[39;49m\u001b[38;5;241;43m*\u001b[39;49m\u001b[43mkwargs\u001b[49m\u001b[43m)\u001b[49m\n",
            "File \u001b[1;32mc:\\Users\\nande\\.conda\\envs\\myenv_cb_dl\\lib\\site-packages\\torch\\nn\\modules\\module.py:1562\u001b[0m, in \u001b[0;36mModule._call_impl\u001b[1;34m(self, *args, **kwargs)\u001b[0m\n\u001b[0;32m   1557\u001b[0m \u001b[38;5;66;03m# If we don't have any hooks, we want to skip the rest of the logic in\u001b[39;00m\n\u001b[0;32m   1558\u001b[0m \u001b[38;5;66;03m# this function, and just call forward.\u001b[39;00m\n\u001b[0;32m   1559\u001b[0m \u001b[38;5;28;01mif\u001b[39;00m \u001b[38;5;129;01mnot\u001b[39;00m (\u001b[38;5;28mself\u001b[39m\u001b[38;5;241m.\u001b[39m_backward_hooks \u001b[38;5;129;01mor\u001b[39;00m \u001b[38;5;28mself\u001b[39m\u001b[38;5;241m.\u001b[39m_backward_pre_hooks \u001b[38;5;129;01mor\u001b[39;00m \u001b[38;5;28mself\u001b[39m\u001b[38;5;241m.\u001b[39m_forward_hooks \u001b[38;5;129;01mor\u001b[39;00m \u001b[38;5;28mself\u001b[39m\u001b[38;5;241m.\u001b[39m_forward_pre_hooks\n\u001b[0;32m   1560\u001b[0m         \u001b[38;5;129;01mor\u001b[39;00m _global_backward_pre_hooks \u001b[38;5;129;01mor\u001b[39;00m _global_backward_hooks\n\u001b[0;32m   1561\u001b[0m         \u001b[38;5;129;01mor\u001b[39;00m _global_forward_hooks \u001b[38;5;129;01mor\u001b[39;00m _global_forward_pre_hooks):\n\u001b[1;32m-> 1562\u001b[0m     \u001b[38;5;28;01mreturn\u001b[39;00m \u001b[43mforward_call\u001b[49m\u001b[43m(\u001b[49m\u001b[38;5;241;43m*\u001b[39;49m\u001b[43margs\u001b[49m\u001b[43m,\u001b[49m\u001b[43m \u001b[49m\u001b[38;5;241;43m*\u001b[39;49m\u001b[38;5;241;43m*\u001b[39;49m\u001b[43mkwargs\u001b[49m\u001b[43m)\u001b[49m\n\u001b[0;32m   1564\u001b[0m \u001b[38;5;28;01mtry\u001b[39;00m:\n\u001b[0;32m   1565\u001b[0m     result \u001b[38;5;241m=\u001b[39m \u001b[38;5;28;01mNone\u001b[39;00m\n",
            "File \u001b[1;32mc:\\Users\\nande\\.conda\\envs\\myenv_cb_dl\\lib\\site-packages\\torch\\nn\\modules\\container.py:219\u001b[0m, in \u001b[0;36mSequential.forward\u001b[1;34m(self, input)\u001b[0m\n\u001b[0;32m    217\u001b[0m \u001b[38;5;28;01mdef\u001b[39;00m \u001b[38;5;21mforward\u001b[39m(\u001b[38;5;28mself\u001b[39m, \u001b[38;5;28minput\u001b[39m):\n\u001b[0;32m    218\u001b[0m     \u001b[38;5;28;01mfor\u001b[39;00m module \u001b[38;5;129;01min\u001b[39;00m \u001b[38;5;28mself\u001b[39m:\n\u001b[1;32m--> 219\u001b[0m         \u001b[38;5;28minput\u001b[39m \u001b[38;5;241m=\u001b[39m \u001b[43mmodule\u001b[49m\u001b[43m(\u001b[49m\u001b[38;5;28;43minput\u001b[39;49m\u001b[43m)\u001b[49m\n\u001b[0;32m    220\u001b[0m     \u001b[38;5;28;01mreturn\u001b[39;00m \u001b[38;5;28minput\u001b[39m\n",
            "File \u001b[1;32mc:\\Users\\nande\\.conda\\envs\\myenv_cb_dl\\lib\\site-packages\\torch\\nn\\modules\\module.py:1553\u001b[0m, in \u001b[0;36mModule._wrapped_call_impl\u001b[1;34m(self, *args, **kwargs)\u001b[0m\n\u001b[0;32m   1551\u001b[0m     \u001b[38;5;28;01mreturn\u001b[39;00m \u001b[38;5;28mself\u001b[39m\u001b[38;5;241m.\u001b[39m_compiled_call_impl(\u001b[38;5;241m*\u001b[39margs, \u001b[38;5;241m*\u001b[39m\u001b[38;5;241m*\u001b[39mkwargs)  \u001b[38;5;66;03m# type: ignore[misc]\u001b[39;00m\n\u001b[0;32m   1552\u001b[0m \u001b[38;5;28;01melse\u001b[39;00m:\n\u001b[1;32m-> 1553\u001b[0m     \u001b[38;5;28;01mreturn\u001b[39;00m \u001b[38;5;28;43mself\u001b[39;49m\u001b[38;5;241;43m.\u001b[39;49m\u001b[43m_call_impl\u001b[49m\u001b[43m(\u001b[49m\u001b[38;5;241;43m*\u001b[39;49m\u001b[43margs\u001b[49m\u001b[43m,\u001b[49m\u001b[43m \u001b[49m\u001b[38;5;241;43m*\u001b[39;49m\u001b[38;5;241;43m*\u001b[39;49m\u001b[43mkwargs\u001b[49m\u001b[43m)\u001b[49m\n",
            "File \u001b[1;32mc:\\Users\\nande\\.conda\\envs\\myenv_cb_dl\\lib\\site-packages\\torch\\nn\\modules\\module.py:1562\u001b[0m, in \u001b[0;36mModule._call_impl\u001b[1;34m(self, *args, **kwargs)\u001b[0m\n\u001b[0;32m   1557\u001b[0m \u001b[38;5;66;03m# If we don't have any hooks, we want to skip the rest of the logic in\u001b[39;00m\n\u001b[0;32m   1558\u001b[0m \u001b[38;5;66;03m# this function, and just call forward.\u001b[39;00m\n\u001b[0;32m   1559\u001b[0m \u001b[38;5;28;01mif\u001b[39;00m \u001b[38;5;129;01mnot\u001b[39;00m (\u001b[38;5;28mself\u001b[39m\u001b[38;5;241m.\u001b[39m_backward_hooks \u001b[38;5;129;01mor\u001b[39;00m \u001b[38;5;28mself\u001b[39m\u001b[38;5;241m.\u001b[39m_backward_pre_hooks \u001b[38;5;129;01mor\u001b[39;00m \u001b[38;5;28mself\u001b[39m\u001b[38;5;241m.\u001b[39m_forward_hooks \u001b[38;5;129;01mor\u001b[39;00m \u001b[38;5;28mself\u001b[39m\u001b[38;5;241m.\u001b[39m_forward_pre_hooks\n\u001b[0;32m   1560\u001b[0m         \u001b[38;5;129;01mor\u001b[39;00m _global_backward_pre_hooks \u001b[38;5;129;01mor\u001b[39;00m _global_backward_hooks\n\u001b[0;32m   1561\u001b[0m         \u001b[38;5;129;01mor\u001b[39;00m _global_forward_hooks \u001b[38;5;129;01mor\u001b[39;00m _global_forward_pre_hooks):\n\u001b[1;32m-> 1562\u001b[0m     \u001b[38;5;28;01mreturn\u001b[39;00m \u001b[43mforward_call\u001b[49m\u001b[43m(\u001b[49m\u001b[38;5;241;43m*\u001b[39;49m\u001b[43margs\u001b[49m\u001b[43m,\u001b[49m\u001b[43m \u001b[49m\u001b[38;5;241;43m*\u001b[39;49m\u001b[38;5;241;43m*\u001b[39;49m\u001b[43mkwargs\u001b[49m\u001b[43m)\u001b[49m\n\u001b[0;32m   1564\u001b[0m \u001b[38;5;28;01mtry\u001b[39;00m:\n\u001b[0;32m   1565\u001b[0m     result \u001b[38;5;241m=\u001b[39m \u001b[38;5;28;01mNone\u001b[39;00m\n",
            "File \u001b[1;32mc:\\Users\\nande\\.conda\\envs\\myenv_cb_dl\\lib\\site-packages\\torch\\nn\\modules\\linear.py:117\u001b[0m, in \u001b[0;36mLinear.forward\u001b[1;34m(self, input)\u001b[0m\n\u001b[0;32m    116\u001b[0m \u001b[38;5;28;01mdef\u001b[39;00m \u001b[38;5;21mforward\u001b[39m(\u001b[38;5;28mself\u001b[39m, \u001b[38;5;28minput\u001b[39m: Tensor) \u001b[38;5;241m-\u001b[39m\u001b[38;5;241m>\u001b[39m Tensor:\n\u001b[1;32m--> 117\u001b[0m     \u001b[38;5;28;01mreturn\u001b[39;00m \u001b[43mF\u001b[49m\u001b[38;5;241;43m.\u001b[39;49m\u001b[43mlinear\u001b[49m\u001b[43m(\u001b[49m\u001b[38;5;28;43minput\u001b[39;49m\u001b[43m,\u001b[49m\u001b[43m \u001b[49m\u001b[38;5;28;43mself\u001b[39;49m\u001b[38;5;241;43m.\u001b[39;49m\u001b[43mweight\u001b[49m\u001b[43m,\u001b[49m\u001b[43m \u001b[49m\u001b[38;5;28;43mself\u001b[39;49m\u001b[38;5;241;43m.\u001b[39;49m\u001b[43mbias\u001b[49m\u001b[43m)\u001b[49m\n",
            "\u001b[1;31mRuntimeError\u001b[0m: mat1 and mat2 shapes cannot be multiplied (32x6 and 5x32)"
          ]
        }
      ],
      "source": [
        "# Train the model for Batch Normalization (Similar training process as above)\n",
        "epochs = 30\n",
        "batch_size = 32\n",
        "num_batches = len(X_train_tensor) // batch_size\n",
        "\n",
        "train_loss_history = []\n",
        "val_loss_history = []\n",
        "\n",
        "for epoch in range(epochs):\n",
        "    batchnorm_model.train()\n",
        "    epoch_loss = 0\n",
        "\n",
        "    for i in range(num_batches):\n",
        "        X_batch = X_train_tensor[i*batch_size:(i+1)*batch_size]\n",
        "        y_batch = y_train_tensor[i*batch_size:(i+1)*batch_size]\n",
        "\n",
        "        optimizer_bn.zero_grad()\n",
        "        y_pred = batchnorm_model(X_batch)\n",
        "        loss = loss_function(y_pred, y_batch)\n",
        "        loss.backward()\n",
        "        optimizer_bn.step()\n",
        "        epoch_loss += loss.item()\n",
        "\n",
        "    train_loss_history.append(epoch_loss / num_batches)\n",
        "\n",
        "    # Validation loss\n",
        "    batchnorm_model.eval()\n",
        "    with torch.no_grad():\n",
        "        val_predictions = batchnorm_model(X_test_tensor)\n",
        "        val_loss = loss_function(val_predictions, y_test_tensor)\n",
        "        val_loss_history.append(val_loss.item())\n",
        "\n",
        "    print(f\"Epoch {epoch+1}, Training Loss: {epoch_loss/num_batches:.4f}, Validation Loss: {val_loss.item():.4f}\")\n",
        "\n",
        "# Plot training vs validation loss\n",
        "plt.plot(range(1, epochs+1), train_loss_history, label=\"Training Loss\")\n",
        "plt.plot(range(1, epochs+1), val_loss_history, label=\"Validation Loss\")\n",
        "plt.xlabel(\"Epochs\")\n",
        "plt.ylabel(\"Loss\")\n",
        "plt.legend()\n",
        "plt.title(\"Training vs Validation Loss\")\n",
        "plt.show()\n"
      ]
    },
    {
      "cell_type": "markdown",
      "metadata": {
        "id": "GeqdHddAH2r9"
      },
      "source": [
        "\n",
        "\n",
        "---\n",
        "\n"
      ]
    }
  ],
  "metadata": {
    "colab": {
      "provenance": []
    },
    "kernelspec": {
      "display_name": "myenv_cb_dl",
      "language": "python",
      "name": "python3"
    },
    "language_info": {
      "codemirror_mode": {
        "name": "ipython",
        "version": 3
      },
      "file_extension": ".py",
      "mimetype": "text/x-python",
      "name": "python",
      "nbconvert_exporter": "python",
      "pygments_lexer": "ipython3",
      "version": "3.8.20"
    }
  },
  "nbformat": 4,
  "nbformat_minor": 0
}
