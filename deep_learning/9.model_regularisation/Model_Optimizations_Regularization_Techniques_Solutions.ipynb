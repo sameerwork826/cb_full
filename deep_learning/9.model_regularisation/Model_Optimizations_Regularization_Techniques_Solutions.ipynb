{
  "cells": [
    {
      "cell_type": "markdown",
      "metadata": {
        "id": "jKQ4bimgnLZP"
      },
      "source": [
        "# Problem Statement: **AtliQ's Customer Churn Prediction**\n",
        "\n",
        "### Welcome to AtliQ Electronics, a leading consumer electronics retailer! AtliQ has been facing customer churn issues and is building an AI-powered predictive model to identify customers likely to discontinue their services. However, the data science team observed that the model tends to overfit the training data, leading to poor generalization on new data. Your task is to implement and compare different regularization techniques to build a robust and accurate churn prediction model.\n",
        "\n"
      ]
    },
    {
      "cell_type": "markdown",
      "metadata": {
        "id": "nB2zACC84i0x"
      },
      "source": [
        "Imports and CUDA"
      ]
    },
    {
      "cell_type": "code",
      "execution_count": null,
      "metadata": {
        "colab": {
          "base_uri": "https://localhost:8080/"
        },
        "id": "hv5okv7X4kiN",
        "outputId": "db591280-bf2c-4bc9-deb8-21e61f201cb8"
      },
      "outputs": [
        {
          "name": "stdout",
          "output_type": "stream",
          "text": [
            "Using device: cuda\n"
          ]
        }
      ],
      "source": [
        "import torch\n",
        "import numpy as np\n",
        "import torch.nn as nn\n",
        "import torch.optim as optim\n",
        "from torch.utils.data import DataLoader, TensorDataset\n",
        "from sklearn.metrics import accuracy_score, confusion_matrix\n",
        "import matplotlib.pyplot as plt\n",
        "import pandas as pd\n",
        "import seaborn as sns\n",
        "from sklearn.model_selection import train_test_split\n",
        "from sklearn.preprocessing import MinMaxScaler, StandardScaler\n",
        "\n",
        "# Check if CUDA (GPU) is available\n",
        "device = torch.device('cuda' if torch.cuda.is_available() else 'cpu')\n",
        "print(f\"Using device: {device}\")"
      ]
    },
    {
      "cell_type": "markdown",
      "metadata": {
        "id": "bexc1B_IaiNU"
      },
      "source": [
        "### Let's do some revisoin first and test your basic understanding of this module!"
      ]
    },
    {
      "cell_type": "markdown",
      "metadata": {
        "id": "gmftSYXMawJK"
      },
      "source": [
        "Problem1: **Effect of L1 Regularization on Sparsity in AtliQ's AI Models**\n",
        "\n",
        "AtliQ is optimizing its AI models to reduce unnecessary complexity. You are given the following weights from one of AtliQ's neural network layers:\n",
        "\n",
        "\n",
        "\n",
        "```\n",
        "weights = torch.tensor([0.5, -0.3, 0.8, -1.5], requires_grad=True)\n",
        "```\n",
        "\n",
        "Write a PyTorch snippet to compute the L1 regularization term ``` (|w1| + |w2| + ...) ``` and calculate its gradient using backward().\n"
      ]
    },
    {
      "cell_type": "code",
      "execution_count": null,
      "metadata": {
        "colab": {
          "base_uri": "https://localhost:8080/"
        },
        "id": "cgXxBUt2eQ5h",
        "outputId": "1a52a606-04d5-4f5e-c322-14f8232d782e"
      },
      "outputs": [
        {
          "name": "stdout",
          "output_type": "stream",
          "text": [
            "L1 Regularization: 3.1000\n",
            "Gradients: tensor([ 1., -1.,  1., -1.])\n"
          ]
        }
      ],
      "source": [
        "# weights\n",
        "weights = torch.tensor([0.5, -0.3, 0.8, -1.5], requires_grad=True)\n",
        "\n",
        "# Compute L1 regularization term\n",
        "l1_regularization = torch.sum(torch.abs(weights))\n",
        "\n",
        "# compute gradients\n",
        "l1_regularization.backward()\n",
        "\n",
        "# Output gradients\n",
        "print(f\"L1 Regularization: {l1_regularization.item():.4f}\")\n",
        "print(f\"Gradients: {weights.grad}\")"
      ]
    },
    {
      "cell_type": "markdown",
      "metadata": {
        "id": "SBMQibCFevih"
      },
      "source": [
        "\n",
        "\n",
        "---\n",
        "\n"
      ]
    },
    {
      "cell_type": "markdown",
      "metadata": {
        "id": "HNIBQL9NewoF"
      },
      "source": [
        "Problem2: **Batch Normalization of AtliQ's Marketing Data**\n",
        "\n",
        "AtliQ has collected a mini-batch of marketing data:\n",
        "\n",
        "`inputs = torch.tensor([[10.0, 20.0], [15.0, 25.0], [12.0, 18.0]])`\n",
        "\n",
        "Manually implement the forward pass of Batch Normalization. Normalize the data using:\n",
        "\n",
        "$$Normalized= X-μ / σ$$\n",
        "\n",
        "Here, μ is the mean of each feature, and σ is the standard deviation.\n",
        "\n",
        "Write code to compute the normalized data without using `nn.BatchNorm`.\n",
        "\n",
        "\n",
        "\n"
      ]
    },
    {
      "cell_type": "code",
      "execution_count": null,
      "metadata": {
        "colab": {
          "base_uri": "https://localhost:8080/"
        },
        "id": "CpSgXDgzfZVj",
        "outputId": "4b46ab26-f445-47b8-82b9-64b472fcb7ca"
      },
      "outputs": [
        {
          "name": "stdout",
          "output_type": "stream",
          "text": [
            "Inputs:\n",
            "tensor([[10., 20.],\n",
            "        [15., 25.],\n",
            "        [12., 18.]])\n",
            "Mean: tensor([12.3333, 21.0000])\n",
            "Standard Deviation: tensor([2.5166, 3.6056])\n",
            "Normalized Outputs:\n",
            "tensor([[-0.9272, -0.2774],\n",
            "        [ 1.0596,  1.1094],\n",
            "        [-0.1325, -0.8321]])\n"
          ]
        }
      ],
      "source": [
        "# inputs\n",
        "inputs = torch.tensor([[10.0, 20.0], [15.0, 25.0], [12.0, 18.0]])\n",
        "\n",
        "# compute mean and standard deviation along each column (feature)\n",
        "mean = inputs.mean(dim=0)\n",
        "std = inputs.std(dim=0)\n",
        "\n",
        "# normalize the inputs\n",
        "normalized = (inputs - mean) / std\n",
        "\n",
        "print(f\"Inputs:\\n{inputs}\")\n",
        "print(f\"Mean: {mean}\")\n",
        "print(f\"Standard Deviation: {std}\")\n",
        "print(f\"Normalized Outputs:\\n{normalized}\")"
      ]
    },
    {
      "cell_type": "markdown",
      "metadata": {
        "id": "3GNmDoQ6f3gJ"
      },
      "source": [
        "\n",
        "\n",
        "---\n",
        "\n"
      ]
    },
    {
      "cell_type": "markdown",
      "metadata": {
        "id": "CQfmadAunB37"
      },
      "source": [
        "### Task: **AtliQ's Customer Churn Prediction**\n",
        "\n"
      ]
    },
    {
      "cell_type": "markdown",
      "metadata": {
        "id": "iBmVAgUzniwO"
      },
      "source": [
        "**Dataset Description**\n",
        "\n",
        "You are provided with 5000 customer records and 6 features that describe customer behavior over the past 12 months. The provided dataset (**AtliQ_Churn_Prediction_Codebasics_DL.csv)** includes the following attributes:\n",
        "\n",
        "* Purchase_History\n",
        "* Support_Tickets\n",
        "* Last_Purchase_Months\n",
        "* Product_Categories\n",
        "* Satisfaction_Score\n",
        "* Discount_Usage_Rate\n",
        "\n",
        "Target Variable:\n",
        "\n",
        "* Churned: 1 if the customer has churned, 0 otherwise."
      ]
    },
    {
      "cell_type": "markdown",
      "metadata": {
        "id": "kwMQWwt3ohSW"
      },
      "source": [
        "**Step1**: Load and Prepare the Dataset"
      ]
    },
    {
      "cell_type": "code",
      "execution_count": null,
      "metadata": {
        "colab": {
          "base_uri": "https://localhost:8080/"
        },
        "id": "8O0bKZ5rolPH",
        "outputId": "a11379ee-4dae-48a6-d26a-e283c30c2bdc"
      },
      "outputs": [
        {
          "name": "stdout",
          "output_type": "stream",
          "text": [
            "<class 'pandas.core.frame.DataFrame'>\n",
            "RangeIndex: 5000 entries, 0 to 4999\n",
            "Data columns (total 7 columns):\n",
            " #   Column                Non-Null Count  Dtype  \n",
            "---  ------                --------------  -----  \n",
            " 0   Purchase_History      5000 non-null   int64  \n",
            " 1   Support_Tickets       5000 non-null   int64  \n",
            " 2   Last_Purchase_Months  5000 non-null   int64  \n",
            " 3   Product_Categories    5000 non-null   int64  \n",
            " 4   Satisfaction_Score    5000 non-null   float64\n",
            " 5   Discount_Usage_Rate   5000 non-null   float64\n",
            " 6   Churned               5000 non-null   int64  \n",
            "dtypes: float64(2), int64(5)\n",
            "memory usage: 273.6 KB\n"
          ]
        }
      ],
      "source": [
        "# Load dataset\n",
        "data = pd.read_csv(\"/content/AtliQ_Churn_Prediction_Codebasics_DL.csv\")\n",
        "\n",
        "# Separate features and target\n",
        "X = data.drop(\"Churned\", axis=1).values\n",
        "y = data[\"Churned\"].values\n",
        "\n",
        "data.info()"
      ]
    },
    {
      "cell_type": "markdown",
      "metadata": {
        "id": "JZSypSRR4rAf"
      },
      "source": [
        "\n",
        "\n",
        "---\n",
        "\n"
      ]
    },
    {
      "cell_type": "markdown",
      "metadata": {
        "id": "99dir8N4ovsK"
      },
      "source": [
        "**Step2**: Split the Dataset\n",
        "\n",
        "Train : Test :: 70 : 30"
      ]
    },
    {
      "cell_type": "markdown",
      "metadata": {
        "id": "Lbvye_8I4sFs"
      },
      "source": [
        "\n",
        "\n",
        "---\n",
        "\n"
      ]
    },
    {
      "cell_type": "code",
      "execution_count": null,
      "metadata": {
        "id": "6RibvycYpBb8"
      },
      "outputs": [],
      "source": [
        "# Split data\n",
        "X_train, X_test, y_train, y_test = train_test_split(X, y, test_size=0.3, random_state=42)\n"
      ]
    },
    {
      "cell_type": "markdown",
      "metadata": {
        "id": "_ILShmPy4tc9"
      },
      "source": [
        "\n",
        "\n",
        "---\n",
        "\n"
      ]
    },
    {
      "cell_type": "markdown",
      "metadata": {
        "id": "RukDY2i9pNDY"
      },
      "source": [
        "**Step3**: Normalize the features\n",
        "\n"
      ]
    },
    {
      "cell_type": "code",
      "execution_count": null,
      "metadata": {
        "id": "LDyxZDo3pSFW"
      },
      "outputs": [],
      "source": [
        "scaler = StandardScaler()\n",
        "X_train = scaler.fit_transform(X_train)\n",
        "X_test = scaler.transform(X_test)"
      ]
    },
    {
      "cell_type": "markdown",
      "metadata": {
        "id": "KyVTFdaM4um3"
      },
      "source": [
        "\n",
        "\n",
        "---\n",
        "\n"
      ]
    },
    {
      "cell_type": "markdown",
      "metadata": {
        "id": "JxnXxajZpcQZ"
      },
      "source": [
        "**Step4**: Convert to PyTorch Tensors"
      ]
    },
    {
      "cell_type": "code",
      "execution_count": null,
      "metadata": {
        "id": "rBpxi2svpgvP"
      },
      "outputs": [],
      "source": [
        "X_train_tensor = torch.tensor(X_train, dtype=torch.float32)\n",
        "y_train_tensor = torch.tensor(y_train, dtype=torch.float32).unsqueeze(1)\n",
        "X_test_tensor = torch.tensor(X_test, dtype=torch.float32)\n",
        "y_test_tensor = torch.tensor(y_test, dtype=torch.float32).unsqueeze(1)"
      ]
    },
    {
      "cell_type": "markdown",
      "metadata": {
        "id": "LcLqDUMT4viD"
      },
      "source": [
        "\n",
        "\n",
        "---\n",
        "\n"
      ]
    },
    {
      "cell_type": "markdown",
      "metadata": {
        "id": "_qAlu0tApj2K"
      },
      "source": [
        "**Step5**: Build a Base Model (without regularization)\n",
        "\n",
        "Details:\n",
        "* Input layer: 6 features\n",
        "* Hidden layers: Two layers with 32 and 16 neurons (ReLU activation)\n",
        "* Output layer: 1 neuron (Sigmoid activation for binary classification)\n",
        "* Train for 30 epochs, batch size = 32, learning rate = 0.01.\n",
        "* Use **BCELoss** and **SGD** as Optimizer"
      ]
    },
    {
      "cell_type": "code",
      "execution_count": null,
      "metadata": {
        "id": "AtZBzVDKp6L3"
      },
      "outputs": [],
      "source": [
        "class BaseModel(nn.Module):\n",
        "    def __init__(self):\n",
        "        super(BaseModel, self).__init__()\n",
        "        self.network = nn.Sequential(\n",
        "           nn.Linear(6, 32),\n",
        "           nn.ReLU(),\n",
        "           nn.Linear(32, 16),\n",
        "           nn.ReLU(),\n",
        "           nn.Linear(16, 1),\n",
        "           nn.Sigmoid()\n",
        "        )\n",
        "\n",
        "    def forward(self, x):\n",
        "        return self.network(x)\n",
        "\n",
        "model = BaseModel()\n",
        "loss_function = nn.BCELoss()\n",
        "optimizer = optim.SGD(model.parameters(), lr=0.01)\n"
      ]
    },
    {
      "cell_type": "markdown",
      "metadata": {
        "id": "kYK_BFqf4xoA"
      },
      "source": [
        "\n",
        "\n",
        "---\n",
        "\n"
      ]
    },
    {
      "cell_type": "markdown",
      "metadata": {
        "id": "1tWnv--JqwPR"
      },
      "source": [
        "**Step6**: Train the Base Model\n",
        "\n",
        "* epochs = 30\n",
        "* batch size = 32"
      ]
    },
    {
      "cell_type": "code",
      "execution_count": null,
      "metadata": {
        "colab": {
          "base_uri": "https://localhost:8080/",
          "height": 993
        },
        "id": "pWC7Y0G5q2pt",
        "outputId": "94260350-43a6-4cc5-8b87-fd306bf6459e"
      },
      "outputs": [
        {
          "name": "stdout",
          "output_type": "stream",
          "text": [
            "Epoch 1, Training Loss: 0.6561, Validation Loss: 0.6368\n",
            "Epoch 2, Training Loss: 0.6295, Validation Loss: 0.6207\n",
            "Epoch 3, Training Loss: 0.6203, Validation Loss: 0.6154\n",
            "Epoch 4, Training Loss: 0.6175, Validation Loss: 0.6138\n",
            "Epoch 5, Training Loss: 0.6166, Validation Loss: 0.6133\n",
            "Epoch 6, Training Loss: 0.6162, Validation Loss: 0.6130\n",
            "Epoch 7, Training Loss: 0.6160, Validation Loss: 0.6129\n",
            "Epoch 8, Training Loss: 0.6158, Validation Loss: 0.6128\n",
            "Epoch 9, Training Loss: 0.6156, Validation Loss: 0.6128\n",
            "Epoch 10, Training Loss: 0.6154, Validation Loss: 0.6127\n",
            "Epoch 11, Training Loss: 0.6152, Validation Loss: 0.6127\n",
            "Epoch 12, Training Loss: 0.6151, Validation Loss: 0.6126\n",
            "Epoch 13, Training Loss: 0.6149, Validation Loss: 0.6126\n",
            "Epoch 14, Training Loss: 0.6148, Validation Loss: 0.6126\n",
            "Epoch 15, Training Loss: 0.6147, Validation Loss: 0.6126\n",
            "Epoch 16, Training Loss: 0.6146, Validation Loss: 0.6126\n",
            "Epoch 17, Training Loss: 0.6145, Validation Loss: 0.6126\n",
            "Epoch 18, Training Loss: 0.6144, Validation Loss: 0.6126\n",
            "Epoch 19, Training Loss: 0.6143, Validation Loss: 0.6126\n",
            "Epoch 20, Training Loss: 0.6142, Validation Loss: 0.6126\n",
            "Epoch 21, Training Loss: 0.6141, Validation Loss: 0.6127\n",
            "Epoch 22, Training Loss: 0.6140, Validation Loss: 0.6127\n",
            "Epoch 23, Training Loss: 0.6139, Validation Loss: 0.6127\n",
            "Epoch 24, Training Loss: 0.6138, Validation Loss: 0.6127\n",
            "Epoch 25, Training Loss: 0.6137, Validation Loss: 0.6127\n",
            "Epoch 26, Training Loss: 0.6137, Validation Loss: 0.6128\n",
            "Epoch 27, Training Loss: 0.6136, Validation Loss: 0.6128\n",
            "Epoch 28, Training Loss: 0.6135, Validation Loss: 0.6128\n",
            "Epoch 29, Training Loss: 0.6134, Validation Loss: 0.6128\n",
            "Epoch 30, Training Loss: 0.6134, Validation Loss: 0.6129\n"
          ]
        },
        {
          "data": {
            "image/png": "[encoded data removed]",
            "text/plain": [
              "<Figure size 640x480 with 1 Axes>"
            ]
          },
          "metadata": {},
          "output_type": "display_data"
        }
      ],
      "source": [
        "# Train the model\n",
        "epochs = 30\n",
        "batch_size = 32\n",
        "num_batches = len(X_train_tensor) // batch_size\n",
        "\n",
        "train_loss_history = []\n",
        "val_loss_history = []\n",
        "\n",
        "for epoch in range(epochs):\n",
        "    model.train()\n",
        "    epoch_loss = 0\n",
        "\n",
        "    for i in range(num_batches):\n",
        "        X_batch = X_train_tensor[i*batch_size:(i+1)*batch_size]\n",
        "        y_batch = y_train_tensor[i*batch_size:(i+1)*batch_size]\n",
        "\n",
        "        optimizer.zero_grad()\n",
        "        y_pred = model(X_batch)\n",
        "        loss = loss_function(y_pred, y_batch)\n",
        "        loss.backward()\n",
        "        optimizer.step()\n",
        "        epoch_loss += loss.item()\n",
        "\n",
        "    train_loss_history.append(epoch_loss / num_batches)\n",
        "\n",
        "    # Validation loss\n",
        "    model.eval()\n",
        "    with torch.no_grad():\n",
        "        val_predictions = model(X_test_tensor)\n",
        "        val_loss = loss_function(val_predictions, y_test_tensor)\n",
        "        val_loss_history.append(val_loss.item())\n",
        "\n",
        "    print(f\"Epoch {epoch+1}, Training Loss: {epoch_loss/num_batches:.4f}, Validation Loss: {val_loss.item():.4f}\")\n",
        "\n",
        "# Plot training vs validation loss\n",
        "plt.plot(range(1, epochs+1), train_loss_history, label=\"Training Loss\")\n",
        "plt.plot(range(1, epochs+1), val_loss_history, label=\"Validation Loss\")\n",
        "plt.xlabel(\"Epochs\")\n",
        "plt.ylabel(\"Loss\")\n",
        "plt.legend()\n",
        "plt.title(\"Training vs Validation Loss\")\n",
        "plt.show()"
      ]
    },
    {
      "cell_type": "markdown",
      "metadata": {
        "id": "5SvPdNyx0skj"
      },
      "source": [
        "**Key Insights**\n",
        "\n",
        "* Both training and validation loss curves show healthy convergence, decreasing smoothly without erratic behavior, indicating stable learning."
      ]
    },
    {
      "cell_type": "markdown",
      "metadata": {
        "id": "fOmDLuyo40km"
      },
      "source": [
        "\n",
        "\n",
        "---\n",
        "\n"
      ]
    },
    {
      "cell_type": "markdown",
      "metadata": {
        "id": "7V84oNACrIJQ"
      },
      "source": [
        "**Step7**: Implement Dropout Regularization\n",
        "\n",
        "Modify the base model to include dropout layers after each dense layer.\n",
        "* Experiment with dropout rate 0.4."
      ]
    },
    {
      "cell_type": "code",
      "execution_count": null,
      "metadata": {
        "id": "Dvx5sbvSrar3"
      },
      "outputs": [],
      "source": [
        "class DropoutModel(nn.Module):\n",
        "    def __init__(self):\n",
        "        super(DropoutModel, self).__init__()\n",
        "        self.network = nn.Sequential(\n",
        "            nn.Linear(6, 32),\n",
        "            nn.ReLU(),\n",
        "            nn.Dropout(0.4),\n",
        "            nn.Linear(32, 16),\n",
        "            nn.ReLU(),\n",
        "            nn.Dropout(0.4),\n",
        "            nn.Linear(16, 1),\n",
        "            nn.Sigmoid()\n",
        "        )\n",
        "\n",
        "    def forward(self, x):\n",
        "        return self.network(x)\n",
        "\n",
        "dropout_model = DropoutModel()\n",
        "optimizer_dropout = optim.SGD(dropout_model.parameters(), lr=0.01)\n"
      ]
    },
    {
      "cell_type": "markdown",
      "metadata": {
        "id": "fh1ZHA8p42QV"
      },
      "source": [
        "\n",
        "\n",
        "---\n",
        "\n"
      ]
    },
    {
      "cell_type": "markdown",
      "metadata": {
        "id": "99hKQHYJ1Smo"
      },
      "source": [
        "**Step8**: Training Process for Dropout Regularization"
      ]
    },
    {
      "cell_type": "code",
      "execution_count": null,
      "metadata": {
        "colab": {
          "base_uri": "https://localhost:8080/",
          "height": 993
        },
        "id": "QSb6ZjA31YV9",
        "outputId": "81e2dd33-0810-4da7-b683-38cf4c86e406"
      },
      "outputs": [
        {
          "name": "stdout",
          "output_type": "stream",
          "text": [
            "Epoch 1, Training Loss: 0.7098, Validation Loss: 0.6724\n",
            "Epoch 2, Training Loss: 0.6569, Validation Loss: 0.6394\n",
            "Epoch 3, Training Loss: 0.6343, Validation Loss: 0.6251\n",
            "Epoch 4, Training Loss: 0.6279, Validation Loss: 0.6192\n",
            "Epoch 5, Training Loss: 0.6218, Validation Loss: 0.6168\n",
            "Epoch 6, Training Loss: 0.6233, Validation Loss: 0.6157\n",
            "Epoch 7, Training Loss: 0.6220, Validation Loss: 0.6150\n",
            "Epoch 8, Training Loss: 0.6193, Validation Loss: 0.6146\n",
            "Epoch 9, Training Loss: 0.6229, Validation Loss: 0.6143\n",
            "Epoch 10, Training Loss: 0.6176, Validation Loss: 0.6139\n",
            "Epoch 11, Training Loss: 0.6209, Validation Loss: 0.6137\n",
            "Epoch 12, Training Loss: 0.6187, Validation Loss: 0.6135\n",
            "Epoch 13, Training Loss: 0.6206, Validation Loss: 0.6134\n",
            "Epoch 14, Training Loss: 0.6183, Validation Loss: 0.6131\n",
            "Epoch 15, Training Loss: 0.6178, Validation Loss: 0.6129\n",
            "Epoch 16, Training Loss: 0.6174, Validation Loss: 0.6128\n",
            "Epoch 17, Training Loss: 0.6178, Validation Loss: 0.6127\n",
            "Epoch 18, Training Loss: 0.6161, Validation Loss: 0.6126\n",
            "Epoch 19, Training Loss: 0.6180, Validation Loss: 0.6126\n",
            "Epoch 20, Training Loss: 0.6158, Validation Loss: 0.6125\n",
            "Epoch 21, Training Loss: 0.6159, Validation Loss: 0.6124\n",
            "Epoch 22, Training Loss: 0.6170, Validation Loss: 0.6124\n",
            "Epoch 23, Training Loss: 0.6157, Validation Loss: 0.6123\n",
            "Epoch 24, Training Loss: 0.6142, Validation Loss: 0.6123\n",
            "Epoch 25, Training Loss: 0.6162, Validation Loss: 0.6123\n",
            "Epoch 26, Training Loss: 0.6165, Validation Loss: 0.6123\n",
            "Epoch 27, Training Loss: 0.6155, Validation Loss: 0.6123\n",
            "Epoch 28, Training Loss: 0.6183, Validation Loss: 0.6123\n",
            "Epoch 29, Training Loss: 0.6149, Validation Loss: 0.6122\n",
            "Epoch 30, Training Loss: 0.6143, Validation Loss: 0.6122\n"
          ]
        },
        {
          "data": {
            "image/png": "[encoded data removed]",
            "text/plain": [
              "<Figure size 640x480 with 1 Axes>"
            ]
          },
          "metadata": {},
          "output_type": "display_data"
        }
      ],
      "source": [
        "# Train the model for Dropout Regularization (Similar training process as above)\n",
        "epochs = 30\n",
        "batch_size = 32\n",
        "num_batches = len(X_train_tensor) // batch_size\n",
        "\n",
        "train_loss_history = []\n",
        "val_loss_history = []\n",
        "\n",
        "for epoch in range(epochs):\n",
        "    dropout_model.train()\n",
        "    epoch_loss = 0\n",
        "\n",
        "    for i in range(num_batches):\n",
        "        X_batch = X_train_tensor[i*batch_size:(i+1)*batch_size]\n",
        "        y_batch = y_train_tensor[i*batch_size:(i+1)*batch_size]\n",
        "\n",
        "        optimizer_dropout.zero_grad()\n",
        "        y_pred = dropout_model(X_batch)\n",
        "        loss = loss_function(y_pred, y_batch)\n",
        "        loss.backward()\n",
        "        optimizer_dropout.step()\n",
        "        epoch_loss += loss.item()\n",
        "\n",
        "    train_loss_history.append(epoch_loss / num_batches)\n",
        "\n",
        "    # Validation loss\n",
        "    dropout_model.eval()\n",
        "    with torch.no_grad():\n",
        "        val_predictions = dropout_model(X_test_tensor)\n",
        "        val_loss = loss_function(val_predictions, y_test_tensor)\n",
        "        val_loss_history.append(val_loss.item())\n",
        "\n",
        "    print(f\"Epoch {epoch+1}, Training Loss: {epoch_loss/num_batches:.4f}, Validation Loss: {val_loss.item():.4f}\")\n",
        "\n",
        "# Plot training vs validation loss\n",
        "plt.plot(range(1, epochs+1), train_loss_history, label=\"Training Loss\")\n",
        "plt.plot(range(1, epochs+1), val_loss_history, label=\"Validation Loss\")\n",
        "plt.xlabel(\"Epochs\")\n",
        "plt.ylabel(\"Loss\")\n",
        "plt.legend()\n",
        "plt.title(\"Training vs Validation Loss\")\n",
        "plt.show()"
      ]
    },
    {
      "cell_type": "markdown",
      "metadata": {
        "id": "BHRY-ya_1AgL"
      },
      "source": [
        "**Key Insight**:\n",
        "\n",
        "The addition of dropout (40%) introduces noticeable fluctuations in the training loss curve compared to the baseline model, which is expected as dropout randomly deactivates neurons during training. Despite these fluctuations, the validation loss remains smoother and consistently lower than the training loss, indicating that dropout is effectively preventing overfitting."
      ]
    },
    {
      "cell_type": "markdown",
      "metadata": {
        "id": "jNzZBOkD451z"
      },
      "source": [
        "\n",
        "\n",
        "---\n",
        "\n"
      ]
    },
    {
      "cell_type": "markdown",
      "metadata": {
        "id": "k5WJWr332ocK"
      },
      "source": [
        "**Step9**: Apply L2 Regularization\n",
        "\n",
        "* Use `torch.optim.SGD` with `weight_decay=0.1` for L2 regularization.\n",
        "* Train the model and monitor validation loss and accuracy."
      ]
    },
    {
      "cell_type": "code",
      "execution_count": null,
      "metadata": {
        "colab": {
          "base_uri": "https://localhost:8080/",
          "height": 993
        },
        "id": "MJDhFWoZ1SNy",
        "outputId": "03f1e065-c6a1-43bb-9629-1004389b3093"
      },
      "outputs": [
        {
          "name": "stdout",
          "output_type": "stream",
          "text": [
            "Epoch 1, Training Loss: 0.6140, Validation Loss: 0.6142\n",
            "Epoch 2, Training Loss: 0.6159, Validation Loss: 0.6158\n",
            "Epoch 3, Training Loss: 0.6176, Validation Loss: 0.6169\n",
            "Epoch 4, Training Loss: 0.6188, Validation Loss: 0.6176\n",
            "Epoch 5, Training Loss: 0.6196, Validation Loss: 0.6182\n",
            "Epoch 6, Training Loss: 0.6202, Validation Loss: 0.6186\n",
            "Epoch 7, Training Loss: 0.6207, Validation Loss: 0.6189\n",
            "Epoch 8, Training Loss: 0.6210, Validation Loss: 0.6191\n",
            "Epoch 9, Training Loss: 0.6213, Validation Loss: 0.6193\n",
            "Epoch 10, Training Loss: 0.6215, Validation Loss: 0.6194\n",
            "Epoch 11, Training Loss: 0.6216, Validation Loss: 0.6195\n",
            "Epoch 12, Training Loss: 0.6217, Validation Loss: 0.6195\n",
            "Epoch 13, Training Loss: 0.6218, Validation Loss: 0.6196\n",
            "Epoch 14, Training Loss: 0.6218, Validation Loss: 0.6196\n",
            "Epoch 15, Training Loss: 0.6219, Validation Loss: 0.6196\n",
            "Epoch 16, Training Loss: 0.6219, Validation Loss: 0.6196\n",
            "Epoch 17, Training Loss: 0.6219, Validation Loss: 0.6196\n",
            "Epoch 18, Training Loss: 0.6219, Validation Loss: 0.6196\n",
            "Epoch 19, Training Loss: 0.6220, Validation Loss: 0.6196\n",
            "Epoch 20, Training Loss: 0.6220, Validation Loss: 0.6196\n",
            "Epoch 21, Training Loss: 0.6220, Validation Loss: 0.6196\n",
            "Epoch 22, Training Loss: 0.6220, Validation Loss: 0.6196\n",
            "Epoch 23, Training Loss: 0.6220, Validation Loss: 0.6196\n",
            "Epoch 24, Training Loss: 0.6220, Validation Loss: 0.6196\n",
            "Epoch 25, Training Loss: 0.6220, Validation Loss: 0.6196\n",
            "Epoch 26, Training Loss: 0.6220, Validation Loss: 0.6196\n",
            "Epoch 27, Training Loss: 0.6220, Validation Loss: 0.6196\n",
            "Epoch 28, Training Loss: 0.6220, Validation Loss: 0.6196\n",
            "Epoch 29, Training Loss: 0.6220, Validation Loss: 0.6196\n",
            "Epoch 30, Training Loss: 0.6220, Validation Loss: 0.6196\n"
          ]
        },
        {
          "data": {
            "image/png": "[encoded data removed]",
            "text/plain": [
              "<Figure size 640x480 with 1 Axes>"
            ]
          },
          "metadata": {},
          "output_type": "display_data"
        }
      ],
      "source": [
        "# L2 regularization (weight decay)\n",
        "optimizer_l2 = optim.SGD(model.parameters(), lr=0.01, weight_decay=0.1)\n",
        "\n",
        "# Train the model for L2 Regularization (Similar training process as above)\n",
        "epochs = 30\n",
        "batch_size = 32\n",
        "num_batches = len(X_train_tensor) // batch_size\n",
        "\n",
        "train_loss_history = []\n",
        "val_loss_history = []\n",
        "\n",
        "for epoch in range(epochs):\n",
        "    model.train() # model will remain the same\n",
        "    epoch_loss = 0\n",
        "\n",
        "    for i in range(num_batches):\n",
        "        X_batch = X_train_tensor[i*batch_size:(i+1)*batch_size]\n",
        "        y_batch = y_train_tensor[i*batch_size:(i+1)*batch_size]\n",
        "\n",
        "        optimizer_l2.zero_grad()\n",
        "        y_pred = model(X_batch)\n",
        "        loss = loss_function(y_pred, y_batch)\n",
        "        loss.backward()\n",
        "        optimizer_l2.step()\n",
        "        epoch_loss += loss.item()\n",
        "\n",
        "    train_loss_history.append(epoch_loss / num_batches)\n",
        "\n",
        "    # Validation loss\n",
        "    model.eval()\n",
        "    with torch.no_grad():\n",
        "        val_predictions = model(X_test_tensor)\n",
        "        val_loss = loss_function(val_predictions, y_test_tensor)\n",
        "        val_loss_history.append(val_loss.item())\n",
        "\n",
        "    print(f\"Epoch {epoch+1}, Training Loss: {epoch_loss/num_batches:.4f}, Validation Loss: {val_loss.item():.4f}\")\n",
        "\n",
        "# Plot training vs validation loss\n",
        "plt.plot(range(1, epochs+1), train_loss_history, label=\"Training Loss\")\n",
        "plt.plot(range(1, epochs+1), val_loss_history, label=\"Validation Loss\")\n",
        "plt.xlabel(\"Epochs\")\n",
        "plt.ylabel(\"Loss\")\n",
        "plt.legend()\n",
        "plt.title(\"Training vs Validation Loss\")\n",
        "plt.show()\n"
      ]
    },
    {
      "cell_type": "markdown",
      "metadata": {
        "id": "sP9s2FWL1Y-m"
      },
      "source": [
        "**Key Insights**:\n",
        "\n",
        "The L2 regularization plot shows concerning behavior where both training and validation losses are increasing over time, indicating the model is diverging from the optimal solution rather than converging to it. This divergent behavior suggests the L2 regularization strength (weight decay) might be too aggressive, penalizing the weights too heavily and preventing the model from finding the optimal minimum."
      ]
    },
    {
      "cell_type": "markdown",
      "metadata": {
        "id": "Q1mahxoY5XT5"
      },
      "source": [
        "\n",
        "\n",
        "---\n",
        "\n"
      ]
    },
    {
      "cell_type": "markdown",
      "metadata": {
        "id": "MyyI37IR3OzV"
      },
      "source": [
        "**Step10**: Add Batch Normalization\n",
        "\n",
        "* use BatchNorm1d\n",
        "* use **SGD** Optimizer with learning rate = 0.01"
      ]
    },
    {
      "cell_type": "code",
      "execution_count": null,
      "metadata": {
        "id": "D6F5oopM3OP0"
      },
      "outputs": [],
      "source": [
        "class BatchNormModel(nn.Module):\n",
        "    def __init__(self):\n",
        "        super(BatchNormModel, self).__init__()\n",
        "        self.layers = nn.Sequential(\n",
        "            nn.Linear(6, 32),\n",
        "            nn.BatchNorm1d(32),\n",
        "            nn.ReLU(),\n",
        "            nn.Linear(32, 16),\n",
        "            nn.BatchNorm1d(16),\n",
        "            nn.ReLU(),\n",
        "            nn.Linear(16, 1),\n",
        "            nn.Sigmoid()\n",
        "        )\n",
        "\n",
        "    def forward(self, x):\n",
        "        return self.layers(x)\n",
        "\n",
        "# Train the BatchNormModel\n",
        "batchnorm_model = BatchNormModel()\n",
        "optimizer_bn = optim.SGD(batchnorm_model.parameters(), lr=0.01)\n"
      ]
    },
    {
      "cell_type": "markdown",
      "metadata": {
        "id": "MRn2zhZV5V3S"
      },
      "source": [
        "\n",
        "\n",
        "---\n",
        "\n"
      ]
    },
    {
      "cell_type": "markdown",
      "metadata": {
        "id": "Z6kmyOba33M8"
      },
      "source": [
        "**Step11**: Training Process for Batch Normalization"
      ]
    },
    {
      "cell_type": "code",
      "execution_count": null,
      "metadata": {
        "colab": {
          "base_uri": "https://localhost:8080/",
          "height": 993
        },
        "id": "ZOV-DXWP4AV5",
        "outputId": "ea775a68-6cbf-4166-87dc-a023127d5565"
      },
      "outputs": [
        {
          "name": "stdout",
          "output_type": "stream",
          "text": [
            "Epoch 1, Training Loss: 0.6685, Validation Loss: 0.6451\n",
            "Epoch 2, Training Loss: 0.6350, Validation Loss: 0.6307\n",
            "Epoch 3, Training Loss: 0.6261, Validation Loss: 0.6258\n",
            "Epoch 4, Training Loss: 0.6219, Validation Loss: 0.6232\n",
            "Epoch 5, Training Loss: 0.6193, Validation Loss: 0.6215\n",
            "Epoch 6, Training Loss: 0.6174, Validation Loss: 0.6202\n",
            "Epoch 7, Training Loss: 0.6160, Validation Loss: 0.6193\n",
            "Epoch 8, Training Loss: 0.6149, Validation Loss: 0.6186\n",
            "Epoch 9, Training Loss: 0.6140, Validation Loss: 0.6181\n",
            "Epoch 10, Training Loss: 0.6132, Validation Loss: 0.6177\n",
            "Epoch 11, Training Loss: 0.6125, Validation Loss: 0.6174\n",
            "Epoch 12, Training Loss: 0.6119, Validation Loss: 0.6172\n",
            "Epoch 13, Training Loss: 0.6113, Validation Loss: 0.6172\n",
            "Epoch 14, Training Loss: 0.6107, Validation Loss: 0.6172\n",
            "Epoch 15, Training Loss: 0.6103, Validation Loss: 0.6172\n",
            "Epoch 16, Training Loss: 0.6098, Validation Loss: 0.6172\n",
            "Epoch 17, Training Loss: 0.6094, Validation Loss: 0.6173\n",
            "Epoch 18, Training Loss: 0.6090, Validation Loss: 0.6174\n",
            "Epoch 19, Training Loss: 0.6087, Validation Loss: 0.6174\n",
            "Epoch 20, Training Loss: 0.6083, Validation Loss: 0.6175\n",
            "Epoch 21, Training Loss: 0.6079, Validation Loss: 0.6176\n",
            "Epoch 22, Training Loss: 0.6076, Validation Loss: 0.6177\n",
            "Epoch 23, Training Loss: 0.6072, Validation Loss: 0.6178\n",
            "Epoch 24, Training Loss: 0.6069, Validation Loss: 0.6179\n",
            "Epoch 25, Training Loss: 0.6065, Validation Loss: 0.6181\n",
            "Epoch 26, Training Loss: 0.6062, Validation Loss: 0.6182\n",
            "Epoch 27, Training Loss: 0.6059, Validation Loss: 0.6184\n",
            "Epoch 28, Training Loss: 0.6056, Validation Loss: 0.6185\n",
            "Epoch 29, Training Loss: 0.6053, Validation Loss: 0.6187\n",
            "Epoch 30, Training Loss: 0.6050, Validation Loss: 0.6188\n"
          ]
        },
        {
          "data": {
            "image/png": "[encoded data removed]",
            "text/plain": [
              "<Figure size 640x480 with 1 Axes>"
            ]
          },
          "metadata": {},
          "output_type": "display_data"
        }
      ],
      "source": [
        "# Train the model for Batch Normalization (Similar training process as above)\n",
        "epochs = 30\n",
        "batch_size = 32\n",
        "num_batches = len(X_train_tensor) // batch_size\n",
        "\n",
        "train_loss_history = []\n",
        "val_loss_history = []\n",
        "\n",
        "for epoch in range(epochs):\n",
        "    batchnorm_model.train()\n",
        "    epoch_loss = 0\n",
        "\n",
        "    for i in range(num_batches):\n",
        "        X_batch = X_train_tensor[i*batch_size:(i+1)*batch_size]\n",
        "        y_batch = y_train_tensor[i*batch_size:(i+1)*batch_size]\n",
        "\n",
        "        optimizer_bn.zero_grad()\n",
        "        y_pred = batchnorm_model(X_batch)\n",
        "        loss = loss_function(y_pred, y_batch)\n",
        "        loss.backward()\n",
        "        optimizer_bn.step()\n",
        "        epoch_loss += loss.item()\n",
        "\n",
        "    train_loss_history.append(epoch_loss / num_batches)\n",
        "\n",
        "    # Validation loss\n",
        "    batchnorm_model.eval()\n",
        "    with torch.no_grad():\n",
        "        val_predictions = batchnorm_model(X_test_tensor)\n",
        "        val_loss = loss_function(val_predictions, y_test_tensor)\n",
        "        val_loss_history.append(val_loss.item())\n",
        "\n",
        "    print(f\"Epoch {epoch+1}, Training Loss: {epoch_loss/num_batches:.4f}, Validation Loss: {val_loss.item():.4f}\")\n",
        "\n",
        "# Plot training vs validation loss\n",
        "plt.plot(range(1, epochs+1), train_loss_history, label=\"Training Loss\")\n",
        "plt.plot(range(1, epochs+1), val_loss_history, label=\"Validation Loss\")\n",
        "plt.xlabel(\"Epochs\")\n",
        "plt.ylabel(\"Loss\")\n",
        "plt.legend()\n",
        "plt.title(\"Training vs Validation Loss\")\n",
        "plt.show()\n"
      ]
    },
    {
      "cell_type": "markdown",
      "metadata": {
        "id": "CbTU4Y1j2FaR"
      },
      "source": [
        "**Key Insights**:\n",
        "\n",
        "After an initial sharp decline in both losses, we observe a clear sign of overfitting where the training loss (blue) continues to decrease while validation loss (orange) starts to plateau and slightly increase after epoch 15."
      ]
    },
    {
      "cell_type": "markdown",
      "metadata": {
        "id": "wU3DKEYiFqZj"
      },
      "source": [
        "\n",
        "\n",
        "---\n",
        "\n"
      ]
    }
  ],
  "metadata": {
    "accelerator": "GPU",
    "colab": {
      "gpuType": "T4",
      "provenance": []
    },
    "kernelspec": {
      "display_name": "Python 3",
      "name": "python3"
    },
    "language_info": {
      "name": "python"
    }
  },
  "nbformat": 4,
  "nbformat_minor": 0
}
