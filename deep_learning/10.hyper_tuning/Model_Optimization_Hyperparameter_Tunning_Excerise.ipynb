{
  "cells": [
    {
      "cell_type": "markdown",
      "metadata": {
        "id": "HS_V6StcOXOr"
      },
      "source": [
        "# Problem Statement: **Hyperparameter Tuning for AtliQ’s Fashion Item Classifier**\n",
        "\n",
        "### AtliQ Fashion wants to develop a neural network to classify fashion items using the FashionMNIST dataset. Your task is to optimize the neural network's performance by fine-tuning its hyperparameters. We will be using **FashionMNIST** dataset but since the dataset is large, we will work with only a subset to ensure that the solution is computationally feasible.\n",
        "\n",
        "**References:**\n",
        "\n",
        "* transforms.Compose (PyTorch): [Link](https://pytorch.org/vision/master/generated/torchvision.transforms.Compose.html)\n",
        "* Optuna (Hyperparameter Optimization Framework) [Link](https://optuna.readthedocs.io/en/stable/)"
      ]
    },
    {
      "cell_type": "code",
      "execution_count": 1,
      "metadata": {
        "id": "Nv9L_r8yOjoo"
      },
      "outputs": [
        {
          "name": "stdout",
          "output_type": "stream",
          "text": [
            "Using device: cuda\n"
          ]
        }
      ],
      "source": [
        "import torch\n",
        "import numpy as np\n",
        "import torch.nn as nn\n",
        "import torch.optim as optim\n",
        "from torch.utils.data import DataLoader, TensorDataset, random_split\n",
        "from torchvision import datasets, transforms\n",
        "from sklearn.metrics import accuracy_score, confusion_matrix\n",
        "import matplotlib.pyplot as plt\n",
        "import pandas as pd\n",
        "import optuna\n",
        "import random\n",
        "\n",
        "# Check if CUDA (GPU) is available\n",
        "device = torch.device('cuda' if torch.cuda.is_available() else 'cpu')\n",
        "print(f\"Using device: {device}\")"
      ]
    },
    {
      "cell_type": "markdown",
      "metadata": {
        "id": "65TpZ6z3YVcT"
      },
      "source": [
        "\n",
        "\n",
        "---\n",
        "\n"
      ]
    },
    {
      "cell_type": "markdown",
      "metadata": {
        "id": "nBrkVANZOnea"
      },
      "source": [
        "**Dataset Overview**\n",
        "\n",
        "* Dataset: FashionMNIST\n",
        "* Classes: 10 (e.g., T-shirts, trousers, shoes)\n",
        "* Training Images: Subset of 10,000 (randomly sampled from 60,000)\n",
        "* Test Images: Subset of 2,000 (randomly sampled from 10,000)"
      ]
    },
    {
      "cell_type": "markdown",
      "metadata": {
        "id": "MJiS4LzoYWh9"
      },
      "source": [
        "\n",
        "\n",
        "---\n",
        "\n"
      ]
    },
    {
      "cell_type": "markdown",
      "metadata": {
        "id": "caIjvjTMOuKb"
      },
      "source": [
        "**Step1**: Load and Sample the Dataset\n",
        "\n",
        "* Load the FashionMNIST dataset using torchvision.datasets.\n",
        "* Sample 10,000 images for training and 2,000 images for testing.\n",
        "* Normalize the pixel values to the range [-1, 1].\n",
        "* Create PyTorch DataLoaders for the training and test sets."
      ]
    },
    {
      "cell_type": "code",
      "execution_count": 14,
      "metadata": {},
      "outputs": [],
      "source": [
        "# Transform: Normalize and convert to tensor\n",
        "transform = transforms.Compose([\n",
        "    transforms.ToTensor(),\n",
        "    transforms.Normalize((0.5,), (0.5,)) # Centers the pixel values around 0 and scales them to [-1, 1]\n",
        "])\n",
        "\n",
        "# Load FashionMNIST dataset\n",
        "\n",
        "dataset = datasets.FashionMNIST(root='./data', train=True, download=False, transform=transform)\n",
        "\n",
        "test_dataset = datasets.FashionMNIST(root='./data',train=False,download=False,transform=transform)\n",
        "\n",
        "\n",
        "\n",
        "\n",
        "# Sample the datset\n",
        "\n",
        "train_subset_size =1000\n",
        "test_subset_size = 200\n"
      ]
    },
    {
      "cell_type": "markdown",
      "metadata": {
        "id": "wbAUaSPmSfsZ"
      },
      "source": [
        "**Step2**: Create Dataloaders\n",
        "\n",
        "* batch size = 32\n"
      ]
    },
    {
      "cell_type": "code",
      "execution_count": 15,
      "metadata": {
        "id": "xPPkBtqbacNM"
      },
      "outputs": [],
      "source": [
        "train_subset, _ = random_split(dataset, [train_subset_size, len(dataset) - train_subset_size])\n",
        "test_subset, _ = random_split(test_dataset, [test_subset_size, len(test_dataset) - test_subset_size])"
      ]
    },
    {
      "cell_type": "code",
      "execution_count": 16,
      "metadata": {
        "id": "Hz00fg0sSqT2"
      },
      "outputs": [],
      "source": [
        "batch_size = 32\n",
        "train_loader = DataLoader(train_subset,batch_size=batch_size,shuffle=True)\n",
        "test_loader = DataLoader(test_subset,batch_size=batch_size,shuffle=True)"
      ]
    },
    {
      "cell_type": "code",
      "execution_count": 17,
      "metadata": {
        "id": "oq15WEfhS1HV"
      },
      "outputs": [
        {
          "name": "stdout",
          "output_type": "stream",
          "text": [
            "Training data size: 1000\n",
            "Testing data size: 200\n"
          ]
        }
      ],
      "source": [
        "print(f\"Training data size: {len(train_subset)}\")\n",
        "print(f\"Testing data size: {len(test_subset)}\")"
      ]
    },
    {
      "cell_type": "markdown",
      "metadata": {
        "id": "1dSLUp9EYaG9"
      },
      "source": [
        "\n",
        "\n",
        "---\n",
        "\n"
      ]
    },
    {
      "cell_type": "markdown",
      "metadata": {
        "id": "bGRSPjG0StuU"
      },
      "source": [
        "**Step3**: Define the Neural Network\n",
        "\n",
        "* Create a fully connected feed-forward neural network (no CNN).\n",
        "\n",
        "Structure:\n",
        "* Input layer: 784 neurons (28x28 image flattened).\n",
        "* 1st hidden layer: 128 neurons with ReLU activation.\n",
        "* 2nd hidden layer: 64 neurons with ReLU activation.\n",
        "* Output layer: 10 neurons (one for each class) with Softmax activation.\n",
        "\n",
        "Use `nn.Sequential`"
      ]
    },
    {
      "cell_type": "code",
      "execution_count": 18,
      "metadata": {
        "id": "QJYOKAZmTpkb"
      },
      "outputs": [
        {
          "name": "stdout",
          "output_type": "stream",
          "text": [
            "FashionNN(\n",
            "  (network): Sequential(\n",
            "    (0): Flatten(start_dim=1, end_dim=-1)\n",
            "    (1): Linear(in_features=784, out_features=128, bias=True)\n",
            "    (2): ReLU()\n",
            "    (3): Linear(in_features=128, out_features=64, bias=True)\n",
            "    (4): ReLU()\n",
            "    (5): Linear(in_features=64, out_features=10, bias=True)\n",
            "    (6): Softmax(dim=0)\n",
            "  )\n",
            ")\n"
          ]
        }
      ],
      "source": [
        "class FashionNN(nn.Module):\n",
        "    def __init__(self):\n",
        "        super(FashionNN, self).__init__()\n",
        "        self.network = nn.Sequential(\n",
        "            # Flatten the input tensor\n",
        "            nn.Flatten(),\n",
        "            # Input layer (784)\n",
        "            nn.Linear(28*28,128),\n",
        "            # Activation\n",
        "            nn.ReLU(),\n",
        "            # Hidden layer 1\n",
        "            nn.Linear(128,64),\n",
        "            # Activation\n",
        "            nn.ReLU(),\n",
        "            # Output layer (10 classes)\n",
        "            nn.Linear(64,10),\n",
        "            # Softmax for probabilities\n",
        "            nn.Softmax(dim=0)\n",
        "        )\n",
        "\n",
        "    def forward(self, x):\n",
        "        return self.network(x)\n",
        "\n",
        "model = FashionNN()\n",
        "print(model)\n",
        "\n",
        "loss_fn = nn.CrossEntropyLoss()"
      ]
    },
    {
      "cell_type": "markdown",
      "metadata": {
        "id": "UJmkGAINYb0C"
      },
      "source": [
        "\n",
        "\n",
        "---\n",
        "\n"
      ]
    },
    {
      "cell_type": "markdown",
      "metadata": {
        "id": "PNO5O1W_UI7L"
      },
      "source": [
        "**Step 3**: Train the Base Model\n",
        "\n",
        "Instructions:\n",
        "\n",
        "Set the following base hyperparameters:\n",
        "* Loss function: Cross Entropy Loss\n",
        "* Learning rate: 0.01\n",
        "* Batch size: 32\n",
        "* Optimizer: SGD\n",
        "* Epochs: 100\n",
        "\n",
        "Train the model and record the training/validation accuracy and loss.\n"
      ]
    },
    {
      "cell_type": "code",
      "execution_count": 19,
      "metadata": {
        "id": "Mb5gFuiUUTDC"
      },
      "outputs": [
        {
          "name": "stdout",
          "output_type": "stream",
          "text": [
            "Epoch 1/100, Loss: 2.3026\n",
            "Epoch 2/100, Loss: 2.3024\n",
            "Epoch 3/100, Loss: 2.3024\n",
            "Epoch 4/100, Loss: 2.3023\n",
            "Epoch 5/100, Loss: 2.3021\n",
            "Epoch 6/100, Loss: 2.3021\n",
            "Epoch 7/100, Loss: 2.3020\n",
            "Epoch 8/100, Loss: 2.3018\n",
            "Epoch 9/100, Loss: 2.3018\n",
            "Epoch 10/100, Loss: 2.3016\n",
            "Epoch 11/100, Loss: 2.3016\n",
            "Epoch 12/100, Loss: 2.3016\n",
            "Epoch 13/100, Loss: 2.3015\n",
            "Epoch 14/100, Loss: 2.3013\n",
            "Epoch 15/100, Loss: 2.3012\n",
            "Epoch 16/100, Loss: 2.3011\n",
            "Epoch 17/100, Loss: 2.3011\n",
            "Epoch 18/100, Loss: 2.3010\n",
            "Epoch 19/100, Loss: 2.3009\n",
            "Epoch 20/100, Loss: 2.3007\n",
            "Epoch 21/100, Loss: 2.3008\n",
            "Epoch 22/100, Loss: 2.3006\n",
            "Epoch 23/100, Loss: 2.3005\n",
            "Epoch 24/100, Loss: 2.3003\n",
            "Epoch 25/100, Loss: 2.3003\n",
            "Epoch 26/100, Loss: 2.3000\n",
            "Epoch 27/100, Loss: 2.2999\n",
            "Epoch 28/100, Loss: 2.3000\n",
            "Epoch 29/100, Loss: 2.2998\n",
            "Epoch 30/100, Loss: 2.2998\n",
            "Epoch 31/100, Loss: 2.2996\n",
            "Epoch 32/100, Loss: 2.2993\n",
            "Epoch 33/100, Loss: 2.2991\n",
            "Epoch 34/100, Loss: 2.2991\n",
            "Epoch 35/100, Loss: 2.2990\n",
            "Epoch 36/100, Loss: 2.2989\n",
            "Epoch 37/100, Loss: 2.2986\n",
            "Epoch 38/100, Loss: 2.2986\n",
            "Epoch 39/100, Loss: 2.2987\n",
            "Epoch 40/100, Loss: 2.2985\n",
            "Epoch 41/100, Loss: 2.2983\n",
            "Epoch 42/100, Loss: 2.2981\n",
            "Epoch 43/100, Loss: 2.2979\n",
            "Epoch 44/100, Loss: 2.2977\n",
            "Epoch 45/100, Loss: 2.2978\n",
            "Epoch 46/100, Loss: 2.2977\n",
            "Epoch 47/100, Loss: 2.2971\n",
            "Epoch 48/100, Loss: 2.2970\n",
            "Epoch 49/100, Loss: 2.2967\n",
            "Epoch 50/100, Loss: 2.2967\n",
            "Epoch 51/100, Loss: 2.2968\n",
            "Epoch 52/100, Loss: 2.2964\n",
            "Epoch 53/100, Loss: 2.2960\n",
            "Epoch 54/100, Loss: 2.2960\n",
            "Epoch 55/100, Loss: 2.2958\n",
            "Epoch 56/100, Loss: 2.2953\n",
            "Epoch 57/100, Loss: 2.2949\n",
            "Epoch 58/100, Loss: 2.2954\n",
            "Epoch 59/100, Loss: 2.2949\n",
            "Epoch 60/100, Loss: 2.2943\n",
            "Epoch 61/100, Loss: 2.2940\n",
            "Epoch 62/100, Loss: 2.2941\n",
            "Epoch 63/100, Loss: 2.2934\n",
            "Epoch 64/100, Loss: 2.2934\n",
            "Epoch 65/100, Loss: 2.2934\n",
            "Epoch 66/100, Loss: 2.2928\n",
            "Epoch 67/100, Loss: 2.2930\n",
            "Epoch 68/100, Loss: 2.2919\n",
            "Epoch 69/100, Loss: 2.2921\n",
            "Epoch 70/100, Loss: 2.2917\n",
            "Epoch 71/100, Loss: 2.2912\n",
            "Epoch 72/100, Loss: 2.2909\n",
            "Epoch 73/100, Loss: 2.2897\n",
            "Epoch 74/100, Loss: 2.2899\n",
            "Epoch 75/100, Loss: 2.2887\n",
            "Epoch 76/100, Loss: 2.2891\n",
            "Epoch 77/100, Loss: 2.2882\n",
            "Epoch 78/100, Loss: 2.2877\n",
            "Epoch 79/100, Loss: 2.2862\n",
            "Epoch 80/100, Loss: 2.2860\n",
            "Epoch 81/100, Loss: 2.2861\n",
            "Epoch 82/100, Loss: 2.2849\n",
            "Epoch 83/100, Loss: 2.2848\n",
            "Epoch 84/100, Loss: 2.2838\n",
            "Epoch 85/100, Loss: 2.2836\n",
            "Epoch 86/100, Loss: 2.2821\n",
            "Epoch 87/100, Loss: 2.2804\n",
            "Epoch 88/100, Loss: 2.2800\n",
            "Epoch 89/100, Loss: 2.2787\n",
            "Epoch 90/100, Loss: 2.2786\n",
            "Epoch 91/100, Loss: 2.2765\n",
            "Epoch 92/100, Loss: 2.2767\n",
            "Epoch 93/100, Loss: 2.2765\n",
            "Epoch 94/100, Loss: 2.2742\n",
            "Epoch 95/100, Loss: 2.2721\n",
            "Epoch 96/100, Loss: 2.2705\n",
            "Epoch 97/100, Loss: 2.2710\n",
            "Epoch 98/100, Loss: 2.2692\n",
            "Epoch 99/100, Loss: 2.2668\n",
            "Epoch 100/100, Loss: 2.2657\n"
          ]
        }
      ],
      "source": [
        "# Define loss function and optimizer\n",
        "loss_function = nn.CrossEntropyLoss()\n",
        "optimizer = optim.SGD(model.parameters(),lr=0.01)\n",
        "\n",
        "# Training loop\n",
        "num_epochs =100\n",
        "for epoch in range(num_epochs):\n",
        "    train_loss = 0.0\n",
        "    model.train()  # Set model to training mode\n",
        "    for images, labels in train_loader:\n",
        "        # Zero gradients\n",
        "        optimizer.zero_grad()\n",
        "        # Forward pass\n",
        "        predictions = model(images)\n",
        "        loss = loss_fn(predictions,labels)\n",
        "\n",
        "        # Backward pass\n",
        "        loss.backward()\n",
        "        optimizer.step()\n",
        "\n",
        "        # Append the training loss\n",
        "        train_loss+=loss.item()\n",
        "\n",
        "    print(f\"Epoch {epoch+1}/{num_epochs}, Loss: {train_loss/len(train_loader):.4f}\")\n"
      ]
    },
    {
      "cell_type": "markdown",
      "metadata": {
        "id": "qAu40Az5itQY"
      },
      "source": [
        "\n",
        "\n",
        "---\n",
        "\n"
      ]
    },
    {
      "cell_type": "markdown",
      "metadata": {
        "id": "wZBFzIaZU3gU"
      },
      "source": [
        "**Step 4**: Perform Hyperparameter Tuning\n",
        "Instructions:\n",
        "\n",
        "**Grid Search:**\n",
        "\n",
        "Hyperparameters:\n",
        "* Learning rate: [0.001, 0.01, 0.1]\n",
        "* Batch size: [32, 64]\n",
        "* Evaluate all combinations systematically."
      ]
    },
    {
      "cell_type": "code",
      "execution_count": 22,
      "metadata": {
        "id": "TcJybSHKVSu1"
      },
      "outputs": [
        {
          "name": "stdout",
          "output_type": "stream",
          "text": [
            "LR: 0.001, Batch size: 32, Loss: 2.2633\n",
            "LR: 0.001, Batch size: 64, Loss: 2.2826\n",
            "LR: 0.01, Batch size: 32, Loss: 2.2627\n",
            "LR: 0.01, Batch size: 64, Loss: 2.2819\n",
            "LR: 0.1, Batch size: 32, Loss: 2.2506\n",
            "LR: 0.1, Batch size: 64, Loss: 2.2691\n",
            "Best Params (Grid Search): {'lr': 0.1, 'batch_size': 32}\n"
          ]
        }
      ],
      "source": [
        "# Define grid search parameters\n",
        "learning_rates =[0.001,0.01,0.1]\n",
        "batch_sizes =[32,64]\n",
        "\n",
        "# Train and evaluate for all combinations\n",
        "best_loss = float('inf')\n",
        "best_params = {}\n",
        "\n",
        "for lr in learning_rates:\n",
        "    for batch_size in batch_sizes:\n",
        "        optimizer = optim.SGD(model.parameters(),lr=lr)\n",
        "        train_loader = DataLoader(train_subset,batch_size=batch_size,shuffle=True)\n",
        "        train_loss = 0.0\n",
        "        for images, labels in train_loader:\n",
        "            # Code Here\n",
        "            optimizer.zero_grad()\n",
        "            predictions=model(images)\n",
        "            loss=loss_function(predictions,labels)\n",
        "            loss.backward()\n",
        "            optimizer.step()\n",
        "            train_loss+=loss.item()\n",
        "\n",
        "\n",
        "\n",
        "\n",
        "        avg_loss = train_loss / len(train_loader)\n",
        "        print(f\"LR: {lr}, Batch size: {batch_size}, Loss: {avg_loss:.4f}\")\n",
        "        if avg_loss < best_loss:\n",
        "            best_loss = avg_loss\n",
        "            best_params = {'lr': lr, 'batch_size': batch_size}\n",
        "\n",
        "print(f\"Best Params (Grid Search): {best_params}\")\n"
      ]
    },
    {
      "cell_type": "markdown",
      "metadata": {
        "id": "W-oxYMQFiuwX"
      },
      "source": [
        "\n",
        "\n",
        "---\n",
        "\n"
      ]
    },
    {
      "cell_type": "markdown",
      "metadata": {
        "id": "cZBDWk_wV3hB"
      },
      "source": [
        "**Random Search:**\n",
        "\n",
        "Randomly select hyperparameters for 5 trials from:\n",
        "* Learning rate: [0.0001, 0.001, 0.01, 0.1]\n",
        "* Batch size: [16, 32, 64, 128]"
      ]
    },
    {
      "cell_type": "code",
      "execution_count": 23,
      "metadata": {
        "id": "Tpbk9NjpV5GI"
      },
      "outputs": [
        {
          "name": "stdout",
          "output_type": "stream",
          "text": [
            "LR: 0.1, Batch size: 16, Loss: 2.1499\n",
            "LR: 0.1, Batch size: 32, Loss: 2.1816\n",
            "LR: 0.1, Batch size: 64, Loss: 2.2297\n",
            "LR: 0.1, Batch size: 128, Loss: 2.2649\n",
            "LR: 0.01, Batch size: 16, Loss: 2.0783\n",
            "LR: 0.01, Batch size: 32, Loss: 2.1656\n",
            "LR: 0.01, Batch size: 64, Loss: 2.2286\n",
            "LR: 0.01, Batch size: 128, Loss: 2.2632\n",
            "LR: 0.0001, Batch size: 16, Loss: 2.0732\n",
            "LR: 0.0001, Batch size: 32, Loss: 2.1611\n",
            "LR: 0.0001, Batch size: 64, Loss: 2.2284\n",
            "LR: 0.0001, Batch size: 128, Loss: 2.2634\n",
            "LR: 0.001, Batch size: 16, Loss: 2.0768\n",
            "LR: 0.001, Batch size: 32, Loss: 2.1587\n",
            "LR: 0.001, Batch size: 64, Loss: 2.2263\n",
            "LR: 0.001, Batch size: 128, Loss: 2.2630\n",
            "LR: 0.001, Batch size: 16, Loss: 2.0857\n",
            "LR: 0.001, Batch size: 32, Loss: 2.1651\n",
            "LR: 0.001, Batch size: 64, Loss: 2.2256\n",
            "LR: 0.001, Batch size: 128, Loss: 2.2636\n",
            "Best Params (Random Search): {'lr': 0.0001, 'batch_size': 16}\n"
          ]
        }
      ],
      "source": [
        "# Define random search space\n",
        "learning_rates =[0.0001,0.001,0.01,0.1]\n",
        "batch_sizes =[16,32,64,128]\n",
        "# Randomly sample 5 combinations\n",
        "for _ in range(5):\n",
        "    lr = random.choice(learning_rates)\n",
        "    batch_size = random.choice(batch_sizes)\n",
        "    for batch_size in batch_sizes:\n",
        "        optimizer = optim.SGD(model.parameters(),lr=lr)\n",
        "        train_loader =DataLoader(train_subset,batch_size=batch_size,shuffle=True)\n",
        "        train_loss = 0.0\n",
        "        for images, labels in train_loader:\n",
        "            # Code Here\n",
        "            optimizer.zero_grad()\n",
        "            predicted=model(images)\n",
        "            loss=loss_function(predicted,labels)\n",
        "            loss.backward()\n",
        "            optimizer.step()\n",
        "            train_loss+=loss.item()\n",
        "            \n",
        "        \n",
        "\n",
        "\n",
        "\n",
        "\n",
        "\n",
        "        avg_loss = train_loss / len(train_loader)\n",
        "        print(f\"LR: {lr}, Batch size: {batch_size}, Loss: {avg_loss:.4f}\")\n",
        "        if avg_loss < best_loss:\n",
        "            best_loss = avg_loss\n",
        "            best_params = {'lr': lr, 'batch_size': batch_size}\n",
        "\n",
        "print(f\"Best Params (Random Search): {best_params}\")\n"
      ]
    },
    {
      "cell_type": "markdown",
      "metadata": {
        "id": "4ewVlxfjiv9L"
      },
      "source": [
        "\n",
        "\n",
        "---\n",
        "\n"
      ]
    },
    {
      "cell_type": "markdown",
      "metadata": {
        "id": "u46y5GicWU4Y"
      },
      "source": [
        "**Bayesian Optimization (Optuna):**\n",
        "\n",
        "Use optuna.create_study to dynamically suggest:\n",
        "* Learning rate: Range (0.0001, 0.1)\n",
        "* Hidden layer neurons: Range (32, 256)"
      ]
    },
    {
      "cell_type": "code",
      "execution_count": 25,
      "metadata": {
        "id": "8pX7C-hQWYzu"
      },
      "outputs": [
        {
          "name": "stderr",
          "output_type": "stream",
          "text": [
            "[I 2025-01-30 20:46:09,966] A new study created in memory with name: no-name-7d6556a5-0236-44a9-a5d1-f296b6ba2fda\n",
            "[I 2025-01-30 20:46:10,908] Trial 0 finished with value: 2.258335828781128 and parameters: {'lr': 0.038411150763953635, 'neurons': 130}. Best is trial 0 with value: 2.258335828781128.\n",
            "[I 2025-01-30 20:46:11,863] Trial 1 finished with value: 2.273181234087263 and parameters: {'lr': 0.03472609745485195, 'neurons': 224}. Best is trial 0 with value: 2.258335828781128.\n",
            "[I 2025-01-30 20:46:12,802] Trial 2 finished with value: 2.2738376004355296 and parameters: {'lr': 0.03804520053371584, 'neurons': 64}. Best is trial 0 with value: 2.258335828781128.\n",
            "[I 2025-01-30 20:46:13,814] Trial 3 finished with value: 2.241334472383772 and parameters: {'lr': 0.046091374304941986, 'neurons': 112}. Best is trial 3 with value: 2.241334472383772.\n",
            "[I 2025-01-30 20:46:14,748] Trial 4 finished with value: 2.1455089364733015 and parameters: {'lr': 0.07826839133206026, 'neurons': 255}. Best is trial 4 with value: 2.1455089364733015.\n",
            "[I 2025-01-30 20:46:15,691] Trial 5 finished with value: 2.2674715178353444 and parameters: {'lr': 0.03535096495495597, 'neurons': 85}. Best is trial 4 with value: 2.1455089364733015.\n",
            "[I 2025-01-30 20:46:16,669] Trial 6 finished with value: 2.3001273359571184 and parameters: {'lr': 0.005846054861968003, 'neurons': 116}. Best is trial 4 with value: 2.1455089364733015.\n",
            "[I 2025-01-30 20:46:17,630] Trial 7 finished with value: 2.24709347316197 and parameters: {'lr': 0.04667021543857735, 'neurons': 90}. Best is trial 4 with value: 2.1455089364733015.\n",
            "[I 2025-01-30 20:46:18,567] Trial 8 finished with value: 2.213820763996669 and parameters: {'lr': 0.055917522806583894, 'neurons': 132}. Best is trial 4 with value: 2.1455089364733015.\n",
            "[I 2025-01-30 20:46:19,629] Trial 9 finished with value: 2.284740243639265 and parameters: {'lr': 0.026155171180839678, 'neurons': 34}. Best is trial 4 with value: 2.1455089364733015.\n"
          ]
        },
        {
          "name": "stdout",
          "output_type": "stream",
          "text": [
            "Best Params (Optuna): {'lr': 0.07826839133206026, 'neurons': 255}\n"
          ]
        }
      ],
      "source": [
        "import optuna\n",
        "\n",
        "def objective(trial):\n",
        "    # Suggest parameters\n",
        "    lr = trial.suggest_float('lr', 0.0001, 0.1)\n",
        "    neurons = trial.suggest_int('neurons', 32, 256)\n",
        "\n",
        "    # Modify model\n",
        "    model = nn.Sequential(\n",
        "        nn.Linear(28*28, neurons),\n",
        "        nn.ReLU(),\n",
        "        nn.Linear(neurons, 10),\n",
        "        nn.Softmax(dim=1)\n",
        "    )\n",
        "    optimizer = optim.SGD(model.parameters(), lr=lr)\n",
        "    loss_function = nn.CrossEntropyLoss()\n",
        "\n",
        "    # Train model\n",
        "    model.train()\n",
        "    num_epochs = 5  # Use a small number of epochs for faster Optuna runs\n",
        "    for epoch in range(num_epochs):\n",
        "        for images, labels in train_loader:\n",
        "            # Flatten images\n",
        "            images = images.view(images.size(0), -1)\n",
        "\n",
        "            # Forward pass\n",
        "            predictions = model(images)\n",
        "            loss = loss_function(predictions, labels)\n",
        "\n",
        "            # Backward pass\n",
        "            optimizer.zero_grad()\n",
        "            loss.backward()\n",
        "            optimizer.step()\n",
        "\n",
        "    # Evaluate on the validation set\n",
        "    model.eval()\n",
        "    total_loss = 0.0\n",
        "    with torch.no_grad():\n",
        "        for images, labels in test_loader:\n",
        "            # Flatten images\n",
        "            images = images.view(images.size(0), -1)\n",
        "\n",
        "            # Forward pass\n",
        "            predictions = model(images)\n",
        "            loss = loss_function(predictions, labels)\n",
        "            total_loss += loss.item()\n",
        "\n",
        "    avg_loss = total_loss / len(test_loader)  # Average loss over all batches\n",
        "    return avg_loss  # Return loss for Optuna to minimize\n",
        "\n",
        "study = optuna.create_study(direction='minimize')\n",
        "study.optimize(objective, n_trials=10)\n",
        "print(f\"Best Params (Optuna): {study.best_params}\")\n"
      ]
    },
    {
      "cell_type": "markdown",
      "metadata": {
        "id": "rhLh1t7LYnmj"
      },
      "source": [
        "\n",
        "\n",
        "---\n",
        "\n"
      ]
    },
    {
      "cell_type": "markdown",
      "metadata": {
        "id": "DAkXzAgHW9wQ"
      },
      "source": [
        "**Step5**: Evaluate and Compare the Model\n",
        "\n",
        "* Train the model using the best hyperparameters from each method (Grid Search, Random Search, Optuna).\n",
        "* num_epochs = 50\n",
        "* Evaluate all models on the test set.\n",
        "* Plot training/validation accuracy and loss for the best model.\n"
      ]
    },
    {
      "cell_type": "code",
      "execution_count": 30,
      "metadata": {
        "id": "aMRSKltYXPTD"
      },
      "outputs": [
        {
          "name": "stdout",
          "output_type": "stream",
          "text": [
            "Epoch 1/50, Loss: 2.3036\n",
            "Epoch 2/50, Loss: 2.3036\n",
            "Epoch 3/50, Loss: 2.3036\n",
            "Epoch 4/50, Loss: 2.3036\n",
            "Epoch 5/50, Loss: 2.3036\n",
            "Epoch 6/50, Loss: 2.3036\n",
            "Epoch 7/50, Loss: 2.3036\n",
            "Epoch 8/50, Loss: 2.3035\n",
            "Epoch 9/50, Loss: 2.3036\n",
            "Epoch 10/50, Loss: 2.3036\n",
            "Epoch 11/50, Loss: 2.3036\n",
            "Epoch 12/50, Loss: 2.3036\n",
            "Epoch 13/50, Loss: 2.3035\n",
            "Epoch 14/50, Loss: 2.3036\n",
            "Epoch 15/50, Loss: 2.3036\n",
            "Epoch 16/50, Loss: 2.3035\n",
            "Epoch 17/50, Loss: 2.3035\n",
            "Epoch 18/50, Loss: 2.3035\n",
            "Epoch 19/50, Loss: 2.3035\n",
            "Epoch 20/50, Loss: 2.3035\n",
            "Epoch 21/50, Loss: 2.3035\n",
            "Epoch 22/50, Loss: 2.3035\n",
            "Epoch 23/50, Loss: 2.3035\n",
            "Epoch 24/50, Loss: 2.3035\n",
            "Epoch 25/50, Loss: 2.3035\n",
            "Epoch 26/50, Loss: 2.3035\n",
            "Epoch 27/50, Loss: 2.3035\n",
            "Epoch 28/50, Loss: 2.3035\n",
            "Epoch 29/50, Loss: 2.3035\n",
            "Epoch 30/50, Loss: 2.3035\n",
            "Epoch 31/50, Loss: 2.3035\n",
            "Epoch 32/50, Loss: 2.3035\n",
            "Epoch 33/50, Loss: 2.3035\n",
            "Epoch 34/50, Loss: 2.3034\n",
            "Epoch 35/50, Loss: 2.3035\n",
            "Epoch 36/50, Loss: 2.3034\n",
            "Epoch 37/50, Loss: 2.3034\n",
            "Epoch 38/50, Loss: 2.3035\n",
            "Epoch 39/50, Loss: 2.3034\n",
            "Epoch 40/50, Loss: 2.3035\n",
            "Epoch 41/50, Loss: 2.3034\n",
            "Epoch 42/50, Loss: 2.3034\n",
            "Epoch 43/50, Loss: 2.3033\n",
            "Epoch 44/50, Loss: 2.3034\n",
            "Epoch 45/50, Loss: 2.3034\n",
            "Epoch 46/50, Loss: 2.3034\n",
            "Epoch 47/50, Loss: 2.3034\n",
            "Epoch 48/50, Loss: 2.3034\n",
            "Epoch 49/50, Loss: 2.3034\n",
            "Epoch 50/50, Loss: 2.3034\n",
            "Test Loss: 2.3030\n",
            "Test Accuracy: 8.00%\n"
          ]
        }
      ],
      "source": [
        "# Train model with best params and evaluate\n",
        "model = FashionNN()  # Re-initialize the model\n",
        "optimizer = optim.SGD(model.parameters(),lr=best_params['lr'])\n",
        "train_loader = DataLoader(train_subset,batch_size=best_params['batch_size'],shuffle=True)\n",
        "\n",
        "# Define loss function\n",
        "loss_function = nn.CrossEntropyLoss()\n",
        "\n",
        "# Training loop\n",
        "num_epochs = 50 # Re-train with best parameters\n",
        "for epoch in range(num_epochs):\n",
        "    train_loss = 0.0\n",
        "    model.train()  # Set model to training mode\n",
        "    for images, labels in train_loader:\n",
        "        # Clear previous gradients\n",
        "        optimizer.zero_grad()\n",
        "        predictions =model(images)               # Forward pass\n",
        "\n",
        "        loss =loss_function(predictions,labels)                       # Compute loss\n",
        "        # Backpropagation\n",
        "        loss.backward()\n",
        "        # Update weights\n",
        "        optimizer.step()\n",
        "        train_loss += loss.item()\n",
        "    print(f\"Epoch {epoch+1}/{num_epochs}, Loss: {train_loss/len(train_loader):.4f}\")\n",
        "\n",
        "\n",
        "# Evaluate on test set\n",
        "model.eval()  # Set model to evaluation mode\n",
        "test_loss = 0.0\n",
        "correct = 0\n",
        "total = 0\n",
        "\n",
        "with torch.no_grad():  # Disable gradient computation for evaluation\n",
        "    for images, labels in test_loader:\n",
        "        predictions =model(images)         # Forward pass\n",
        "        loss =loss_function(predictions,labels)                   # Compute loss\n",
        "        test_loss += loss.item()\n",
        "\n",
        "        # Calculate accuracy\n",
        "        _, predicted = torch.max(predictions, 1)  # Get class with highest probability\n",
        "        total += labels.size(0)\n",
        "        correct += (predicted == labels).sum().item()\n",
        "\n",
        "# Print test loss and accuracy\n",
        "print(f\"Test Loss: {test_loss/len(test_loader):.4f}\")\n",
        "print(f\"Test Accuracy: {100 * correct / total:.2f}%\")\n",
        "\n"
      ]
    },
    {
      "cell_type": "markdown",
      "metadata": {
        "id": "n4LgAqQ1Yo7_"
      },
      "source": [
        "\n",
        "\n",
        "---\n",
        "\n"
      ]
    },
    {
      "cell_type": "markdown",
      "metadata": {
        "id": "e0sNkV7nYsZf"
      },
      "source": [
        "**Step6**: Visualize the Model"
      ]
    },
    {
      "cell_type": "code",
      "execution_count": 31,
      "metadata": {
        "id": "W1TNb1LaYwq1"
      },
      "outputs": [
        {
          "data": {
            "image/png": "[encoded data removed]",
            "text/plain": [
              "<Figure size 640x480 with 9 Axes>"
            ]
          },
          "metadata": {},
          "output_type": "display_data"
        }
      ],
      "source": [
        "# Get predictions\n",
        "model.eval()\n",
        "images, labels = next(iter(test_loader))\n",
        "predictions = model(images).argmax(dim=1)\n",
        "\n",
        "# Plot 9 images\n",
        "for i in range(9):\n",
        "    plt.subplot(3, 3, i+1)\n",
        "    plt.imshow(images[i].squeeze(), cmap='gray')\n",
        "    plt.title(f\"Pred: {predictions[i]}, True: {labels[i]}\")\n",
        "    plt.axis('off')\n",
        "plt.show()\n"
      ]
    },
    {
      "cell_type": "code",
      "execution_count": null,
      "metadata": {},
      "outputs": [],
      "source": []
    }
  ],
  "metadata": {
    "colab": {
      "provenance": []
    },
    "kernelspec": {
      "display_name": "myenv_cb_dl",
      "language": "python",
      "name": "python3"
    },
    "language_info": {
      "codemirror_mode": {
        "name": "ipython",
        "version": 3
      },
      "file_extension": ".py",
      "mimetype": "text/x-python",
      "name": "python",
      "nbconvert_exporter": "python",
      "pygments_lexer": "ipython3",
      "version": "3.8.20"
    }
  },
  "nbformat": 4,
  "nbformat_minor": 0
}
