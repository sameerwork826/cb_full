{
  "cells": [
    {
      "cell_type": "markdown",
      "metadata": {
        "id": "HS_V6StcOXOr"
      },
      "source": [
        "# Problem Statement: **Hyperparameter Tuning for AtliQ’s Fashion Item Classifier**\n",
        "\n",
        "### AtliQ Fashion wants to develop a neural network to classify fashion items using the FashionMNIST dataset. Your task is to optimize the neural network's performance by fine-tuning its hyperparameters. We will be using **FashionMNIST** dataset but since the dataset is large, we will work with only a subset to ensure that the solution is computationally feasible.\n",
        "\n",
        "**References:**\n",
        "\n",
        "* transforms.Compose (PyTorch): [Link](https://pytorch.org/vision/master/generated/torchvision.transforms.Compose.html)\n",
        "* Optuna (Hyperparameter Optimization Framework) [Link](https://optuna.readthedocs.io/en/stable/)"
      ]
    },
    {
      "cell_type": "markdown",
      "metadata": {
        "id": "PpUcw3m_gAdy"
      },
      "source": [
        "Imports and CUDA"
      ]
    },
    {
      "cell_type": "code",
      "execution_count": 1,
      "metadata": {
        "colab": {
          "base_uri": "https://localhost:8080/"
        },
        "collapsed": true,
        "id": "z2ObSbddaDFv",
        "outputId": "3fa8b2d2-23b2-457d-d9a9-6a10d7f0378b"
      },
      "outputs": [
        {
          "name": "stdout",
          "output_type": "stream",
          "text": [
            "Requirement already satisfied: optuna in c:\\users\\nande\\.conda\\envs\\myenv_cb_dl\\lib\\site-packages (4.2.0)\n",
            "Requirement already satisfied: alembic>=1.5.0 in c:\\users\\nande\\.conda\\envs\\myenv_cb_dl\\lib\\site-packages (from optuna) (1.13.3)\n",
            "Requirement already satisfied: colorlog in c:\\users\\nande\\.conda\\envs\\myenv_cb_dl\\lib\\site-packages (from optuna) (5.0.1)\n",
            "Requirement already satisfied: numpy in c:\\users\\nande\\.conda\\envs\\myenv_cb_dl\\lib\\site-packages (from optuna) (1.23.5)\n",
            "Requirement already satisfied: packaging>=20.0 in c:\\users\\nande\\.conda\\envs\\myenv_cb_dl\\lib\\site-packages (from optuna) (24.1)\n",
            "Requirement already satisfied: sqlalchemy>=1.4.2 in c:\\users\\nande\\.conda\\envs\\myenv_cb_dl\\lib\\site-packages (from optuna) (2.0.34)\n",
            "Requirement already satisfied: tqdm in c:\\users\\nande\\.conda\\envs\\myenv_cb_dl\\lib\\site-packages (from optuna) (4.66.5)\n",
            "Requirement already satisfied: PyYAML in c:\\users\\nande\\.conda\\envs\\myenv_cb_dl\\lib\\site-packages (from optuna) (6.0.1)\n",
            "Requirement already satisfied: Mako in c:\\users\\nande\\.conda\\envs\\myenv_cb_dl\\lib\\site-packages (from alembic>=1.5.0->optuna) (1.2.3)\n",
            "Requirement already satisfied: typing-extensions>=4 in c:\\users\\nande\\.conda\\envs\\myenv_cb_dl\\lib\\site-packages (from alembic>=1.5.0->optuna) (4.11.0)\n",
            "Requirement already satisfied: importlib-metadata in c:\\users\\nande\\.conda\\envs\\myenv_cb_dl\\lib\\site-packages (from alembic>=1.5.0->optuna) (7.0.1)\n",
            "Requirement already satisfied: importlib-resources in c:\\users\\nande\\.conda\\envs\\myenv_cb_dl\\lib\\site-packages (from alembic>=1.5.0->optuna) (6.4.0)\n",
            "Requirement already satisfied: greenlet!=0.4.17 in c:\\users\\nande\\.conda\\envs\\myenv_cb_dl\\lib\\site-packages (from sqlalchemy>=1.4.2->optuna) (3.0.1)\n",
            "Requirement already satisfied: colorama in c:\\users\\nande\\.conda\\envs\\myenv_cb_dl\\lib\\site-packages (from colorlog->optuna) (0.4.6)\n",
            "Requirement already satisfied: zipp>=0.5 in c:\\users\\nande\\.conda\\envs\\myenv_cb_dl\\lib\\site-packages (from importlib-metadata->alembic>=1.5.0->optuna) (3.17.0)\n",
            "Requirement already satisfied: MarkupSafe>=0.9.2 in c:\\users\\nande\\.conda\\envs\\myenv_cb_dl\\lib\\site-packages (from Mako->alembic>=1.5.0->optuna) (2.1.3)\n"
          ]
        }
      ],
      "source": [
        "!pip install optuna"
      ]
    },
    {
      "cell_type": "code",
      "execution_count": 2,
      "metadata": {
        "colab": {
          "base_uri": "https://localhost:8080/"
        },
        "id": "Nv9L_r8yOjoo",
        "outputId": "d30d4630-2fdf-46d8-c6d4-7b00c7613521"
      },
      "outputs": [
        {
          "name": "stdout",
          "output_type": "stream",
          "text": [
            "Using device: cuda\n"
          ]
        }
      ],
      "source": [
        "import torch\n",
        "import numpy as np\n",
        "import torch.nn as nn\n",
        "import torch.optim as optim\n",
        "from torch.utils.data import DataLoader, TensorDataset, random_split\n",
        "from torchvision import datasets, transforms\n",
        "from sklearn.metrics import accuracy_score, confusion_matrix\n",
        "import matplotlib.pyplot as plt\n",
        "import pandas as pd\n",
        "import optuna\n",
        "import random\n",
        "\n",
        "# Check if CUDA (GPU) is available\n",
        "device = torch.device('cuda' if torch.cuda.is_available() else 'cpu')\n",
        "print(f\"Using device: {device}\")"
      ]
    },
    {
      "cell_type": "markdown",
      "metadata": {
        "id": "65TpZ6z3YVcT"
      },
      "source": [
        "\n",
        "\n",
        "---\n",
        "\n"
      ]
    },
    {
      "cell_type": "markdown",
      "metadata": {
        "id": "nBrkVANZOnea"
      },
      "source": [
        "**Dataset Overview**\n",
        "\n",
        "* Dataset: FashionMNIST\n",
        "* Classes: 10 (e.g., T-shirts, trousers, shoes)\n",
        "* Training Images: Subset of 10,000 (randomly sampled from 60,000)\n",
        "* Test Images: Subset of 2,000 (randomly sampled from 10,000)"
      ]
    },
    {
      "cell_type": "markdown",
      "metadata": {
        "id": "MJiS4LzoYWh9"
      },
      "source": [
        "\n",
        "\n",
        "---\n",
        "\n"
      ]
    },
    {
      "cell_type": "markdown",
      "metadata": {
        "id": "caIjvjTMOuKb"
      },
      "source": [
        "**Step1**: Load and Sample the Dataset\n",
        "\n",
        "* Load the FashionMNIST dataset using torchvision.datasets.\n",
        "* Sample 10,000 images for training and 2,000 images for testing.\n",
        "* Normalize the pixel values to the range [-1, 1].\n",
        "* Create PyTorch DataLoaders for the training and test sets."
      ]
    },
    {
      "cell_type": "code",
      "execution_count": 3,
      "metadata": {
        "colab": {
          "base_uri": "https://localhost:8080/"
        },
        "id": "4ESYRM7JK-UW",
        "outputId": "c2991ec3-8098-49e5-920f-7e37dc625794"
      },
      "outputs": [],
      "source": [
        "# Transform: Normalize and convert to tensor\n",
        "transform = transforms.Compose([\n",
        "    transforms.ToTensor(),\n",
        "    transforms.Normalize((0.5,), (0.5,))  # Centers the pixel values around 0 and scales them to [-1, 1]\n",
        "])\n",
        "\n",
        "# Load FashionMNIST dataset\n",
        "\n",
        "dataset = datasets.FashionMNIST(root='./data', train=True, download=True, transform=transform)\n",
        "\n",
        "test_dataset = datasets.FashionMNIST(root='./data', train=False, download=True, transform=transform)\n",
        "\n",
        "\n",
        "\n",
        "# Sample the datset\n",
        "\n",
        "train_subset_size = 10000\n",
        "test_subset_size = 2000\n"
      ]
    },
    {
      "cell_type": "markdown",
      "metadata": {
        "id": "lLQCnqgQgINH"
      },
      "source": [
        "**Key Insight:**\n",
        "\n",
        "* Sampling a smaller subset reduces computational cost, making it feasible for learners.\n",
        "* Normalizing to [-1, 1] helps the model converge faster and avoid numerical instability.\n"
      ]
    },
    {
      "cell_type": "markdown",
      "metadata": {
        "id": "S9NJ-ejsYYU7"
      },
      "source": [
        "\n",
        "\n",
        "---\n",
        "\n"
      ]
    },
    {
      "cell_type": "markdown",
      "metadata": {
        "id": "wbAUaSPmSfsZ"
      },
      "source": [
        "**Step2**: Create Dataloaders\n",
        "\n",
        "* batch size = 32\n"
      ]
    },
    {
      "cell_type": "code",
      "execution_count": 4,
      "metadata": {
        "id": "US239seqaZGN"
      },
      "outputs": [],
      "source": [
        "train_subset, _ = random_split(dataset, [train_subset_size, len(dataset) - train_subset_size])\n",
        "test_subset, _ = random_split(test_dataset, [test_subset_size, len(test_dataset) - test_subset_size])"
      ]
    },
    {
      "cell_type": "code",
      "execution_count": 5,
      "metadata": {
        "id": "Hz00fg0sSqT2"
      },
      "outputs": [],
      "source": [
        "batch_size = 32\n",
        "train_loader = DataLoader(train_subset, batch_size=batch_size, shuffle=True)\n",
        "test_loader = DataLoader(test_subset, batch_size=batch_size, shuffle=False)"
      ]
    },
    {
      "cell_type": "code",
      "execution_count": 6,
      "metadata": {
        "colab": {
          "base_uri": "https://localhost:8080/"
        },
        "id": "oq15WEfhS1HV",
        "outputId": "757a5b25-df6b-4453-e495-100c668efac1"
      },
      "outputs": [
        {
          "name": "stdout",
          "output_type": "stream",
          "text": [
            "Training data size: 10000\n",
            "Testing data size: 2000\n"
          ]
        }
      ],
      "source": [
        "print(f\"Training data size: {len(train_subset)}\")\n",
        "print(f\"Testing data size: {len(test_subset)}\")"
      ]
    },
    {
      "cell_type": "markdown",
      "metadata": {
        "id": "AuzZ2SdqhJvm"
      },
      "source": [
        "**Key Insights**\n",
        "\n",
        "* `random_split` is a PyTorch utility that randomly divides a dataset into two subsets.\n",
        "* The first subset will have `size1` samples, and the second subset will have `size2` samples."
      ]
    },
    {
      "cell_type": "markdown",
      "metadata": {
        "id": "1dSLUp9EYaG9"
      },
      "source": [
        "\n",
        "\n",
        "---\n",
        "\n"
      ]
    },
    {
      "cell_type": "markdown",
      "metadata": {
        "id": "bGRSPjG0StuU"
      },
      "source": [
        "**Step3**: Define the Neural Network\n",
        "\n",
        "* Create a fully connected feed-forward neural network (no CNN).\n",
        "\n",
        "Structure:\n",
        "* Input layer: 784 neurons (28x28 image flattened).\n",
        "* 1st hidden layer: 128 neurons with ReLU activation.\n",
        "* 2nd hidden layer: 64 neurons with ReLU activation.\n",
        "* Output layer: 10 neurons (one for each class) with Softmax activation.\n",
        "\n",
        "Use `nn.Sequential`"
      ]
    },
    {
      "cell_type": "code",
      "execution_count": 7,
      "metadata": {
        "colab": {
          "base_uri": "https://localhost:8080/"
        },
        "id": "QJYOKAZmTpkb",
        "outputId": "9508c6c1-e9e7-4e91-b0ab-e6f30ca5b821"
      },
      "outputs": [],
      "source": [
        "class FashionNN(nn.Module):\n",
        "    def __init__(self):\n",
        "        super(FashionNN, self).__init__()\n",
        "        self.network = nn.Sequential(\n",
        "            nn.Flatten(),          # Flatten the input tensor\n",
        "            nn.Linear(28*28, 128), # Input layer (784)\n",
        "            nn.ReLU(),             # Activation\n",
        "            nn.Linear(128, 64),    # Hidden layer 1\n",
        "            nn.ReLU(),             # Activation\n",
        "            nn.Linear(64, 10),     # Output layer (10 classes)\n",
        "            nn.Softmax(dim=1)      # Softmax for probabilities\n",
        "        )\n",
        "\n",
        "    def forward(self, x):\n",
        "        return self.network(x)  # No need for explicit flattening\n",
        "\n"
      ]
    },
    {
      "cell_type": "markdown",
      "metadata": {
        "id": "WmmmOsEPhUsx"
      },
      "source": [
        "**Key Insight**\n",
        "\n",
        "* Flattening 28x28 images to 784 ensures compatibility with linear layers.\n"
      ]
    },
    {
      "cell_type": "markdown",
      "metadata": {
        "id": "UJmkGAINYb0C"
      },
      "source": [
        "\n",
        "\n",
        "---\n",
        "\n"
      ]
    },
    {
      "cell_type": "markdown",
      "metadata": {
        "id": "PNO5O1W_UI7L"
      },
      "source": [
        "**Step 3**: Train the Base Model\n",
        "\n",
        "Instructions:\n",
        "\n",
        "Set the following base hyperparameters:\n",
        "* Loss function: Cross Entropy Loss\n",
        "* Learning rate: 0.01\n",
        "* Batch size: 32\n",
        "* Optimizer: SGD\n",
        "* Epochs: 100\n",
        "\n",
        "Train the model and record the training/validation accuracy and loss.\n"
      ]
    },
    {
      "cell_type": "code",
      "execution_count": 9,
      "metadata": {
        "colab": {
          "base_uri": "https://localhost:8080/"
        },
        "id": "Mb5gFuiUUTDC",
        "outputId": "003fa121-3dc5-4ac6-9f30-3c1e103c900e"
      },
      "outputs": [
        {
          "name": "stdout",
          "output_type": "stream",
          "text": [
            "Epoch 1/100, Loss: 2.2941\n",
            "Epoch 2/100, Loss: 2.2659\n",
            "Epoch 3/100, Loss: 2.1827\n",
            "Epoch 4/100, Loss: 2.0670\n",
            "Epoch 5/100, Loss: 1.9750\n",
            "Epoch 6/100, Loss: 1.8858\n",
            "Epoch 7/100, Loss: 1.8334\n",
            "Epoch 8/100, Loss: 1.8084\n",
            "Epoch 9/100, Loss: 1.7933\n",
            "Epoch 10/100, Loss: 1.7831\n",
            "Epoch 11/100, Loss: 1.7757\n",
            "Epoch 12/100, Loss: 1.7697\n",
            "Epoch 13/100, Loss: 1.7647\n",
            "Epoch 14/100, Loss: 1.7597\n",
            "Epoch 15/100, Loss: 1.7430\n",
            "Epoch 16/100, Loss: 1.7241\n",
            "Epoch 17/100, Loss: 1.7132\n",
            "Epoch 18/100, Loss: 1.7051\n",
            "Epoch 19/100, Loss: 1.6993\n",
            "Epoch 20/100, Loss: 1.6949\n",
            "Epoch 21/100, Loss: 1.6909\n",
            "Epoch 22/100, Loss: 1.6874\n",
            "Epoch 23/100, Loss: 1.6847\n",
            "Epoch 24/100, Loss: 1.6822\n",
            "Epoch 25/100, Loss: 1.6801\n",
            "Epoch 26/100, Loss: 1.6778\n",
            "Epoch 27/100, Loss: 1.6762\n",
            "Epoch 28/100, Loss: 1.6747\n",
            "Epoch 29/100, Loss: 1.6732\n",
            "Epoch 30/100, Loss: 1.6710\n",
            "Epoch 31/100, Loss: 1.6697\n",
            "Epoch 32/100, Loss: 1.6679\n",
            "Epoch 33/100, Loss: 1.6668\n",
            "Epoch 34/100, Loss: 1.6656\n",
            "Epoch 35/100, Loss: 1.6643\n",
            "Epoch 36/100, Loss: 1.6625\n",
            "Epoch 37/100, Loss: 1.6614\n",
            "Epoch 38/100, Loss: 1.6604\n",
            "Epoch 39/100, Loss: 1.6600\n",
            "Epoch 40/100, Loss: 1.6584\n",
            "Epoch 41/100, Loss: 1.6578\n",
            "Epoch 42/100, Loss: 1.6568\n",
            "Epoch 43/100, Loss: 1.6556\n",
            "Epoch 44/100, Loss: 1.6544\n",
            "Epoch 45/100, Loss: 1.6537\n",
            "Epoch 46/100, Loss: 1.6537\n",
            "Epoch 47/100, Loss: 1.6522\n",
            "Epoch 48/100, Loss: 1.6514\n",
            "Epoch 49/100, Loss: 1.6510\n",
            "Epoch 50/100, Loss: 1.6498\n",
            "Epoch 51/100, Loss: 1.6495\n",
            "Epoch 52/100, Loss: 1.6490\n",
            "Epoch 53/100, Loss: 1.6477\n",
            "Epoch 54/100, Loss: 1.6475\n",
            "Epoch 55/100, Loss: 1.6470\n",
            "Epoch 56/100, Loss: 1.6464\n",
            "Epoch 57/100, Loss: 1.6456\n",
            "Epoch 58/100, Loss: 1.6452\n",
            "Epoch 59/100, Loss: 1.6446\n",
            "Epoch 60/100, Loss: 1.6436\n",
            "Epoch 61/100, Loss: 1.6434\n",
            "Epoch 62/100, Loss: 1.6428\n",
            "Epoch 63/100, Loss: 1.6422\n",
            "Epoch 64/100, Loss: 1.6411\n",
            "Epoch 65/100, Loss: 1.6411\n",
            "Epoch 66/100, Loss: 1.6404\n",
            "Epoch 67/100, Loss: 1.6400\n",
            "Epoch 68/100, Loss: 1.6396\n",
            "Epoch 69/100, Loss: 1.6386\n",
            "Epoch 70/100, Loss: 1.6383\n",
            "Epoch 71/100, Loss: 1.6379\n",
            "Epoch 72/100, Loss: 1.6372\n",
            "Epoch 73/100, Loss: 1.6371\n",
            "Epoch 74/100, Loss: 1.6367\n",
            "Epoch 75/100, Loss: 1.6360\n",
            "Epoch 76/100, Loss: 1.6356\n",
            "Epoch 77/100, Loss: 1.6349\n",
            "Epoch 78/100, Loss: 1.6348\n",
            "Epoch 79/100, Loss: 1.6340\n",
            "Epoch 80/100, Loss: 1.6338\n",
            "Epoch 81/100, Loss: 1.6329\n",
            "Epoch 82/100, Loss: 1.6328\n",
            "Epoch 83/100, Loss: 1.6322\n",
            "Epoch 84/100, Loss: 1.6317\n",
            "Epoch 85/100, Loss: 1.6317\n",
            "Epoch 86/100, Loss: 1.6312\n",
            "Epoch 87/100, Loss: 1.6307\n",
            "Epoch 88/100, Loss: 1.6304\n",
            "Epoch 89/100, Loss: 1.6303\n",
            "Epoch 90/100, Loss: 1.6295\n",
            "Epoch 91/100, Loss: 1.6293\n",
            "Epoch 92/100, Loss: 1.6292\n",
            "Epoch 93/100, Loss: 1.6285\n",
            "Epoch 94/100, Loss: 1.6282\n",
            "Epoch 95/100, Loss: 1.6280\n",
            "Epoch 96/100, Loss: 1.6273\n",
            "Epoch 97/100, Loss: 1.6270\n",
            "Epoch 98/100, Loss: 1.6267\n",
            "Epoch 99/100, Loss: 1.6264\n",
            "Epoch 100/100, Loss: 1.6258\n"
          ]
        }
      ],
      "source": [
        "# Define loss function and optimizer\n",
        "model=FashionNN()\n",
        "loss_function = nn.CrossEntropyLoss()\n",
        "optimizer = optim.SGD(model.parameters(), lr=0.01)\n",
        "\n",
        "# Training loop\n",
        "num_epochs = 100\n",
        "for epoch in range(num_epochs):\n",
        "    train_loss = 0.0\n",
        "    model.train()  # Set model to training mode\n",
        "    for images, labels in train_loader:\n",
        "        # Zero gradients\n",
        "        optimizer.zero_grad()\n",
        "        # Forward pass\n",
        "        predictions = model(images)\n",
        "        loss = loss_function(predictions, labels)\n",
        "        # Backward pass\n",
        "        loss.backward()\n",
        "        optimizer.step()\n",
        "        # Append the training loss\n",
        "        train_loss += loss.item()\n",
        "\n",
        "    print(f\"Epoch {epoch+1}/{num_epochs}, Loss: {train_loss/len(train_loader):.4f}\")\n"
      ]
    },
    {
      "cell_type": "markdown",
      "metadata": {
        "id": "jRX6sJn-iDbE"
      },
      "source": [
        "\n",
        "\n",
        "---\n",
        "\n"
      ]
    },
    {
      "cell_type": "markdown",
      "metadata": {
        "id": "wZBFzIaZU3gU"
      },
      "source": [
        "**Step 4**: Perform Hyperparameter Tuning\n",
        "Instructions:\n",
        "\n",
        "**Grid Search:**\n",
        "\n",
        "Hyperparameters:\n",
        "* Learning rate: [0.001, 0.01, 0.1]\n",
        "* Batch size: [32, 64]\n",
        "* Evaluate all combinations systematically."
      ]
    },
    {
      "cell_type": "code",
      "execution_count": null,
      "metadata": {
        "colab": {
          "base_uri": "https://localhost:8080/"
        },
        "id": "TcJybSHKVSu1",
        "outputId": "f84780b4-1563-4981-cb58-8f012f4b18bc"
      },
      "outputs": [
        {
          "name": "stdout",
          "output_type": "stream",
          "text": [
            "LR: 0.001, Batch size: 32, Loss: 1.6560\n",
            "LR: 0.001, Batch size: 64, Loss: 1.6552\n",
            "LR: 0.01, Batch size: 32, Loss: 1.6562\n",
            "LR: 0.01, Batch size: 64, Loss: 1.6523\n",
            "LR: 0.1, Batch size: 32, Loss: 1.6715\n",
            "LR: 0.1, Batch size: 64, Loss: 1.6446\n",
            "Best Params (Grid Search): {'lr': 0.1, 'batch_size': 64}\n"
          ]
        }
      ],
      "source": [
        "# Define grid search parameters\n",
        "learning_rates = [0.001, 0.01, 0.1]\n",
        "batch_sizes = [32, 64]\n",
        "\n",
        "# Train and evaluate for all combinations\n",
        "best_loss = float('inf')\n",
        "best_params = {}\n",
        "\n",
        "for lr in learning_rates:\n",
        "    for batch_size in batch_sizes:\n",
        "        optimizer = optim.SGD(model.parameters(), lr=lr)\n",
        "        train_loader = DataLoader(train_subset, batch_size=batch_size, shuffle=True)\n",
        "        train_loss = 0.0\n",
        "        for images, labels in train_loader:\n",
        "            optimizer.zero_grad()\n",
        "            predictions = model(images)\n",
        "            loss = loss_function(predictions, labels)\n",
        "            loss.backward()\n",
        "            optimizer.step()\n",
        "            train_loss += loss.item()\n",
        "\n",
        "        avg_loss = train_loss / len(train_loader)\n",
        "        print(f\"LR: {lr}, Batch size: {batch_size}, Loss: {avg_loss:.4f}\")\n",
        "        if avg_loss < best_loss:\n",
        "            best_loss = avg_loss\n",
        "            best_params = {'lr': lr, 'batch_size': batch_size}\n",
        "\n",
        "print(f\"Best Params (Grid Search): {best_params}\")\n"
      ]
    },
    {
      "cell_type": "markdown",
      "metadata": {
        "id": "ZXuP6Pfthf9Y"
      },
      "source": [
        "**Key Insight**\n",
        "\n",
        "* Grid search systematically tests all combinations, making it exhaustive but computationally expensive."
      ]
    },
    {
      "cell_type": "markdown",
      "metadata": {
        "id": "_P4D6kroiBPf"
      },
      "source": [
        "\n",
        "\n",
        "---\n",
        "\n"
      ]
    },
    {
      "cell_type": "markdown",
      "metadata": {
        "id": "cZBDWk_wV3hB"
      },
      "source": [
        "**Random Search:**\n",
        "\n",
        "Randomly select hyperparameters for 5 trials from:\n",
        "* Learning rate: [0.0001, 0.001, 0.01, 0.1]\n",
        "* Batch size: [16, 32, 64, 128]"
      ]
    },
    {
      "cell_type": "code",
      "execution_count": null,
      "metadata": {
        "colab": {
          "base_uri": "https://localhost:8080/"
        },
        "id": "Tpbk9NjpV5GI",
        "outputId": "065a656a-aecf-4791-9eb3-a827f9e6cbcb"
      },
      "outputs": [
        {
          "name": "stdout",
          "output_type": "stream",
          "text": [
            "LR: 0.01, Batch size: 16, Loss: 1.6302\n",
            "LR: 0.01, Batch size: 32, Loss: 1.6250\n",
            "LR: 0.01, Batch size: 64, Loss: 1.6229\n",
            "LR: 0.01, Batch size: 128, Loss: 1.6218\n",
            "LR: 0.0001, Batch size: 16, Loss: 1.6216\n",
            "LR: 0.0001, Batch size: 32, Loss: 1.6215\n",
            "LR: 0.0001, Batch size: 64, Loss: 1.6217\n",
            "LR: 0.0001, Batch size: 128, Loss: 1.6219\n",
            "LR: 0.1, Batch size: 16, Loss: 1.6645\n",
            "LR: 0.1, Batch size: 32, Loss: 1.6340\n",
            "LR: 0.1, Batch size: 64, Loss: 1.6196\n",
            "LR: 0.1, Batch size: 128, Loss: 1.6119\n",
            "LR: 0.01, Batch size: 16, Loss: 1.6078\n",
            "LR: 0.01, Batch size: 32, Loss: 1.6042\n",
            "LR: 0.01, Batch size: 64, Loss: 1.6036\n",
            "LR: 0.01, Batch size: 128, Loss: 1.6011\n",
            "LR: 0.1, Batch size: 16, Loss: 1.6449\n",
            "LR: 0.1, Batch size: 32, Loss: 1.6216\n",
            "LR: 0.1, Batch size: 64, Loss: 1.6047\n",
            "LR: 0.1, Batch size: 128, Loss: 1.5954\n",
            "Best Params (Random Search): {'lr': 0.1, 'batch_size': 128}\n"
          ]
        }
      ],
      "source": [
        "# Define random search space\n",
        "learning_rates = [0.0001, 0.001, 0.01, 0.1]\n",
        "batch_sizes = [16, 32, 64, 128]\n",
        "\n",
        "# Randomly sample 5 combinations\n",
        "for _ in range(5):\n",
        "    lr = random.choice(learning_rates)\n",
        "    batch_size = random.choice(batch_sizes)\n",
        "    for batch_size in batch_sizes:\n",
        "        optimizer = optim.SGD(model.parameters(), lr=lr)\n",
        "        train_loader = DataLoader(train_subset, batch_size=batch_size, shuffle=True)\n",
        "        train_loss = 0.0\n",
        "        for images, labels in train_loader:\n",
        "            optimizer.zero_grad()\n",
        "            predictions = model(images)\n",
        "            loss = loss_function(predictions, labels)\n",
        "            loss.backward()\n",
        "            optimizer.step()\n",
        "            train_loss += loss.item()\n",
        "\n",
        "        avg_loss = train_loss / len(train_loader)\n",
        "        print(f\"LR: {lr}, Batch size: {batch_size}, Loss: {avg_loss:.4f}\")\n",
        "        if avg_loss < best_loss:\n",
        "            best_loss = avg_loss\n",
        "            best_params = {'lr': lr, 'batch_size': batch_size}\n",
        "\n",
        "print(f\"Best Params (Random Search): {best_params}\")\n"
      ]
    },
    {
      "cell_type": "markdown",
      "metadata": {
        "id": "7rsU1HwfhnOR"
      },
      "source": [
        "**Key Insight**\n",
        "\n",
        "Random search can save time by sampling fewer combinations, though it might miss the best parameters."
      ]
    },
    {
      "cell_type": "markdown",
      "metadata": {
        "id": "AVbmhx9jh_sw"
      },
      "source": [
        "\n",
        "\n",
        "---\n",
        "\n"
      ]
    },
    {
      "cell_type": "markdown",
      "metadata": {
        "id": "u46y5GicWU4Y"
      },
      "source": [
        "**Bayesian Optimization (Optuna):**\n",
        "\n",
        "Use optuna.create_study to dynamically suggest:\n",
        "* Learning rate: Range (0.0001, 0.1)\n",
        "* Hidden layer neurons: Range (32, 256)"
      ]
    },
    {
      "cell_type": "code",
      "execution_count": null,
      "metadata": {
        "colab": {
          "base_uri": "https://localhost:8080/"
        },
        "id": "8pX7C-hQWYzu",
        "outputId": "c585b0bb-2fcc-4290-df31-bc14c733c706"
      },
      "outputs": [
        {
          "name": "stderr",
          "output_type": "stream",
          "text": [
            "[I 2024-11-29 21:09:26,339] A new study created in memory with name: no-name-82adcb41-9515-4399-b1f5-d5b4812a4f5e\n",
            "[I 2024-11-29 21:09:41,710] Trial 0 finished with value: 1.8321388297610812 and parameters: {'lr': 0.02829160173758147, 'neurons': 137}. Best is trial 0 with value: 1.8321388297610812.\n",
            "[I 2024-11-29 21:09:57,312] Trial 1 finished with value: 2.2904376378135076 and parameters: {'lr': 0.001887254181446645, 'neurons': 65}. Best is trial 0 with value: 1.8321388297610812.\n",
            "[I 2024-11-29 21:10:12,952] Trial 2 finished with value: 1.999411183690268 and parameters: {'lr': 0.01723889609970297, 'neurons': 174}. Best is trial 0 with value: 1.8321388297610812.\n",
            "[I 2024-11-29 21:10:28,324] Trial 3 finished with value: 2.046592748354352 and parameters: {'lr': 0.015377349910871915, 'neurons': 51}. Best is trial 0 with value: 1.8321388297610812.\n",
            "[I 2024-11-29 21:10:44,346] Trial 4 finished with value: 1.759322446490091 and parameters: {'lr': 0.06027340154476324, 'neurons': 248}. Best is trial 4 with value: 1.759322446490091.\n",
            "[I 2024-11-29 21:10:59,263] Trial 5 finished with value: 1.760380502731081 and parameters: {'lr': 0.0615006052741902, 'neurons': 119}. Best is trial 4 with value: 1.759322446490091.\n",
            "[I 2024-11-29 21:11:13,768] Trial 6 finished with value: 1.749889682209681 and parameters: {'lr': 0.07179060857487811, 'neurons': 63}. Best is trial 6 with value: 1.749889682209681.\n",
            "[I 2024-11-29 21:11:28,609] Trial 7 finished with value: 1.7368388913926625 and parameters: {'lr': 0.09295178735979277, 'neurons': 118}. Best is trial 7 with value: 1.7368388913926625.\n",
            "[I 2024-11-29 21:11:43,295] Trial 8 finished with value: 2.020007375686888 and parameters: {'lr': 0.013293811247138942, 'neurons': 122}. Best is trial 7 with value: 1.7368388913926625.\n",
            "[I 2024-11-29 21:11:58,460] Trial 9 finished with value: 1.7754252657057747 and parameters: {'lr': 0.04517739679766781, 'neurons': 239}. Best is trial 7 with value: 1.7368388913926625.\n"
          ]
        },
        {
          "name": "stdout",
          "output_type": "stream",
          "text": [
            "Best Params (Optuna): {'lr': 0.09295178735979277, 'neurons': 118}\n"
          ]
        }
      ],
      "source": [
        "import optuna\n",
        "\n",
        "def objective(trial):\n",
        "    # Suggest parameters\n",
        "    lr = trial.suggest_float('lr', 0.0001, 0.1)\n",
        "    neurons = trial.suggest_int('neurons', 32, 256)\n",
        "\n",
        "    # Modify model\n",
        "    model = nn.Sequential(\n",
        "        nn.Linear(28*28, neurons),\n",
        "        nn.ReLU(),\n",
        "        nn.Linear(neurons, 10),\n",
        "        nn.Softmax(dim=1)\n",
        "    )\n",
        "    optimizer = optim.SGD(model.parameters(), lr=lr)\n",
        "    loss_function = nn.CrossEntropyLoss()\n",
        "\n",
        "    # Train model\n",
        "    model.train()\n",
        "    num_epochs = 5  # Use a small number of epochs for faster Optuna runs\n",
        "    for epoch in range(num_epochs):\n",
        "        for images, labels in train_loader:\n",
        "            # Flatten images\n",
        "            images = images.view(images.size(0), -1)\n",
        "\n",
        "            # Forward pass\n",
        "            predictions = model(images)\n",
        "            loss = loss_function(predictions, labels)\n",
        "\n",
        "            # Backward pass\n",
        "            optimizer.zero_grad()\n",
        "            loss.backward()\n",
        "            optimizer.step()\n",
        "\n",
        "    # Evaluate on the validation set\n",
        "    model.eval()\n",
        "    total_loss = 0.0\n",
        "    with torch.no_grad():\n",
        "        for images, labels in test_loader:\n",
        "            # Flatten images\n",
        "            images = images.view(images.size(0), -1)\n",
        "\n",
        "            # Forward pass\n",
        "            predictions = model(images)\n",
        "            loss = loss_function(predictions, labels)\n",
        "            total_loss += loss.item()\n",
        "\n",
        "    avg_loss = total_loss / len(test_loader)  # Average loss over all batches\n",
        "    return avg_loss  # Return loss for Optuna to minimize\n",
        "\n",
        "study = optuna.create_study(direction='minimize')\n",
        "study.optimize(objective, n_trials=10)\n",
        "print(f\"Best Params (Optuna): {study.best_params}\")\n"
      ]
    },
    {
      "cell_type": "markdown",
      "metadata": {
        "id": "sBQAZmhxhta3"
      },
      "source": [
        "**Key Insight**\n",
        "\n",
        "Bayesian optimization efficiently searches hyperparameter space by learning from prior trials."
      ]
    },
    {
      "cell_type": "markdown",
      "metadata": {
        "id": "rhLh1t7LYnmj"
      },
      "source": [
        "\n",
        "\n",
        "---\n",
        "\n"
      ]
    },
    {
      "cell_type": "markdown",
      "metadata": {
        "id": "DAkXzAgHW9wQ"
      },
      "source": [
        "**Step5**: Evaluate and Compare the Model\n",
        "\n",
        "* Train the model using the best hyperparameters from each method (Grid Search, Random Search, Optuna).\n",
        "* num_epochs = 50\n",
        "* Evaluate all models on the test set.\n",
        "* Plot training/validation accuracy and loss for the best model.\n"
      ]
    },
    {
      "cell_type": "code",
      "execution_count": null,
      "metadata": {
        "colab": {
          "base_uri": "https://localhost:8080/"
        },
        "id": "aMRSKltYXPTD",
        "outputId": "c9251072-d50c-4f03-c86c-0daf2e816899"
      },
      "outputs": [
        {
          "name": "stdout",
          "output_type": "stream",
          "text": [
            "Epoch 1/50, Loss: 2.2900\n",
            "Epoch 2/50, Loss: 2.1458\n",
            "Epoch 3/50, Loss: 1.9093\n",
            "Epoch 4/50, Loss: 1.7884\n",
            "Epoch 5/50, Loss: 1.7504\n",
            "Epoch 6/50, Loss: 1.7309\n",
            "Epoch 7/50, Loss: 1.7183\n",
            "Epoch 8/50, Loss: 1.7087\n",
            "Epoch 9/50, Loss: 1.7000\n",
            "Epoch 10/50, Loss: 1.6943\n",
            "Epoch 11/50, Loss: 1.6883\n",
            "Epoch 12/50, Loss: 1.6872\n",
            "Epoch 13/50, Loss: 1.6801\n",
            "Epoch 14/50, Loss: 1.6769\n",
            "Epoch 15/50, Loss: 1.6747\n",
            "Epoch 16/50, Loss: 1.6704\n",
            "Epoch 17/50, Loss: 1.6679\n",
            "Epoch 18/50, Loss: 1.6661\n",
            "Epoch 19/50, Loss: 1.6620\n",
            "Epoch 20/50, Loss: 1.6615\n",
            "Epoch 21/50, Loss: 1.6601\n",
            "Epoch 22/50, Loss: 1.6602\n",
            "Epoch 23/50, Loss: 1.6579\n",
            "Epoch 24/50, Loss: 1.6572\n",
            "Epoch 25/50, Loss: 1.6564\n",
            "Epoch 26/50, Loss: 1.6557\n",
            "Epoch 27/50, Loss: 1.6505\n",
            "Epoch 28/50, Loss: 1.6502\n",
            "Epoch 29/50, Loss: 1.6494\n",
            "Epoch 30/50, Loss: 1.6512\n",
            "Epoch 31/50, Loss: 1.6505\n",
            "Epoch 32/50, Loss: 1.6530\n",
            "Epoch 33/50, Loss: 1.6442\n",
            "Epoch 34/50, Loss: 1.6435\n",
            "Epoch 35/50, Loss: 1.6430\n",
            "Epoch 36/50, Loss: 1.6439\n",
            "Epoch 37/50, Loss: 1.6432\n",
            "Epoch 38/50, Loss: 1.6436\n",
            "Epoch 39/50, Loss: 1.6405\n",
            "Epoch 40/50, Loss: 1.6417\n",
            "Epoch 41/50, Loss: 1.6384\n",
            "Epoch 42/50, Loss: 1.6378\n",
            "Epoch 43/50, Loss: 1.6361\n",
            "Epoch 44/50, Loss: 1.6364\n",
            "Epoch 45/50, Loss: 1.6353\n",
            "Epoch 46/50, Loss: 1.6367\n",
            "Epoch 47/50, Loss: 1.6357\n",
            "Epoch 48/50, Loss: 1.6338\n",
            "Epoch 49/50, Loss: 1.6324\n",
            "Epoch 50/50, Loss: 1.6318\n",
            "Test Loss: 1.6863\n",
            "Test Accuracy: 77.10%\n"
          ]
        }
      ],
      "source": [
        "# Train model with best params and evaluate\n",
        "model = FashionNN()  # Re-initialize the model\n",
        "optimizer = optim.SGD(model.parameters(), lr=best_params['lr'])\n",
        "train_loader = DataLoader(train_subset, batch_size=best_params['batch_size'], shuffle=True)\n",
        "\n",
        "# Define loss function\n",
        "loss_function = nn.CrossEntropyLoss()\n",
        "\n",
        "# Training loop\n",
        "num_epochs = 50  # Re-train with best parameters\n",
        "for epoch in range(num_epochs):\n",
        "    train_loss = 0.0\n",
        "    model.train()  # Set model to training mode\n",
        "    for images, labels in train_loader:\n",
        "        # Clear previous gradients\n",
        "        optimizer.zero_grad()\n",
        "\n",
        "        predictions = model(images)  # Forward pass\n",
        "\n",
        "        loss = loss_function(predictions, labels)    # Compute loss\n",
        "\n",
        "        # Backpropagation\n",
        "        loss.backward()\n",
        "\n",
        "        # Update weights\n",
        "        optimizer.step()\n",
        "\n",
        "        train_loss += loss.item()\n",
        "    print(f\"Epoch {epoch+1}/{num_epochs}, Loss: {train_loss/len(train_loader):.4f}\")\n",
        "\n",
        "# Evaluate on test set\n",
        "model.eval()  # Set model to evaluation mode\n",
        "test_loss = 0.0\n",
        "correct = 0\n",
        "total = 0\n",
        "\n",
        "with torch.no_grad():  # Disable gradient computation for evaluation\n",
        "    for images, labels in test_loader:\n",
        "        predictions =  model(images)          # Forward pass\n",
        "        loss = loss_function(predictions, labels)    # Compute loss\n",
        "        test_loss += loss.item()\n",
        "\n",
        "        # Calculate accuracy\n",
        "        _, predicted = torch.max(predictions, 1)  # Get class with highest probability\n",
        "        total += labels.size(0)\n",
        "        correct += (predicted == labels).sum().item()\n",
        "\n",
        "# Print test loss and accuracy\n",
        "print(f\"Test Loss: {test_loss/len(test_loader):.4f}\")\n",
        "print(f\"Test Accuracy: {100 * correct / total:.2f}%\")\n",
        "\n"
      ]
    },
    {
      "cell_type": "markdown",
      "metadata": {
        "id": "n4LgAqQ1Yo7_"
      },
      "source": [
        "\n",
        "\n",
        "---\n",
        "\n"
      ]
    },
    {
      "cell_type": "markdown",
      "metadata": {
        "id": "e0sNkV7nYsZf"
      },
      "source": [
        "**Step6**: Visualize the Model"
      ]
    },
    {
      "cell_type": "code",
      "execution_count": null,
      "metadata": {
        "colab": {
          "base_uri": "https://localhost:8080/",
          "height": 428
        },
        "id": "W1TNb1LaYwq1",
        "outputId": "8e0f8883-facc-4a73-a13f-951e6eafd15e"
      },
      "outputs": [
        {
          "data": {
            "image/png": "[encoded data removed]",
            "text/plain": [
              "<Figure size 640x480 with 9 Axes>"
            ]
          },
          "metadata": {},
          "output_type": "display_data"
        }
      ],
      "source": [
        "# Get predictions\n",
        "model.eval()\n",
        "images, labels = next(iter(test_loader))\n",
        "predictions = model(images).argmax(dim=1)\n",
        "\n",
        "# Plot 9 images\n",
        "for i in range(9):\n",
        "    plt.subplot(3, 3, i+1)\n",
        "    plt.imshow(images[i].squeeze(), cmap='gray')\n",
        "    plt.title(f\"Pred: {predictions[i]}, True: {labels[i]}\")\n",
        "    plt.axis('off')\n",
        "plt.show()\n"
      ]
    },
    {
      "cell_type": "markdown",
      "metadata": {
        "id": "lDRmGut-juXc"
      },
      "source": [
        "\n",
        "\n",
        "---\n",
        "\n"
      ]
    },
    {
      "cell_type": "markdown",
      "metadata": {
        "id": "Ju6zJ_Mch2OU"
      },
      "source": [
        "**BONUS**: Play with hyperparameters of the models and test the accuracy."
      ]
    }
  ],
  "metadata": {
    "accelerator": "GPU",
    "colab": {
      "gpuType": "T4",
      "provenance": []
    },
    "kernelspec": {
      "display_name": "myenv_cb_dl",
      "language": "python",
      "name": "python3"
    },
    "language_info": {
      "codemirror_mode": {
        "name": "ipython",
        "version": 3
      },
      "file_extension": ".py",
      "mimetype": "text/x-python",
      "name": "python",
      "nbconvert_exporter": "python",
      "pygments_lexer": "ipython3",
      "version": "3.8.20"
    }
  },
  "nbformat": 4,
  "nbformat_minor": 0
}
