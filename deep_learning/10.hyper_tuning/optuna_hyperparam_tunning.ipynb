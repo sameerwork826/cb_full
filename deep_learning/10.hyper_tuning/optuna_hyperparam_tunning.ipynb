{
 "cells": [
  {
   "cell_type": "markdown",
   "id": "e6adf2b4",
   "metadata": {},
   "source": [
    "<h2 align=\"center\">Codebasics DL Course: Optuna Hyperparameter Tunning</h2>"
   ]
  },
  {
   "cell_type": "code",
   "execution_count": 2,
   "id": "fdc95639",
   "metadata": {},
   "outputs": [],
   "source": [
    "import torch\n",
    "import torch.nn as nn\n",
    "import torch.optim as optim\n",
    "import torch.nn.functional as F\n",
    "from torch.utils.data import DataLoader, TensorDataset\n",
    "import optuna\n",
    "from sklearn.datasets import make_classification\n",
    "from sklearn.model_selection import train_test_split\n",
    "from sklearn.preprocessing import StandardScaler"
   ]
  },
  {
   "cell_type": "markdown",
   "id": "b315608f",
   "metadata": {},
   "source": [
    "### Load Syntetically Generated Dataset"
   ]
  },
  {
   "cell_type": "code",
   "execution_count": 3,
   "id": "edc5be3c",
   "metadata": {},
   "outputs": [],
   "source": [
    "# 1. Generate synthetic dataset\n",
    "X, y = make_classification(n_samples=1000, n_features=20, n_classes=2, random_state=42)\n",
    "X_train, X_val, y_train, y_val = train_test_split(X, y, test_size=0.2, random_state=42)"
   ]
  },
  {
   "cell_type": "code",
   "execution_count": 4,
   "id": "155e9231",
   "metadata": {},
   "outputs": [
    {
     "data": {
      "text/plain": [
       "(800, 20)"
      ]
     },
     "execution_count": 4,
     "metadata": {},
     "output_type": "execute_result"
    }
   ],
   "source": [
    "X_train.shape"
   ]
  },
  {
   "cell_type": "code",
   "execution_count": 5,
   "id": "2eb70593",
   "metadata": {},
   "outputs": [
    {
     "data": {
      "text/plain": [
       "array([ 0.50363664, -1.51368248, -0.46907062,  1.90176571, -0.87064279,\n",
       "        1.82004715,  1.66291365,  1.29105223, -0.16713608, -1.04718436,\n",
       "        1.43003039,  0.20104766,  1.27577182, -1.13260729,  1.75008532,\n",
       "       -1.4089039 ,  0.03301588, -0.80340946, -1.31410638,  1.41209637])"
      ]
     },
     "execution_count": 5,
     "metadata": {},
     "output_type": "execute_result"
    }
   ],
   "source": [
    "X_train[0]"
   ]
  },
  {
   "cell_type": "code",
   "execution_count": 6,
   "id": "f643b651",
   "metadata": {},
   "outputs": [
    {
     "data": {
      "text/plain": [
       "1"
      ]
     },
     "execution_count": 6,
     "metadata": {},
     "output_type": "execute_result"
    }
   ],
   "source": [
    "y_train[0]"
   ]
  },
  {
   "cell_type": "code",
   "execution_count": 7,
   "id": "0c7bf9c9",
   "metadata": {},
   "outputs": [],
   "source": [
    "# Convert to PyTorch tensors\n",
    "X_train, y_train = torch.tensor(X_train, dtype=torch.float32), torch.tensor(y_train, dtype=torch.long)\n",
    "X_val, y_val = torch.tensor(X_val, dtype=torch.float32), torch.tensor(y_val, dtype=torch.long)"
   ]
  },
  {
   "cell_type": "markdown",
   "id": "be5cc014",
   "metadata": {},
   "source": [
    "### Define a Neural Network"
   ]
  },
  {
   "cell_type": "code",
   "execution_count": 8,
   "id": "9cf68e69",
   "metadata": {},
   "outputs": [],
   "source": [
    "class SimpleNN(nn.Module):\n",
    "    def __init__(self, input_dim, hidden_dim):\n",
    "        super().__init__()\n",
    "        self.network = nn.Sequential(\n",
    "            nn.Linear(input_dim, hidden_dim),\n",
    "            nn.ReLU(),\n",
    "            nn.Linear(hidden_dim, 2)  # Output layer for binary classification\n",
    "        )\n",
    "        \n",
    "    def forward(self, x):\n",
    "        return self.network(x)"
   ]
  },
  {
   "cell_type": "code",
   "execution_count": null,
   "id": "795662e1",
   "metadata": {},
   "outputs": [],
   "source": [
    "def objective(trial):\n",
    "    \n",
    "    learning_rate=trial.suggest_loguniform('learning_rate',1e-4,1e-1)\n",
    "    hidden_dim=trial.suggest_int('hidden_dim',16,128)\n",
    "    model=SimpleNN(input_dim=20,hidden_dim=hidden_dim)\n",
    "    "
   ]
  },
  {
   "cell_type": "markdown",
   "id": "49cd547b",
   "metadata": {},
   "source": [
    "### Perform Hyperparameter Tunning"
   ]
  },
  {
   "cell_type": "code",
   "execution_count": 10,
   "id": "8538447c",
   "metadata": {},
   "outputs": [
    {
     "name": "stderr",
     "output_type": "stream",
     "text": [
      "[I 2024-11-13 16:53:47,629] A new study created in memory with name: no-name-0db8ba0c-2516-4d57-8815-f775214dfb44\n",
      "C:\\Users\\dhava\\AppData\\Local\\Temp\\ipykernel_42636\\3446579323.py:4: FutureWarning: suggest_loguniform has been deprecated in v3.0.0. This feature will be removed in v6.0.0. See https://github.com/optuna/optuna/releases/tag/v3.0.0. Use suggest_float(..., log=True) instead.\n",
      "  learning_rate = trial.suggest_loguniform('learning_rate', 1e-4, 1e-1)\n",
      "[I 2024-11-13 16:53:49,280] Trial 0 finished with value: 0.805 and parameters: {'learning_rate': 0.09265199617049812, 'hidden_dim': 68}. Best is trial 0 with value: 0.805.\n",
      "[I 2024-11-13 16:53:50,989] Trial 1 finished with value: 0.83 and parameters: {'learning_rate': 0.01248371004211226, 'hidden_dim': 120}. Best is trial 1 with value: 0.83.\n",
      "[I 2024-11-13 16:53:52,362] Trial 2 finished with value: 0.87 and parameters: {'learning_rate': 0.00028991853281172623, 'hidden_dim': 62}. Best is trial 2 with value: 0.87.\n",
      "[I 2024-11-13 16:53:53,842] Trial 3 finished with value: 0.855 and parameters: {'learning_rate': 0.0002374400309515563, 'hidden_dim': 48}. Best is trial 2 with value: 0.87.\n",
      "[I 2024-11-13 16:53:55,518] Trial 4 finished with value: 0.855 and parameters: {'learning_rate': 0.0003483451090663494, 'hidden_dim': 116}. Best is trial 2 with value: 0.87.\n",
      "[I 2024-11-13 16:53:57,018] Trial 5 finished with value: 0.775 and parameters: {'learning_rate': 0.08601191825206801, 'hidden_dim': 20}. Best is trial 2 with value: 0.87.\n",
      "[I 2024-11-13 16:53:58,465] Trial 6 finished with value: 0.85 and parameters: {'learning_rate': 0.00019113743277073147, 'hidden_dim': 87}. Best is trial 2 with value: 0.87.\n",
      "[I 2024-11-13 16:54:00,143] Trial 7 finished with value: 0.855 and parameters: {'learning_rate': 0.0005526444424887942, 'hidden_dim': 112}. Best is trial 2 with value: 0.87.\n",
      "[I 2024-11-13 16:54:01,794] Trial 8 finished with value: 0.855 and parameters: {'learning_rate': 0.0009481915371553174, 'hidden_dim': 116}. Best is trial 2 with value: 0.87.\n",
      "[I 2024-11-13 16:54:03,263] Trial 9 finished with value: 0.84 and parameters: {'learning_rate': 0.005069921716633743, 'hidden_dim': 61}. Best is trial 2 with value: 0.87.\n",
      "[I 2024-11-13 16:54:04,631] Trial 10 finished with value: 0.855 and parameters: {'learning_rate': 0.0012988449311962704, 'hidden_dim': 32}. Best is trial 2 with value: 0.87.\n",
      "[I 2024-11-13 16:54:06,043] Trial 11 finished with value: 0.81 and parameters: {'learning_rate': 0.00013021578542410622, 'hidden_dim': 38}. Best is trial 2 with value: 0.87.\n",
      "[I 2024-11-13 16:54:07,517] Trial 12 finished with value: 0.845 and parameters: {'learning_rate': 0.0027591237397356742, 'hidden_dim': 50}. Best is trial 2 with value: 0.87.\n",
      "[I 2024-11-13 16:54:08,965] Trial 13 finished with value: 0.805 and parameters: {'learning_rate': 0.00010142531975407299, 'hidden_dim': 83}. Best is trial 2 with value: 0.87.\n",
      "[I 2024-11-13 16:54:10,424] Trial 14 finished with value: 0.855 and parameters: {'learning_rate': 0.00035695310456099096, 'hidden_dim': 51}. Best is trial 2 with value: 0.87.\n",
      "[I 2024-11-13 16:54:11,850] Trial 15 finished with value: 0.855 and parameters: {'learning_rate': 0.0014767850788063044, 'hidden_dim': 86}. Best is trial 2 with value: 0.87.\n",
      "[I 2024-11-13 16:54:13,297] Trial 16 finished with value: 0.825 and parameters: {'learning_rate': 0.01653134429196916, 'hidden_dim': 54}. Best is trial 2 with value: 0.87.\n",
      "[I 2024-11-13 16:54:14,671] Trial 17 finished with value: 0.855 and parameters: {'learning_rate': 0.00035238963259517144, 'hidden_dim': 38}. Best is trial 2 with value: 0.87.\n",
      "[I 2024-11-13 16:54:16,196] Trial 18 finished with value: 0.845 and parameters: {'learning_rate': 0.00021462584780419577, 'hidden_dim': 75}. Best is trial 2 with value: 0.87.\n",
      "[I 2024-11-13 16:54:17,565] Trial 19 finished with value: 0.85 and parameters: {'learning_rate': 0.000778054007419278, 'hidden_dim': 21}. Best is trial 2 with value: 0.87.\n"
     ]
    },
    {
     "name": "stdout",
     "output_type": "stream",
     "text": [
      "Best hyperparameters found:\n",
      "{'learning_rate': 0.00028991853281172623, 'hidden_dim': 62}\n"
     ]
    }
   ],
   "source": [
    "# 3. Define the objective function for Optuna\n",
    "def objective(trial):\n",
    "    # Suggest values for the hyperparameters\n",
    "    learning_rate = trial.suggest_loguniform('learning_rate', 1e-4, 1e-1)\n",
    "    hidden_dim = trial.suggest_int('hidden_dim', 16, 128)\n",
    "\n",
    "    # Model, loss, optimizer\n",
    "    model = SimpleNN(input_dim=20, hidden_dim=hidden_dim)\n",
    "    criterion = nn.CrossEntropyLoss()\n",
    "    optimizer = optim.Adam(model.parameters(), lr=learning_rate)\n",
    "\n",
    "    # Training loop\n",
    "    epochs = 20\n",
    "    batch_size = 32\n",
    "    train_loader = DataLoader(TensorDataset(X_train, y_train), batch_size=batch_size, shuffle=True)\n",
    "    val_loader = DataLoader(TensorDataset(X_val, y_val), batch_size=batch_size)\n",
    "\n",
    "    for epoch in range(epochs):\n",
    "        model.train()\n",
    "        for batch_X, batch_y in train_loader:\n",
    "            optimizer.zero_grad()\n",
    "            outputs = model(batch_X)\n",
    "            loss = criterion(outputs, batch_y)\n",
    "            loss.backward()\n",
    "            optimizer.step()\n",
    "\n",
    "    # Validation accuracy\n",
    "    model.eval()\n",
    "    correct = 0\n",
    "    total = 0\n",
    "    with torch.no_grad():\n",
    "        for batch_X, batch_y in val_loader:\n",
    "            outputs = model(batch_X)\n",
    "            _, predicted = torch.max(outputs, 1)\n",
    "            total += batch_y.size(0)\n",
    "            correct += (predicted == batch_y).sum().item()\n",
    "\n",
    "    accuracy = correct / total\n",
    "    return accuracy\n",
    "\n",
    "# 4. Run the Optuna optimization\n",
    "study = optuna.create_study(direction=\"maximize\")\n",
    "study.optimize(objective, n_trials=20)\n",
    "\n",
    "# 5. Print the best hyperparameters\n",
    "print(\"Best hyperparameters found:\")\n",
    "print(study.best_params)            "
   ]
  }
 ],
 "metadata": {
  "kernelspec": {
   "display_name": "myenv_cb_dl",
   "language": "python",
   "name": "python3"
  },
  "language_info": {
   "codemirror_mode": {
    "name": "ipython",
    "version": 3
   },
   "file_extension": ".py",
   "mimetype": "text/x-python",
   "name": "python",
   "nbconvert_exporter": "python",
   "pygments_lexer": "ipython3",
   "version": "3.8.20"
  }
 },
 "nbformat": 4,
 "nbformat_minor": 5
}
