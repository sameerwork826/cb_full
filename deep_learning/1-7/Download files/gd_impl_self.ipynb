{
 "cells": [
  {
   "cell_type": "code",
   "execution_count": null,
   "metadata": {},
   "outputs": [],
   "source": [
    "import pandas as pd\n",
    "df=pd.read_csv('bonus_dataset.csv')\n",
    "import torch "
   ]
  },
  {
   "cell_type": "code",
   "execution_count": 10,
   "metadata": {},
   "outputs": [
    {
     "data": {
      "text/html": [
       "<div>\n",
       "<style scoped>\n",
       "    .dataframe tbody tr th:only-of-type {\n",
       "        vertical-align: middle;\n",
       "    }\n",
       "\n",
       "    .dataframe tbody tr th {\n",
       "        vertical-align: top;\n",
       "    }\n",
       "\n",
       "    .dataframe thead th {\n",
       "        text-align: right;\n",
       "    }\n",
       "</style>\n",
       "<table border=\"1\" class=\"dataframe\">\n",
       "  <thead>\n",
       "    <tr style=\"text-align: right;\">\n",
       "      <th></th>\n",
       "      <th>employee_id</th>\n",
       "      <th>performance</th>\n",
       "      <th>years_of_experience</th>\n",
       "      <th>projects_completed</th>\n",
       "      <th>bonus</th>\n",
       "    </tr>\n",
       "  </thead>\n",
       "  <tbody>\n",
       "    <tr>\n",
       "      <th>0</th>\n",
       "      <td>EMP_001</td>\n",
       "      <td>7</td>\n",
       "      <td>2</td>\n",
       "      <td>4</td>\n",
       "      <td>124</td>\n",
       "    </tr>\n",
       "    <tr>\n",
       "      <th>1</th>\n",
       "      <td>EMP_002</td>\n",
       "      <td>4</td>\n",
       "      <td>1</td>\n",
       "      <td>4</td>\n",
       "      <td>82</td>\n",
       "    </tr>\n",
       "    <tr>\n",
       "      <th>2</th>\n",
       "      <td>EMP_003</td>\n",
       "      <td>8</td>\n",
       "      <td>7</td>\n",
       "      <td>10</td>\n",
       "      <td>178</td>\n",
       "    </tr>\n",
       "    <tr>\n",
       "      <th>3</th>\n",
       "      <td>EMP_004</td>\n",
       "      <td>5</td>\n",
       "      <td>7</td>\n",
       "      <td>8</td>\n",
       "      <td>138</td>\n",
       "    </tr>\n",
       "    <tr>\n",
       "      <th>4</th>\n",
       "      <td>EMP_005</td>\n",
       "      <td>7</td>\n",
       "      <td>8</td>\n",
       "      <td>9</td>\n",
       "      <td>170</td>\n",
       "    </tr>\n",
       "  </tbody>\n",
       "</table>\n",
       "</div>"
      ],
      "text/plain": [
       "  employee_id  performance  years_of_experience  projects_completed  bonus\n",
       "0     EMP_001            7                    2                   4    124\n",
       "1     EMP_002            4                    1                   4     82\n",
       "2     EMP_003            8                    7                  10    178\n",
       "3     EMP_004            5                    7                   8    138\n",
       "4     EMP_005            7                    8                   9    170"
      ]
     },
     "execution_count": 10,
     "metadata": {},
     "output_type": "execute_result"
    }
   ],
   "source": [
    "df.head()\n"
   ]
  },
  {
   "cell_type": "code",
   "execution_count": 8,
   "metadata": {},
   "outputs": [
    {
     "data": {
      "text/plain": [
       "numpy.ndarray"
      ]
     },
     "execution_count": 8,
     "metadata": {},
     "output_type": "execute_result"
    }
   ],
   "source": [
    "type(df['performance'].values)"
   ]
  },
  {
   "cell_type": "code",
   "execution_count": 13,
   "metadata": {},
   "outputs": [],
   "source": [
    "performance=torch.tensor(df['performance'].values,dtype=torch.float32)\n",
    "years_of_exp=torch.tensor(df['years_of_experience'].values,dtype=torch.float32)\n",
    "project_completed=torch.tensor(df['projects_completed'].values,dtype=torch.float32)\n",
    "bonus=torch.tensor(df['bonus'].values,dtype=torch.float32)"
   ]
  },
  {
   "cell_type": "code",
   "execution_count": 15,
   "metadata": {},
   "outputs": [
    {
     "data": {
      "text/plain": [
       "(tensor([0.6335], requires_grad=True),\n",
       " tensor([0.4103], requires_grad=True),\n",
       " tensor([0.0473], requires_grad=True),\n",
       " tensor([0.1033], requires_grad=True))"
      ]
     },
     "execution_count": 15,
     "metadata": {},
     "output_type": "execute_result"
    }
   ],
   "source": [
    "w1=torch.rand(1,requires_grad=True)\n",
    "w2=torch.rand(1,requires_grad=True)\n",
    "w3=torch.rand(1,requires_grad=True)\n",
    "bias=torch.rand(1,requires_grad=True)\n",
    "\n",
    "w1,w2,w3,bias\n"
   ]
  },
  {
   "cell_type": "code",
   "execution_count": 29,
   "metadata": {},
   "outputs": [
    {
     "name": "stdout",
     "output_type": "stream",
     "text": [
      "Epoch [100/5000], Loss: 17.8469\n",
      "Epoch [200/5000], Loss: 15.5678\n",
      "Epoch [300/5000], Loss: 13.5844\n",
      "Epoch [400/5000], Loss: 11.8551\n",
      "Epoch [500/5000], Loss: 10.3463\n",
      "Epoch [600/5000], Loss: 9.0296\n",
      "Epoch [700/5000], Loss: 7.8805\n",
      "Epoch [800/5000], Loss: 6.8777\n",
      "Epoch [900/5000], Loss: 6.0025\n",
      "Epoch [1000/5000], Loss: 5.2386\n",
      "Epoch [1100/5000], Loss: 4.5720\n",
      "Epoch [1200/5000], Loss: 3.9902\n",
      "Epoch [1300/5000], Loss: 3.4824\n",
      "Epoch [1400/5000], Loss: 3.0392\n",
      "Epoch [1500/5000], Loss: 2.6525\n",
      "Epoch [1600/5000], Loss: 2.3149\n",
      "Epoch [1700/5000], Loss: 2.0203\n",
      "Epoch [1800/5000], Loss: 1.7632\n",
      "Epoch [1900/5000], Loss: 1.5389\n",
      "Epoch [2000/5000], Loss: 1.3430\n",
      "Epoch [2100/5000], Loss: 1.1721\n",
      "Epoch [2200/5000], Loss: 1.0230\n",
      "Epoch [2300/5000], Loss: 0.8928\n",
      "Epoch [2400/5000], Loss: 0.7792\n",
      "Epoch [2500/5000], Loss: 0.6800\n",
      "Epoch [2600/5000], Loss: 0.5935\n",
      "Epoch [2700/5000], Loss: 0.5180\n",
      "Epoch [2800/5000], Loss: 0.4520\n",
      "Epoch [2900/5000], Loss: 0.3945\n",
      "Epoch [3000/5000], Loss: 0.3443\n",
      "Epoch [3100/5000], Loss: 0.3005\n",
      "Epoch [3200/5000], Loss: 0.2623\n",
      "Epoch [3300/5000], Loss: 0.2289\n",
      "Epoch [3400/5000], Loss: 0.1998\n",
      "Epoch [3500/5000], Loss: 0.1743\n",
      "Epoch [3600/5000], Loss: 0.1522\n",
      "Epoch [3700/5000], Loss: 0.1328\n",
      "Epoch [3800/5000], Loss: 0.1159\n",
      "Epoch [3900/5000], Loss: 0.1011\n",
      "Epoch [4000/5000], Loss: 0.0883\n",
      "Epoch [4100/5000], Loss: 0.0770\n",
      "Epoch [4200/5000], Loss: 0.0672\n",
      "Epoch [4300/5000], Loss: 0.0587\n",
      "Epoch [4400/5000], Loss: 0.0512\n",
      "Epoch [4500/5000], Loss: 0.0447\n",
      "Epoch [4600/5000], Loss: 0.0390\n",
      "Epoch [4700/5000], Loss: 0.0340\n",
      "Epoch [4800/5000], Loss: 0.0297\n",
      "Epoch [4900/5000], Loss: 0.0259\n",
      "Epoch [5000/5000], Loss: 0.0226\n"
     ]
    }
   ],
   "source": [
    "w1 = torch.rand(1, requires_grad=True)\n",
    "w2 = torch.rand(1, requires_grad=True)\n",
    "w3 = torch.rand(1, requires_grad=True)\n",
    "bias = torch.rand(1, requires_grad=True)\n",
    "\n",
    "# Learning rate and number of iterations\n",
    "learning_rate = 0.006\n",
    "epochs = 5000\n",
    "\n",
    "# Step 3: Training loop for gradient descent\n",
    "for epoch in range(epochs):\n",
    "    # Compute the predicted bonus using the current weights and bias\n",
    "    predicted_bonus = w1 * performance + w2 * years_of_exp + w3 * project_completed + bias\n",
    "    \n",
    "    # Compute the Mean Squared Error (MSE) loss\n",
    "    loss = ((predicted_bonus - bonus) ** 2).mean()\n",
    "    \n",
    "    # Perform backpropagation to compute gradients of the loss with respect to w1, w2, w3, and bias\n",
    "    loss.backward()\n",
    "    \n",
    "    # Update the weights and bias using the computed gradients\n",
    "    with torch.no_grad():\n",
    "        w1 -= learning_rate * w1.grad\n",
    "        w2 -= learning_rate * w2.grad\n",
    "        w3 -= learning_rate * w3.grad\n",
    "        bias -= learning_rate * bias.grad\n",
    "\n",
    "    # Zero the gradients after updating\n",
    "    w1.grad.zero_()\n",
    "    w2.grad.zero_()\n",
    "    w3.grad.zero_()\n",
    "    bias.grad.zero_()\n",
    "\n",
    "    # Print the loss at regular intervals\n",
    "    if (epoch + 1) % 100 == 0:\n",
    "        print(f\"Epoch [{epoch + 1}/{epochs}], Loss: {loss.item():.4f}\")"
   ]
  },
  {
   "cell_type": "code",
   "execution_count": 30,
   "metadata": {},
   "outputs": [
    {
     "data": {
      "text/plain": [
       "(12.027344703674316, 5.906188011169434, 2.125150680541992, 19.388914108276367)"
      ]
     },
     "execution_count": 30,
     "metadata": {},
     "output_type": "execute_result"
    }
   ],
   "source": [
    "w1.item(),w2.item(),w3.item(),bias.item()"
   ]
  },
  {
   "cell_type": "code",
   "execution_count": null,
   "metadata": {},
   "outputs": [],
   "source": []
  }
 ],
 "metadata": {
  "kernelspec": {
   "display_name": "myenv_cb_dl",
   "language": "python",
   "name": "python3"
  },
  "language_info": {
   "codemirror_mode": {
    "name": "ipython",
    "version": 3
   },
   "file_extension": ".py",
   "mimetype": "text/x-python",
   "name": "python",
   "nbconvert_exporter": "python",
   "pygments_lexer": "ipython3",
   "version": "3.8.20"
  }
 },
 "nbformat": 4,
 "nbformat_minor": 2
}
