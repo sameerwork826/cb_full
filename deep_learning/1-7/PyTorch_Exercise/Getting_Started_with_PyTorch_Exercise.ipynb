{
  "cells": [
    {
      "cell_type": "markdown",
      "metadata": {
        "id": "q7UkbxIuOsEb"
      },
      "source": [
        "# Problem Statement: **Welcome to AI Town!**\n",
        "\n",
        "### You’ve been hired as an AI engineer in **AI Town**, a futuristic city powered by artificial intelligence. Your job is to use PyTorch to solve foundational challenges that AI Town faces. Each task requires you to demonstrate your expertise with PyTorch basics."
      ]
    },
    {
      "cell_type": "markdown",
      "metadata": {
        "id": "gwD-rhXXnhIz"
      },
      "source": [
        "\n",
        "\n",
        "---\n",
        "\n"
      ]
    },
    {
      "cell_type": "markdown",
      "metadata": {
        "id": "6JwL8-81yLWK"
      },
      "source": [
        "Imports and CUDA"
      ]
    },
    {
      "cell_type": "code",
      "execution_count": 1,
      "metadata": {
        "id": "yR0_z_79yKEK"
      },
      "outputs": [
        {
          "name": "stdout",
          "output_type": "stream",
          "text": [
            "Using device: cuda\n"
          ]
        }
      ],
      "source": [
        "import torch\n",
        "\n",
        "# Check if CUDA (GPU) is available\n",
        "device = torch.device('cuda' if torch.cuda.is_available() else 'cpu')\n",
        "print(f\"Using device: {device}\")\n"
      ]
    },
    {
      "cell_type": "markdown",
      "metadata": {
        "id": "6iiOkre3ye0n"
      },
      "source": [
        "\n",
        "\n",
        "---\n",
        "\n"
      ]
    },
    {
      "cell_type": "markdown",
      "metadata": {
        "id": "iGT8uIK2nzxa"
      },
      "source": [
        "**Task1: Inventory Management**\n",
        "\n",
        "AI Town’s warehouse uses sensors to record the inventory of 5 items every day. Each day’s data is represented as a list of integers (number of units)."
      ]
    },
    {
      "cell_type": "code",
      "execution_count": 2,
      "metadata": {
        "id": "yQj9yyF-pADV"
      },
      "outputs": [
        {
          "data": {
            "text/plain": [
              "tensor([[12, 15, 10,  0,  5],\n",
              "        [10,  8,  7,  5,  4],\n",
              "        [20, 10, 15,  5,  2]])"
            ]
          },
          "execution_count": 2,
          "metadata": {},
          "output_type": "execute_result"
        }
      ],
      "source": [
        "#1 Create a PyTorch Tensor from the following inventory data\n",
        "inventory=torch.tensor(\n",
        "    [[12, 15, 10, 0, 5],\n",
        "             [10, 8, 7, 5, 4],\n",
        "             [20, 10, 15, 5, 2]]\n",
        ")\n",
        "inventory"
      ]
    },
    {
      "cell_type": "code",
      "execution_count": 8,
      "metadata": {
        "id": "piee_hPCo-VW"
      },
      "outputs": [
        {
          "data": {
            "text/plain": [
              "tensor([42, 33, 32, 10, 11])"
            ]
          },
          "execution_count": 8,
          "metadata": {},
          "output_type": "execute_result"
        }
      ],
      "source": [
        "#2 Find the total inventory for each item across all days\n",
        "inventory_sum=inventory.sum(dim=0)\n",
        "inventory_sum"
      ]
    },
    {
      "cell_type": "code",
      "execution_count": 13,
      "metadata": {
        "id": "O-0F3R8uObWT"
      },
      "outputs": [
        {
          "data": {
            "text/plain": [
              "tensor([14.0000, 11.0000, 10.6667,  3.3333,  3.6667])"
            ]
          },
          "execution_count": 13,
          "metadata": {},
          "output_type": "execute_result"
        }
      ],
      "source": [
        "#3 Find the average inventory per day\n",
        "avg_inventory=inventory.float().mean(dim=1)\n",
        "avg_inventory"
      ]
    },
    {
      "cell_type": "markdown",
      "metadata": {
        "id": "4eWH3-JBycim"
      },
      "source": [
        "\n",
        "\n",
        "---\n",
        "\n"
      ]
    },
    {
      "cell_type": "markdown",
      "metadata": {
        "id": "jqsNZz1VpDTB"
      },
      "source": [
        "**Task2: Monitoring Vehicle Flow**\n",
        "\n",
        "AI Town uses a sensor to monitor the number of vehicles passing through two main roads every hour. The data for one day (24 hours) is represented as two\n",
        "1×24 tensors."
      ]
    },
    {
      "cell_type": "code",
      "execution_count": 32,
      "metadata": {
        "id": "v0N1_20upZV0"
      },
      "outputs": [
        {
          "data": {
            "text/plain": [
              "tensor([75, 62, 92, 67, 93, 95, 54, 81, 79, 97, 62, 65, 96, 96, 51, 89, 64, 65,\n",
              "        93, 62, 69, 53, 70, 87])"
            ]
          },
          "execution_count": 32,
          "metadata": {},
          "output_type": "execute_result"
        }
      ],
      "source": [
        "#1 Simulate this data using PyTorch's Random Functions\n",
        "rand_tensor1=torch.randint(50,100,(24,))\n",
        "rand_tensor1"
      ]
    },
    {
      "cell_type": "code",
      "execution_count": 34,
      "metadata": {},
      "outputs": [
        {
          "data": {
            "text/plain": [
              "tensor([ 68, 182, 152, 185, 196, 147, 172, 179, 143,  53,  58,  72, 169, 152,\n",
              "         53, 180, 192, 112, 146, 162, 114, 104, 197, 150])"
            ]
          },
          "execution_count": 34,
          "metadata": {},
          "output_type": "execute_result"
        }
      ],
      "source": [
        "rand_tensor2=torch.randint(50,200,(24,))\n",
        "rand_tensor2\n"
      ]
    },
    {
      "cell_type": "code",
      "execution_count": 36,
      "metadata": {
        "id": "o2ldiyONpkp_"
      },
      "outputs": [
        {
          "name": "stdout",
          "output_type": "stream",
          "text": [
            "tensor(1817) tensor(3338)\n"
          ]
        }
      ],
      "source": [
        "#2 Write the function to calculate the total vehicle flow for each road across the entire day\n",
        "total_vehicle1=rand_tensor1.sum(dim=0)\n",
        "total_vehicle2=rand_tensor2.sum(dim=0)\n",
        "\n",
        "print(\n",
        "    total_vehicle1,total_vehicle2)"
      ]
    },
    {
      "cell_type": "code",
      "execution_count": 40,
      "metadata": {
        "id": "PP1ukEgXpvl_"
      },
      "outputs": [
        {
          "data": {
            "text/plain": [
              "tensor([143, 244, 244, 252, 289, 242, 226, 260, 222, 150, 120, 137, 265, 248,\n",
              "        104, 269, 256, 177, 239, 224, 183, 157, 267, 237])"
            ]
          },
          "execution_count": 40,
          "metadata": {},
          "output_type": "execute_result"
        }
      ],
      "source": [
        "#3 Write the function to calculate the total vehicle flow for each hour across both roads\n",
        "total_add=rand_tensor1+rand_tensor2\n",
        "total_add"
      ]
    },
    {
      "cell_type": "markdown",
      "metadata": {
        "id": "wkp5wRVHygcH"
      },
      "source": [
        "\n",
        "\n",
        "---\n",
        "\n"
      ]
    },
    {
      "cell_type": "markdown",
      "metadata": {
        "id": "9_03v1baqBBB"
      },
      "source": [
        "**Task3: Fitness Matrix**\n",
        "\n",
        "The AI Gym tracks members’ fitness scores using a 3×3 matrix for *strength*, *stamina*, and f*lexibility*. Each row represents a different member, and each column represents a specific metric."
      ]
    },
    {
      "cell_type": "code",
      "execution_count": 43,
      "metadata": {
        "id": "GlQTZKI6rZ5X"
      },
      "outputs": [
        {
          "data": {
            "text/plain": [
              "tensor([[155, 101, 154],\n",
              "        [104, 195, 184],\n",
              "        [157, 161, 164]])"
            ]
          },
          "execution_count": 43,
          "metadata": {},
          "output_type": "execute_result"
        }
      ],
      "source": [
        "#1 Create a 3*3 tensor matrix and multiply the scores of each member by a weight factor: [0.8, 1.2, 1.5]\n",
        "matrix=torch.randint(100,200,(3,3))\n",
        "matrix"
      ]
    },
    {
      "cell_type": "code",
      "execution_count": 44,
      "metadata": {
        "id": "_uce_-rXr1un"
      },
      "outputs": [
        {
          "name": "stdout",
          "output_type": "stream",
          "text": [
            "torch.return_types.max(\n",
            "values=tensor([155, 195, 164]),\n",
            "indices=tensor([0, 1, 2])) torch.return_types.max(\n",
            "values=tensor([157, 195, 184]),\n",
            "indices=tensor([2, 1, 1]))\n"
          ]
        }
      ],
      "source": [
        "#2 Find the row-wise and column-wise maximum scores\n",
        "row_max=matrix.max(dim=1)\n",
        "col_max=matrix.max(dim=0)\n",
        "print(row_max,col_max)"
      ]
    },
    {
      "cell_type": "code",
      "execution_count": 46,
      "metadata": {
        "id": "WIapNxZ6r4Dn"
      },
      "outputs": [
        {
          "data": {
            "text/plain": [
              "tensor([[155, 104, 157],\n",
              "        [101, 195, 161],\n",
              "        [154, 184, 164]])"
            ]
          },
          "execution_count": 46,
          "metadata": {},
          "output_type": "execute_result"
        }
      ],
      "source": [
        "#3 Transpose the fitness matrix and interpret it's new structure (shape)\n",
        "transposed=matrix.t()\n",
        "transposed"
      ]
    },
    {
      "cell_type": "markdown",
      "metadata": {
        "id": "LlDlQS0Vyh8W"
      },
      "source": [
        "\n",
        "\n",
        "---\n",
        "\n"
      ]
    },
    {
      "cell_type": "markdown",
      "metadata": {
        "id": "03ROjCDosA1-"
      },
      "source": [
        "**Task4: Chain Rule in Action**\n",
        "\n",
        "AI Lab is running experiments to understand the effect of temperature (\n",
        "x) on a chemical reaction rate (y). The relationship is given as:\n",
        "$y = 2x^3 + 5x^2 - 3x + 7$\n",
        "\n"
      ]
    },
    {
      "cell_type": "code",
      "execution_count": 54,
      "metadata": {
        "id": "3A33YR0QvHjn"
      },
      "outputs": [
        {
          "data": {
            "text/plain": [
              "tensor(203., grad_fn=<AddBackward0>)"
            ]
          },
          "execution_count": 54,
          "metadata": {},
          "output_type": "execute_result"
        }
      ],
      "source": [
        "#1 Use PyTorch to compute 'y' for x = 4\n",
        "\n",
        "x=torch.tensor(4.0,requires_grad=True)\n",
        "x\n",
        "y=2*x**3+5*x**2-3*x+7\n",
        "y"
      ]
    },
    {
      "cell_type": "code",
      "execution_count": 55,
      "metadata": {
        "id": "-9I7GHC2vyi2"
      },
      "outputs": [],
      "source": [
        "#2 Calculate dy/dx(gradient) using PyTorch's autograd\n",
        "y.backward(retain_graph=True)\n"
      ]
    },
    {
      "cell_type": "code",
      "execution_count": 57,
      "metadata": {},
      "outputs": [
        {
          "data": {
            "text/plain": [
              "tensor(133.)"
            ]
          },
          "execution_count": 57,
          "metadata": {},
          "output_type": "execute_result"
        }
      ],
      "source": [
        "gradient=x.grad\n",
        "gradient"
      ]
    },
    {
      "cell_type": "markdown",
      "metadata": {
        "id": "cWs5gdmiylYe"
      },
      "source": [
        "\n",
        "\n",
        "---\n",
        "\n"
      ]
    },
    {
      "cell_type": "markdown",
      "metadata": {
        "id": "12iKFr_NwC7d"
      },
      "source": [
        "**Task5: Camera Calibration**\n",
        "\n",
        "AI Town’s surveillance cameras need to align their focus. You are given the following matrices for two cameras’ focus adjustments:"
      ]
    },
    {
      "cell_type": "code",
      "execution_count": null,
      "metadata": {
        "id": "3syFy2GlwLRZ"
      },
      "outputs": [],
      "source": [
        "'''\n",
        "camera1 = torch.tensor([[1, 2], [3, 4]])\n",
        "camera2 = torch.tensor([[5, 6], [7, 8]])\n",
        "'''"
      ]
    },
    {
      "cell_type": "code",
      "execution_count": 61,
      "metadata": {
        "id": "xJH8T-85wO_B"
      },
      "outputs": [
        {
          "name": "stdout",
          "output_type": "stream",
          "text": [
            "tensor([[ 5, 12],\n",
            "        [21, 32]])\n"
          ]
        }
      ],
      "source": [
        "#1 Perform an element-wise multiplication of matrices ( Hadamard Product)\n",
        "camera1=torch.tensor([\n",
        "    [1,2],[3,4]\n",
        "])\n",
        "camera2=torch.tensor([\n",
        "    [5,6] , [7,8]\n",
        "])\n",
        "multiplication=camera1*camera2\n",
        "print(multiplication)"
      ]
    },
    {
      "cell_type": "code",
      "execution_count": 62,
      "metadata": {
        "id": "yL5otP3FwZY8"
      },
      "outputs": [
        {
          "data": {
            "text/plain": [
              "tensor([[19, 22],\n",
              "        [43, 50]])"
            ]
          },
          "execution_count": 62,
          "metadata": {},
          "output_type": "execute_result"
        }
      ],
      "source": [
        "#2 Compute Dot Product of the two matrices\n",
        "matmul_prod=torch.matmul(camera1,camera2)\n",
        "matmul_prod"
      ]
    },
    {
      "cell_type": "code",
      "execution_count": 66,
      "metadata": {
        "id": "97dWTkQzxBaH"
      },
      "outputs": [
        {
          "name": "stdout",
          "output_type": "stream",
          "text": [
            "tensor(-2.) tensor(-2.0000)\n"
          ]
        }
      ],
      "source": [
        "det1=torch.det(camera1.float())\n",
        "det2=torch.det(camera2.float())\n",
        "\n",
        "print(det1,det2)"
      ]
    },
    {
      "cell_type": "markdown",
      "metadata": {
        "id": "dtQXmntaym2T"
      },
      "source": [
        "\n",
        "\n",
        "---\n",
        "\n"
      ]
    },
    {
      "cell_type": "markdown",
      "metadata": {
        "id": "tA6tObX4xFLE"
      },
      "source": [
        "**Task6: Neural Network Foundations**\n",
        "\n",
        "Our AI University uses simplified single neuron model (perceptron):\n",
        "$$y = wx + b$$"
      ]
    },
    {
      "cell_type": "code",
      "execution_count": 72,
      "metadata": {
        "id": "CAynFZXZxf53"
      },
      "outputs": [
        {
          "name": "stdout",
          "output_type": "stream",
          "text": [
            "tensor(2., requires_grad=True)\n",
            "tensor(1., requires_grad=True)\n",
            "tensor([1., 2., 3., 4.], requires_grad=True)\n"
          ]
        }
      ],
      "source": [
        "#1 Create tensors for w  = 2, b = 1, x = [1, 2, 3, 4]\n",
        "w=torch.tensor(2.0,requires_grad=True)\n",
        "b=torch.tensor(1.0,requires_grad=True)\n",
        "\n",
        "x=torch.tensor([\n",
        "    1.0,2.0,3.0,4.0\n",
        "],requires_grad=True)\n",
        "\n",
        "print(w)\n",
        "print(b)\n",
        "print(x)"
      ]
    },
    {
      "cell_type": "code",
      "execution_count": 73,
      "metadata": {
        "id": "sAtHYFNDxqy-"
      },
      "outputs": [
        {
          "data": {
            "text/plain": [
              "tensor([3., 5., 7., 9.], grad_fn=<AddBackward0>)"
            ]
          },
          "execution_count": 73,
          "metadata": {},
          "output_type": "execute_result"
        }
      ],
      "source": [
        "#2 Compute tensors for y\n",
        "\n",
        "y=w*x+b\n",
        "y\n"
      ]
    },
    {
      "cell_type": "markdown",
      "metadata": {
        "id": "3PLDt7oKyoI6"
      },
      "source": [
        "\n",
        "\n",
        "---\n",
        "\n"
      ]
    }
  ],
  "metadata": {
    "colab": {
      "provenance": []
    },
    "kernelspec": {
      "display_name": "myenv_cb_dl",
      "language": "python",
      "name": "python3"
    },
    "language_info": {
      "codemirror_mode": {
        "name": "ipython",
        "version": 3
      },
      "file_extension": ".py",
      "mimetype": "text/x-python",
      "name": "python",
      "nbconvert_exporter": "python",
      "pygments_lexer": "ipython3",
      "version": "3.8.20"
    }
  },
  "nbformat": 4,
  "nbformat_minor": 0
}
