{
 "cells": [
  {
   "cell_type": "code",
   "execution_count": 3,
   "metadata": {},
   "outputs": [],
   "source": [
    "import torch "
   ]
  },
  {
   "cell_type": "code",
   "execution_count": 4,
   "metadata": {},
   "outputs": [],
   "source": [
    "import pandas as pd \n",
    "import torch.nn as nn\n",
    "import torch.optim as optim"
   ]
  },
  {
   "cell_type": "code",
   "execution_count": 5,
   "metadata": {},
   "outputs": [
    {
     "data": {
      "text/html": [
       "<div>\n",
       "<style scoped>\n",
       "    .dataframe tbody tr th:only-of-type {\n",
       "        vertical-align: middle;\n",
       "    }\n",
       "\n",
       "    .dataframe tbody tr th {\n",
       "        vertical-align: top;\n",
       "    }\n",
       "\n",
       "    .dataframe thead th {\n",
       "        text-align: right;\n",
       "    }\n",
       "</style>\n",
       "<table border=\"1\" class=\"dataframe\">\n",
       "  <thead>\n",
       "    <tr style=\"text-align: right;\">\n",
       "      <th></th>\n",
       "      <th>employee_id</th>\n",
       "      <th>performance</th>\n",
       "      <th>years_of_experience</th>\n",
       "      <th>projects_completed</th>\n",
       "      <th>bonus</th>\n",
       "    </tr>\n",
       "  </thead>\n",
       "  <tbody>\n",
       "    <tr>\n",
       "      <th>0</th>\n",
       "      <td>EMP_001</td>\n",
       "      <td>7</td>\n",
       "      <td>1</td>\n",
       "      <td>3</td>\n",
       "      <td>116</td>\n",
       "    </tr>\n",
       "    <tr>\n",
       "      <th>1</th>\n",
       "      <td>EMP_002</td>\n",
       "      <td>4</td>\n",
       "      <td>8</td>\n",
       "      <td>10</td>\n",
       "      <td>136</td>\n",
       "    </tr>\n",
       "    <tr>\n",
       "      <th>2</th>\n",
       "      <td>EMP_003</td>\n",
       "      <td>8</td>\n",
       "      <td>4</td>\n",
       "      <td>5</td>\n",
       "      <td>150</td>\n",
       "    </tr>\n",
       "    <tr>\n",
       "      <th>3</th>\n",
       "      <td>EMP_004</td>\n",
       "      <td>5</td>\n",
       "      <td>4</td>\n",
       "      <td>7</td>\n",
       "      <td>118</td>\n",
       "    </tr>\n",
       "    <tr>\n",
       "      <th>4</th>\n",
       "      <td>EMP_005</td>\n",
       "      <td>7</td>\n",
       "      <td>5</td>\n",
       "      <td>6</td>\n",
       "      <td>146</td>\n",
       "    </tr>\n",
       "  </tbody>\n",
       "</table>\n",
       "</div>"
      ],
      "text/plain": [
       "  employee_id  performance  years_of_experience  projects_completed  bonus\n",
       "0     EMP_001            7                    1                   3    116\n",
       "1     EMP_002            4                    8                  10    136\n",
       "2     EMP_003            8                    4                   5    150\n",
       "3     EMP_004            5                    4                   7    118\n",
       "4     EMP_005            7                    5                   6    146"
      ]
     },
     "execution_count": 5,
     "metadata": {},
     "output_type": "execute_result"
    }
   ],
   "source": [
    "df=pd.read_csv('bonus.csv')\n",
    "df.head()"
   ]
  },
  {
   "cell_type": "code",
   "execution_count": 6,
   "metadata": {},
   "outputs": [],
   "source": [
    "from sklearn.model_selection import train_test_split\n",
    "\n",
    "\n",
    "x=df[['performance','years_of_experience','projects_completed']].values \n",
    "y=df[['bonus']].values "
   ]
  },
  {
   "cell_type": "code",
   "execution_count": 7,
   "metadata": {},
   "outputs": [],
   "source": [
    "x_train,x_test,y_train,y_test=train_test_split(x,y,test_size=0.2,random_state=0)"
   ]
  },
  {
   "cell_type": "code",
   "execution_count": 8,
   "metadata": {},
   "outputs": [],
   "source": [
    "x_train_tensor=torch.tensor(x_train,dtype=torch.float32)\n",
    "y_train_tensor=torch.tensor(y_train,dtype=torch.float32)\n",
    "x_test_tensor=torch.tensor(x_test,dtype=torch.float32)\n",
    "y_test_tensor=torch.tensor(y_test,dtype=torch.float32)"
   ]
  },
  {
   "cell_type": "code",
   "execution_count": 9,
   "metadata": {},
   "outputs": [],
   "source": [
    "class BonusPredictor(nn.Module):\n",
    "    def __init__ (self):\n",
    "        super().__init__()\n",
    "        self.network=nn.Sequential(\n",
    "            nn.Linear(3,1) \n",
    "        )\n",
    "    def forward(self,x):\n",
    "        return self.network(x)"
   ]
  },
  {
   "cell_type": "code",
   "execution_count": 13,
   "metadata": {},
   "outputs": [],
   "source": [
    "model=BonusPredictor()\n",
    "criterion=nn.MSELoss()\n",
    "optimiser=optim.SGD(model.parameters(),lr=0.5)"
   ]
  },
  {
   "cell_type": "code",
   "execution_count": 14,
   "metadata": {},
   "outputs": [
    {
     "name": "stdout",
     "output_type": "stream",
     "text": [
      "Epoch [100/5000], Loss: nan\n",
      "Epoch [200/5000], Loss: nan\n",
      "Epoch [300/5000], Loss: nan\n",
      "Epoch [400/5000], Loss: nan\n",
      "Epoch [500/5000], Loss: nan\n",
      "Epoch [600/5000], Loss: nan\n",
      "Epoch [700/5000], Loss: nan\n",
      "Epoch [800/5000], Loss: nan\n",
      "Epoch [900/5000], Loss: nan\n",
      "Epoch [1000/5000], Loss: nan\n",
      "Epoch [1100/5000], Loss: nan\n",
      "Epoch [1200/5000], Loss: nan\n",
      "Epoch [1300/5000], Loss: nan\n",
      "Epoch [1400/5000], Loss: nan\n",
      "Epoch [1500/5000], Loss: nan\n",
      "Epoch [1600/5000], Loss: nan\n",
      "Epoch [1700/5000], Loss: nan\n",
      "Epoch [1800/5000], Loss: nan\n",
      "Epoch [1900/5000], Loss: nan\n",
      "Epoch [2000/5000], Loss: nan\n",
      "Epoch [2100/5000], Loss: nan\n",
      "Epoch [2200/5000], Loss: nan\n",
      "Epoch [2300/5000], Loss: nan\n",
      "Epoch [2400/5000], Loss: nan\n",
      "Epoch [2500/5000], Loss: nan\n",
      "Epoch [2600/5000], Loss: nan\n",
      "Epoch [2700/5000], Loss: nan\n",
      "Epoch [2800/5000], Loss: nan\n",
      "Epoch [2900/5000], Loss: nan\n",
      "Epoch [3000/5000], Loss: nan\n",
      "Epoch [3100/5000], Loss: nan\n",
      "Epoch [3200/5000], Loss: nan\n",
      "Epoch [3300/5000], Loss: nan\n",
      "Epoch [3400/5000], Loss: nan\n",
      "Epoch [3500/5000], Loss: nan\n",
      "Epoch [3600/5000], Loss: nan\n",
      "Epoch [3700/5000], Loss: nan\n",
      "Epoch [3800/5000], Loss: nan\n",
      "Epoch [3900/5000], Loss: nan\n",
      "Epoch [4000/5000], Loss: nan\n",
      "Epoch [4100/5000], Loss: nan\n",
      "Epoch [4200/5000], Loss: nan\n",
      "Epoch [4300/5000], Loss: nan\n",
      "Epoch [4400/5000], Loss: nan\n",
      "Epoch [4500/5000], Loss: nan\n",
      "Epoch [4600/5000], Loss: nan\n",
      "Epoch [4700/5000], Loss: nan\n",
      "Epoch [4800/5000], Loss: nan\n",
      "Epoch [4900/5000], Loss: nan\n",
      "Epoch [5000/5000], Loss: nan\n"
     ]
    }
   ],
   "source": [
    "epochs=5000\n",
    "\n",
    "for epoch in range(epochs):\n",
    "   predictions= model(x_train_tensor)\n",
    "   loss=criterion(predictions,y_train_tensor)\n",
    "   \n",
    "   optimiser.zero_grad()\n",
    "   loss.backward()\n",
    "   \n",
    "   optimiser.step()\n",
    "   \n",
    "   if(epoch+1)%100==0:\n",
    "    print(f\"Epoch [{epoch + 1}/{epochs}], Loss: {loss.item():.2f}\")"
   ]
  },
  {
   "cell_type": "code",
   "execution_count": 12,
   "metadata": {},
   "outputs": [
    {
     "name": "stdout",
     "output_type": "stream",
     "text": [
      "Test Loss:nan\n"
     ]
    }
   ],
   "source": [
    "model.eval()\n",
    "\n",
    "with torch.no_grad():\n",
    "    test_predictions=model(x_test_tensor)\n",
    "    test_loss=criterion(test_predictions,y_test_tensor)\n",
    "    \n",
    "print(f\"Test Loss:{test_loss.item():0.2f}\")"
   ]
  },
  {
   "cell_type": "code",
   "execution_count": 17,
   "metadata": {},
   "outputs": [
    {
     "name": "stdout",
     "output_type": "stream",
     "text": [
      "Name:network.0.weight, Value:Parameter containing:\n",
      "tensor([[nan, nan, nan]], requires_grad=True)\n",
      "Name:network.0.bias, Value:Parameter containing:\n",
      "tensor([nan], requires_grad=True)\n"
     ]
    }
   ],
   "source": [
    "for name,value in model.named_parameters():\n",
    "    print(f\"Name:{name}, Value:{value}\")"
   ]
  },
  {
   "cell_type": "code",
   "execution_count": null,
   "metadata": {},
   "outputs": [],
   "source": []
  }
 ],
 "metadata": {
  "kernelspec": {
   "display_name": "myenv_cb_dl",
   "language": "python",
   "name": "python3"
  },
  "language_info": {
   "codemirror_mode": {
    "name": "ipython",
    "version": 3
   },
   "file_extension": ".py",
   "mimetype": "text/x-python",
   "name": "python",
   "nbconvert_exporter": "python",
   "pygments_lexer": "ipython3",
   "version": "3.8.20"
  }
 },
 "nbformat": 4,
 "nbformat_minor": 2
}
