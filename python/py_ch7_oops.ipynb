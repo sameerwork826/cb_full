{
 "cells": [
  {
   "cell_type": "markdown",
   "metadata": {},
   "source": [
    "# OOPS\n"
   ]
  },
  {
   "cell_type": "markdown",
   "metadata": {},
   "source": [
    "### Classes and objects\n",
    "### operator overloading\n",
    "### inheritance\n",
    "### exception handling\n",
    "### __main__ function"
   ]
  },
  {
   "cell_type": "code",
   "execution_count": 10,
   "metadata": {},
   "outputs": [
    {
     "name": "stdout",
     "output_type": "stream",
     "text": [
      "the avg score of vriat is 91.66666666666667\n",
      "the age of virat is 37\n",
      "the avg score of warner is 60.0\n",
      "the age of warner is 39\n",
      "the avg score of rohit is 91.66666666666667\n",
      "the age of rohit is 38\n"
     ]
    }
   ],
   "source": [
    "import datetime \n",
    "\n",
    "def get_avg_socre(player):\n",
    "    return sum(player['scores'])/len(player['scores'])\n",
    "\n",
    "\n",
    "def get_age(player):\n",
    "    return datetime.datetime.now().year-player['birth_year']\n",
    "\n",
    "virat={\n",
    "    'first_name':'virat',\n",
    "    'last_name':'kohli',\n",
    "    'scores':[],\n",
    "    'birth_year':1988,\n",
    "}\n",
    "\n",
    "warner={\n",
    "    'first_name':'david',\n",
    "    'last_name':'warner',\n",
    "    'scores':[],\n",
    "    'birth_year':1986,\n",
    "}\n",
    "\n",
    "rohit_sharma={\n",
    "    'first_name':'rohit',\n",
    "    'last_name':'sharma',\n",
    "    'scores':[],\n",
    "    'birth_year':1987,\n",
    "}\n",
    "\n",
    "\n",
    "\n",
    "virat['scores'].append(80)\n",
    "virat['scores'].append(100)\n",
    "virat['scores'].append(95)\n",
    "\n",
    "warner['scores'].append(50)\n",
    "warner['scores'].append(60)\n",
    "warner['scores'].append(70)\n",
    "\n",
    "rohit_sharma['scores'].append(85)\n",
    "rohit_sharma['scores'].append(90)\n",
    "rohit_sharma['scores'].append(100)\n",
    "\n",
    "print(f\"the avg score of vriat is {get_avg_socre(virat)}\")\n",
    "print(f\"the age of virat is {get_age(virat)}\")\n",
    "\n",
    "\n",
    "print(f\"the avg score of warner is {get_avg_socre(warner)}\")\n",
    "print(f\"the age of warner is {get_age(warner)}\")\n",
    "\n",
    "print(f\"the avg score of rohit is {get_avg_socre(rohit_sharma)}\")\n",
    "print(f\"the age of rohit is {get_age(rohit_sharma)}\")\n",
    "\n"
   ]
  },
  {
   "cell_type": "code",
   "execution_count": 29,
   "metadata": {},
   "outputs": [
    {
     "name": "stdout",
     "output_type": "stream",
     "text": [
      "virat kohli,the cricket player is form india\n",
      "CricketPlayer(first_name=virat,last_name=kohli,birth_year=1988,team=india)\n",
      "The first name of virat is virat\n",
      "The last name of virat is kohli\n",
      "The birth year of virat is 1988\n",
      "The team of virat is india\n",
      "The scores of virat are [80, 100, 95]\n",
      "The avg score of virat is 91.66666666666667\n",
      "The age of virat is 37\n"
     ]
    }
   ],
   "source": [
    "class CricketPlayer:\n",
    "    team_size=11\n",
    "    \n",
    "    def __init__(self,fname,lname,birth_year,team):\n",
    "        self.first_name=fname\n",
    "        self.last_name=lname\n",
    "        self.birth_year=birth_year\n",
    "        self.team=team\n",
    "        self.scores=[]\n",
    "    def add_score(self,score):\n",
    "        self.scores.append(score)\n",
    "        \n",
    "    def get_avg_score(self):\n",
    "        return sum(self.scores)/len(self.scores)\n",
    "    \n",
    "    def get_age(self):\n",
    "        return datetime.datetime.now().year-self.birth_year\n",
    "    \n",
    "    def __str__(self):\n",
    "        return f\"{self.first_name} {self.last_name},the cricket player is form {self.team}\"\n",
    "    \n",
    "    def __repr__(self):\n",
    "        return f\"CricketPlayer(first_name={self.first_name},last_name={self.last_name},birth_year={self.birth_year},team={self.team})\"\n",
    "    def  __lt__(self,other):\n",
    "        self_avg_score=self.get_avg_score()\n",
    "        other_avg_score=other.get_avg_score()\n",
    "        \n",
    "        return self_avg_score<other_avg_score\n",
    "    def __gt__(self,other):\n",
    "        self_avg_score=self.get_avg_score()\n",
    "        other_avg_score=other.get_avg_score()\n",
    "        \n",
    "        return self_avg_score>other_avg_score\n",
    "    def __eq__(self,other):\n",
    "        self_avg_score=self.get_avg_score()\n",
    "        other_avg_score=other.get_avg_score()\n",
    "        \n",
    "        return self_avg_score==other_avg_score\n",
    "    \n",
    "    \n",
    "virat=CricketPlayer('virat','kohli',1988,'india')\n",
    "virat.add_score(80)\n",
    "virat.add_score(100)\n",
    "virat.add_score(95)\n",
    "\n",
    "warner=CricketPlayer('david','warner',1986,'australia')\n",
    "warner.add_score(50)\n",
    "warner.add_score(60)\n",
    "warner.add_score(70)\n",
    "\n",
    "\n",
    "\n",
    "\n",
    "print(virat)\n",
    "print(repr(virat))\n",
    "\n",
    "print(f\"The first name of virat is {virat.first_name}\")\n",
    "print(f\"The last name of virat is {virat.last_name}\")\n",
    "print(f\"The birth year of virat is {virat.birth_year}\"  )\n",
    "print(f\"The team of virat is {virat.team}\")\n",
    "print(f\"The scores of virat are {virat.scores}\")\n",
    "print(f\"The avg score of virat is {virat.get_avg_score()}\")\n",
    "print(f\"The age of virat is {virat.get_age()}\")"
   ]
  },
  {
   "cell_type": "code",
   "execution_count": 28,
   "metadata": {},
   "outputs": [
    {
     "name": "stdout",
     "output_type": "stream",
     "text": [
      "True\n"
     ]
    }
   ],
   "source": [
    "\n",
    "print(warner<virat)\n"
   ]
  },
  {
   "cell_type": "code",
   "execution_count": 22,
   "metadata": {},
   "outputs": [
    {
     "name": "stdout",
     "output_type": "stream",
     "text": [
      "This is a Toyota Camry\n",
      "This is a Honda Civic\n",
      "Total cars created: 2\n",
      "This is a car manufacturing company\n",
      "Balance: $1000\n"
     ]
    }
   ],
   "source": [
    "# Classes and Objects in Python\n",
    "\n",
    "# Class definition\n",
    "class Car:\n",
    "    # Class variable shared by all instances\n",
    "    total_cars = 0\n",
    "    \n",
    "    # Constructor (initializer method)\n",
    "    def __init__(self, brand, model):\n",
    "        # Instance variables unique to each instance\n",
    "        self.brand = brand\n",
    "        self.model = model\n",
    "        Car.total_cars += 1\n",
    "    \n",
    "    # Instance method\n",
    "    def display_info(self):\n",
    "        return f\"This is a {self.brand} {self.model}\"\n",
    "    \n",
    "    # Class method\n",
    "    @classmethod\n",
    "    def get_total_cars(cls):\n",
    "        return cls.total_cars\n",
    "    \n",
    "    # Static method\n",
    "    @staticmethod\n",
    "    def company_info():\n",
    "        return \"This is a car manufacturing company\"\n",
    "\n",
    "# Creating objects (instances) of the class\n",
    "car1 = Car(\"Toyota\", \"Camry\")\n",
    "car2 = Car(\"Honda\", \"Civic\")\n",
    "\n",
    "# Accessing instance methods and variables\n",
    "print(car1.display_info())  # Output: This is a Toyota Camry\n",
    "print(car2.display_info())  # Output: This is a Honda Civic\n",
    "\n",
    "# Accessing class method\n",
    "print(f\"Total cars created: {Car.get_total_cars()}\")  # Output: Total cars created: 2\n",
    "\n",
    "# Accessing static method\n",
    "print(Car.company_info())  # Output: This is a car manufacturing company\n",
    "\n",
    "# Example of class with encapsulation\n",
    "class BankAccount:\n",
    "    def __init__(self):\n",
    "        self.__balance = 0  # Private variable\n",
    "    \n",
    "    def deposit(self, amount):\n",
    "        if amount > 0:\n",
    "            self.__balance += amount\n",
    "            return True\n",
    "        return False\n",
    "    \n",
    "    def get_balance(self):\n",
    "        return self.__balance\n",
    "\n",
    "# Creating bank account object\n",
    "account = BankAccount()\n",
    "account.deposit(1000)\n",
    "print(f\"Balance: ${account.get_balance()}\")  # Output: Balance: $1000\n"
   ]
  },
  {
   "cell_type": "code",
   "execution_count": 24,
   "metadata": {},
   "outputs": [
    {
     "name": "stdout",
     "output_type": "stream",
     "text": [
      "True\n"
     ]
    }
   ],
   "source": []
  },
  {
   "cell_type": "code",
   "execution_count": null,
   "metadata": {},
   "outputs": [],
   "source": [
    "class TennisPlayer:\n",
    "    def __init__(self,fname,lname,birth_year,country):\n",
    "        self.first_name=fname\n",
    "        self.lname=lname\n",
    "        self.birth_year=birth_year\n",
    "        self.country=country\n",
    "        self.aces=[]\n",
    " \n",
    "    def get_ages(self):\n",
    "        now=datetime.datetime.now()\n",
    "        return now.year-self.birth_year\n",
    "    \n",
    "    def get_average_aces_per_match(self):\n",
    "        return sum(self.aces)/len(self.aces)\n",
    "    \n",
    "    def add_ace(self,num_aces):\n",
    "        self.aces.append(num_aces)\n",
    "        \n",
    "    "
   ]
  },
  {
   "cell_type": "code",
   "execution_count": 37,
   "metadata": {},
   "outputs": [
    {
     "name": "stdout",
     "output_type": "stream",
     "text": [
      "roger\n"
     ]
    }
   ],
   "source": [
    "class Player:\n",
    "    def __init__(self,fname,lname,birth_year):\n",
    "        self.first_name=fname\n",
    "        self.last_name=lname\n",
    "        self.birth_year=birth_year\n",
    "        \n",
    "    def get_age(self):\n",
    "        now=datetime.datetime.now()\n",
    "        return now.year-self.birth_year\n",
    "    \n",
    "    class TennisPlayer(Player):\n",
    "        def __intit__(fname,lname,birth_year):\n",
    "        super().__init__(fname,Lname,birth_year)\n",
    "        self.aces=[]\n",
    "    \n",
    "    class CricketPlayer(Player):\n",
    "        def __init__(self,fname,lname,birth_year):\n",
    "            super().__init__(fname,lname,birth_year)\n",
    "            self.scores=[]          \n",
    "    \n",
    "roger=TennisPlayer('roger','federer',1981)\n",
    "print(roger.first_name)"
   ]
  },
  {
   "cell_type": "code",
   "execution_count": null,
   "metadata": {},
   "outputs": [],
   "source": [
    "class Player:\n",
    "    def __init__(self,fname,lname,birth_year):\n",
    "        self.first_name=fname\n",
    "        self.last_name=lname\n",
    "        self.birth_year=birth_year\n",
    "        \n",
    "    def get_age(self):\n",
    "        now=datetime.datetime.now()\n",
    "        return now.year-self.birth_year\n",
    "\n",
    "class TennisPlayer(Player):\n",
    "    def __init__(self,fname,lname,birth_year):\n",
    "        super().__init__(fname,lname,birth_year)\n",
    "        self.aces=[]\n",
    "    \n",
    "class CricketPlayer(Player):\n",
    "    def __init__(self,fname,lname,birth_year):\n",
    "        super().__init__(fname,lname,birth_year)\n",
    "        self.scores=[]\n",
    "    \n",
    "roger=TennisPlayer('roger','federer',1981)\n",
    "print(roger.first_name)"
   ]
  },
  {
   "cell_type": "markdown",
   "metadata": {},
   "source": [
    "## Exception handling\n"
   ]
  },
  {
   "cell_type": "code",
   "execution_count": null,
   "metadata": {},
   "outputs": [
    {
     "name": "stdout",
     "output_type": "stream",
     "text": [
      "error division by zero\n",
      "-1\n"
     ]
    }
   ],
   "source": [
    "# Basic try-except block\n",
    "try:\n",
    "    x = 5/0  # This will raise a ZeroDivisionError\n",
    "except ZeroDivisionError:\n",
    "    print(\"Cannot divide by zero!\")\n",
    "\n",
    "# Multiple exceptions\n",
    "try:\n",
    "    nums = [1, 2, 3]\n",
    "    print(nums[4])  # This will raise an IndexError\n",
    "    x = 5/'a'  # This would raise a TypeError if reached\n",
    "except IndexError:\n",
    "    print(\"Index out of range!\")\n",
    "except TypeError:\n",
    "    print(\"Invalid operation!\")\n",
    "\n",
    "# try-except-else-finally\n",
    "try:\n",
    "    x = 5/2\n",
    "except ZeroDivisionError:\n",
    "    print(\"Division by zero!\")\n",
    "else:\n",
    "    print(\"Division successful:\", x)  # Runs if no exception\n",
    "finally:\n",
    "    print(\"This always executes\")  # Always runs\n",
    "\n",
    "# Raising custom exceptions\n",
    "class AgeError(Exception):\n",
    "    pass\n",
    "\n",
    "def verify_age(age):\n",
    "    if age < 0:\n",
    "        raise AgeError(\"Age cannot be negative\")\n",
    "    return age\n",
    "\n",
    "try:\n",
    "    verify_age(-5)\n",
    "except AgeError as e:\n",
    "    print(\"Error:\", str(e))\n"
   ]
  },
  {
   "cell_type": "code",
   "execution_count": 62,
   "metadata": {},
   "outputs": [
    {
     "name": "stdout",
     "output_type": "stream",
     "text": [
      "1100\n"
     ]
    }
   ],
   "source": [
    "balance=100\n",
    "def deposit(amount):\n",
    "    global balance\n",
    "    if amount<=0:\n",
    "        raise ValueError(\"Amount must be positive\")\n",
    "    balance+=amount\n",
    "    return balance\n",
    "\n",
    "\n",
    "\n",
    "deposit(+1000)\n",
    "print(balance)\n"
   ]
  },
  {
   "cell_type": "code",
   "execution_count": 69,
   "metadata": {},
   "outputs": [
    {
     "data": {
      "text/plain": [
       "0"
      ]
     },
     "execution_count": 69,
     "metadata": {},
     "output_type": "execute_result"
    }
   ],
   "source": [
    "balance=1000\n",
    "class InsufficientBalanceError(Exception):\n",
    "    pass\n",
    "\n",
    "def withdraw(amount):\n",
    "    global balance\n",
    "    if amount>balance:\n",
    "        raise InsufficientBalanceError(\"Insufficient balance\")\n",
    "    balance-=amount\n",
    "    return balance\n",
    "\n",
    "withdraw(1000)\n",
    "\n"
   ]
  },
  {
   "cell_type": "markdown",
   "metadata": {},
   "source": [
    "## Main Function\n"
   ]
  },
  {
   "cell_type": "code",
   "execution_count": 82,
   "metadata": {},
   "outputs": [
    {
     "name": "stdout",
     "output_type": "stream",
     "text": [
      "value of __name__ is __main__\n",
      "Area: 240.0\n"
     ]
    }
   ],
   "source": [
    "def calcualte_triangle_area(base,height):\n",
    "    print(\"value of __name__ is\",__name__)\n",
    "    return 1.2*base*height\n",
    "\n",
    "if __name__==\"__main__\":\n",
    "   print(\"Area:\",calcualte_triangle_area(10,20))\n",
    "\n"
   ]
  },
  {
   "cell_type": "code",
   "execution_count": 83,
   "metadata": {},
   "outputs": [
    {
     "ename": "ModuleNotFoundError",
     "evalue": "No module named 'py_ch7_oops'",
     "output_type": "error",
     "traceback": [
      "\u001b[1;31m---------------------------------------------------------------------------\u001b[0m",
      "\u001b[1;31mModuleNotFoundError\u001b[0m                       Traceback (most recent call last)",
      "Cell \u001b[1;32mIn[83], line 1\u001b[0m\n\u001b[1;32m----> 1\u001b[0m \u001b[38;5;28;01mimport\u001b[39;00m \u001b[38;5;21;01mpy_ch7_oops\u001b[39;00m\n\u001b[0;32m      3\u001b[0m \u001b[38;5;28mprint\u001b[39m(py_ch7_oops\u001b[38;5;241m.\u001b[39mcalculate_traingle_area(\u001b[38;5;241m10\u001b[39m,\u001b[38;5;241m20\u001b[39m))\n",
      "\u001b[1;31mModuleNotFoundError\u001b[0m: No module named 'py_ch7_oops'"
     ]
    }
   ],
   "source": [
    "import py_ch7_oops\n",
    "\n",
    "print(py_ch7_oops.calculate_traingle_area(10,20))\n",
    "\n"
   ]
  },
  {
   "cell_type": "code",
   "execution_count": null,
   "metadata": {},
   "outputs": [],
   "source": []
  }
 ],
 "metadata": {
  "kernelspec": {
   "display_name": "Python 3",
   "language": "python",
   "name": "python3"
  },
  "language_info": {
   "codemirror_mode": {
    "name": "ipython",
    "version": 3
   },
   "file_extension": ".py",
   "mimetype": "text/x-python",
   "name": "python",
   "nbconvert_exporter": "python",
   "pygments_lexer": "ipython3",
   "version": "3.8.20"
  }
 },
 "nbformat": 4,
 "nbformat_minor": 2
}
