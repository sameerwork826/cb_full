{
 "cells": [
  {
   "cell_type": "markdown",
   "id": "627bc77b",
   "metadata": {},
   "source": [
    "<h2 align=\"center\" style=\"color:blue\">Codebasics Python Course: Exercise - APIs in Python</h2>"
   ]
  },
  {
   "cell_type": "markdown",
   "id": "9af20118",
   "metadata": {},
   "source": [
    "The Open Brewery DB API offers detailed data on various breweries across the United States. \n",
    "\n",
    "--\n",
    "\n",
    "### Task 1: Fetch Brewery Data for Non-alcoholic Drink manufacturer - US client\n",
    "\n",
    "**Scenario:**\n",
    "\n",
    "As Tony Sharma mentioned during the call, he needs details about all the breweries in a specific state.\n",
    "\n",
    "Your task is to use the Open Brewery DB API to fetch and display brewery details based on a given state, which will be helpful for his client call tomorrow.\n",
    "\n",
    "**Write a Python program that:**\n",
    "\n",
    "1. Uses the `requests` library to call the Open Brewery DB API to fetch brewery data based on a given state.\n",
    "2. Parses the JSON response.\n",
    "3. Extracts and displays the name, type, and location (city) of each brewery.\n",
    "4. Handles errors gracefully (e.g., network issues or invalid API requests).\n",
    "\n",
    "Example URL for Texas Breweries: `https://api.openbrewerydb.org/breweries?by_state=texas`"
   ]
  },
  {
   "cell_type": "code",
   "execution_count": 100,
   "id": "0f6134fc",
   "metadata": {},
   "outputs": [],
   "source": [
    "import requests\n",
    "def get_brewery_data(state):\n",
    "    url=f\"https://api.openbrewerydb.org/breweries?by_state={state}\"\n",
    "    try:\n",
    "        response=requests.get(url)\n",
    "        response.raise_for_status()\n",
    "        breweries=response.json()\n",
    "        if not breweries:\n",
    "            return f\"NO brewerie found in this state {state} \"\n",
    "        else:\n",
    "            return breweries\n",
    "    \n",
    "    except requests.exceptions.HTTPError as err:\n",
    "        return f\"HTTP error occured {err}\"\n",
    "    except Exception as err:\n",
    "        return f\"An error occured {err}\"\n",
    "\n",
    "\n",
    "\n",
    "state=\"texas\"\n",
    "data=get_brewery_data(state)\n"
   ]
  },
  {
   "cell_type": "code",
   "execution_count": 104,
   "id": "e4fda537",
   "metadata": {},
   "outputs": [
    {
     "data": {
      "text/plain": [
       "[{'name': '(512) Brewing Co',\n",
       "  'type': 'micro',\n",
       "  'state': 'Texas',\n",
       "  'city': 'Austin'}]"
      ]
     },
     "execution_count": 104,
     "metadata": {},
     "output_type": "execute_result"
    }
   ],
   "source": [
    "data_filtered=[{'name':d['name'] ,'type': d['brewery_type'],'state':d['state'],'city':d['city']} for d in data]\n",
    "data_filtered[:1]"
   ]
  },
  {
   "cell_type": "code",
   "execution_count": 32,
   "id": "c2da5228",
   "metadata": {},
   "outputs": [],
   "source": [
    "dict_filtered=[{'name':d['name'],'type':d[\"brewery_type\"],'location':d['city']} for d in dict]"
   ]
  },
  {
   "cell_type": "code",
   "execution_count": 113,
   "id": "a4483ff6",
   "metadata": {},
   "outputs": [
    {
     "name": "stdout",
     "output_type": "stream",
     "text": [
      " -(512) Brewing Co  (micro) is located in Austin\n",
      " -11 Below Brewing Company  (micro) is located in Houston\n",
      " -28th State Brewing  (planning) is located in Houston\n",
      " -3 Nations Brewing  (micro) is located in Farmers Branch\n",
      " -4J Brewing Company  (micro) is located in Houston\n",
      " -4th Tap Brewing Cooperative  (micro) is located in Austin\n",
      " -5 Stones Artisan Brewery  (micro) is located in New Braunfels\n",
      " -5th Element Brewing  (planning) is located in Leander\n",
      " -5x5 Brewing Co.  (planning) is located in Mission\n",
      " -8th Wonder Brewery  (micro) is located in Houston\n",
      " -903 Brewers  (micro) is located in Sherman\n",
      " -Acopon Brewing Co  (micro) is located in Dripping Springs\n",
      " -Adelbert's Brewery LLC  (micro) is located in Austin\n",
      " -Alamo Beer Co  (micro) is located in San Antonio\n",
      " -Alcazar Brewery, LLC.  (planning) is located in Rio Grande City\n",
      " -Altmeyer and Lewis Brewing Company  (micro) is located in San Marcos\n",
      " -Altstadt Brewery  (micro) is located in Fredericksburg\n",
      " -Angelina Brewing Company, LLC.  (planning) is located in Lufkin\n",
      " -Anheuser-Busch Inc â Houston  (large) is located in Houston\n",
      " -Anvil Brewing  (brewpub) is located in Pittsburg\n",
      " -Aquabrew  (brewpub) is located in San Marcos\n",
      " -Aransas Pass Brewing Company, LLC  (planning) is located in Aransas Pass\n",
      " -Armadillo Ale Works  (micro) is located in Denton\n",
      " -Astral Brewing  (micro) is located in Houston\n",
      " -Athens Brewing Co  (brewpub) is located in Athens\n",
      " -Austin Beerworks  (regional) is located in Austin\n",
      " -B and J's Handcrafted Texas Ales  (micro) is located in Corpus Christi\n",
      " -B-52 Brewing  (micro) is located in Conroe\n",
      " -B-CS  Zoigl Brewery  (micro) is located in Bryan\n",
      " -Baa Baa Brewhouse  (micro) is located in Brookshire\n",
      " -Back Pew Brewing  (micro) is located in Porter\n",
      " -Back Unturned Brewing Co.  (micro) is located in San Antonio\n",
      " -BackStory Brewery  (planning) is located in Sulphur Springs\n",
      " -Baileson Brewing Company, LLC  (micro) is located in Houston\n",
      " -BAKFISH Brewing Company  (micro) is located in Pearland\n",
      " -Bandera Ale Project, LLC  (micro) is located in Bandera\n",
      " -Bankhead Brewing Company  (brewpub) is located in Rowlett\n",
      " -Bar D Brew House  (brewpub) is located in San Saba\n",
      " -Bare Arms Brewing  (micro) is located in Waco\n",
      " -Barking Armadillo Brewing  (micro) is located in Georgetown\n",
      " -Brotherwell Brewing  (micro) is located in Waco\n",
      " -Barrel Assembly  (planning) is located in Austin\n",
      " -Barrow Brewing Company  (micro) is located in Salado\n",
      " -Basement Brewers of Texas  (micro) is located in Kerrville\n",
      " -Batch Craft Beer and Kolaches  (planning) is located in Austin\n",
      " -BattleHops Brewing  (planning) is located in Katy\n",
      " -Bearded Fox Brewing Co.  (micro) is located in Tomball\n",
      " -Beerfoot Beach Bar  (micro) is located in Galveston\n",
      " -Big Bend Brewing Co  (micro) is located in Alpine\n",
      " -Big River Brewery, LLC  (micro) is located in Pharr\n"
     ]
    }
   ],
   "source": [
    "for d in dict_filtered:\n",
    "    print(f\" -{d['name']}  ({d['type']}) is located in {d['location']}\")\n"
   ]
  },
  {
   "cell_type": "markdown",
   "id": "d7533165",
   "metadata": {},
   "source": [
    "\n",
    "JSONPlaceholder offers a set of APIs for typical CRUD (Create, Read, Update, Delete) operations, making it an excellent resource for learning and testing HTTP requests.\n",
    "\n",
    "--\n",
    "\n",
    "### Task 2: Fetch User Data for AtliQ Client Project\n",
    "\n",
    "**Scenario:** As a quick favor, Loki shared an ad-hoc task with you. He needs help with a user profile component for an Atliq client application, using JSONPlaceholder to simulate fetching user data.\n",
    "\n",
    "**Objective:** Create a function `fetch_user_data` that uses JSONPlaceholder’s API to retrieve and format user details.\n",
    "\n",
    "**Steps:**\n",
    "\n",
    "1. Fetch user data from JSONPlaceholder.\n",
    "2. Format the data to include 'name', 'email', and 'address'.\n",
    "3. Return the data as a dictionary.\n",
    "\n",
    "**Expected Output:**\n",
    "\n",
    "```\n",
    "{\n",
    "    'name': 'Leanne Graham',\n",
    "    'email': 'Sincere@april.biz',\n",
    "    'address': 'Kulas Light, Gwenborough'\n",
    "}\n",
    "\n",
    "\n",
    "\n",
    "```"
   ]
  },
  {
   "cell_type": "code",
   "execution_count": 94,
   "id": "439e4e2a",
   "metadata": {},
   "outputs": [
    {
     "data": {
      "text/plain": [
       "{'name': 'Leanne Graham',\n",
       " 'email': 'Sincere@april.biz',\n",
       " 'address': 'Kulas Light, Gwenborough'}"
      ]
     },
     "execution_count": 94,
     "metadata": {},
     "output_type": "execute_result"
    }
   ],
   "source": [
    "import requests\n",
    "\n",
    "def fetch_user_data(user_id):\n",
    "    \"\"\"Fetch user data for a specified user ID from JSONPlaceholder API.\"\"\"\n",
    "    url = f\"https://jsonplaceholder.typicode.com/users/{user_id}\"\n",
    "    try:\n",
    "        response = requests.get(url)\n",
    "        response.raise_for_status()  # Raise an HTTPError for bad responses\n",
    "        data = response.json()\n",
    "        user_name = data['name']\n",
    "        user_email = data['email']\n",
    "        user_address = f\"{data['address']['street']}, {data['address']['city']}\"\n",
    "        return {\n",
    "            'name': user_name, \n",
    "            'email': user_email, \n",
    "            'address': user_address\n",
    "        }\n",
    "    except requests.exceptions.HTTPError as err:\n",
    "        return f\"HTTP error occurred: {err}\"\n",
    "    except Exception as err:\n",
    "        return f\"An error occurred: {err}\"\n",
    "\n",
    "# Usage\n",
    "user_id = 1\n",
    "user_info = fetch_user_data(user_id)\n",
    "user_info"
   ]
  },
  {
   "cell_type": "code",
   "execution_count": 92,
   "id": "bc84ea40",
   "metadata": {},
   "outputs": [
    {
     "data": {
      "text/plain": [
       "{'name': 'Leanne Graham',\n",
       " 'email': 'Sincere@april.biz',\n",
       " 'address': \"('Kulas Light', 'Gwenborough')\"}"
      ]
     },
     "execution_count": 92,
     "metadata": {},
     "output_type": "execute_result"
    }
   ],
   "source": [
    "# write your code here\n",
    "\n",
    "def fetch_user_data(user_id):\n",
    "    url=f\"https://jsonplaceholder.typicode.com/users/{user_id}\"\n",
    "    try:\n",
    "        response=requests.get(url)\n",
    "        response.raise_for_status()\n",
    "        data=response.json()\n",
    "        user_name=data['name']\n",
    "        user_email=data['email']\n",
    "        user_address=f\"{data['address']['street'],data['address']['city']}\"\n",
    "        \n",
    "        return {\n",
    "            'name': user_name, \n",
    "            'email': user_email, \n",
    "            'address': user_address\n",
    "        }\n",
    "    except requests.exceptions.HTTPError as err:\n",
    "        return f\"HTTP error occurred: {err}\"\n",
    "    \n",
    "\n",
    "user_id=1\n",
    "user_info=fetch_user_data(user_id)\n",
    "user_info"
   ]
  },
  {
   "cell_type": "code",
   "execution_count": 93,
   "id": "d665284c-cf7f-4480-8f38-83a72fc185b2",
   "metadata": {},
   "outputs": [
    {
     "data": {
      "text/plain": [
       "[{'id': 1,\n",
       "  'name': 'Leanne Graham',\n",
       "  'username': 'Bret',\n",
       "  'email': 'Sincere@april.biz',\n",
       "  'address': {'street': 'Kulas Light',\n",
       "   'suite': 'Apt. 556',\n",
       "   'city': 'Gwenborough',\n",
       "   'zipcode': '92998-3874',\n",
       "   'geo': {'lat': '-37.3159', 'lng': '81.1496'}},\n",
       "  'phone': '1-770-736-8031 x56442',\n",
       "  'website': 'hildegard.org',\n",
       "  'company': {'name': 'Romaguera-Crona',\n",
       "   'catchPhrase': 'Multi-layered client-server neural-net',\n",
       "   'bs': 'harness real-time e-markets'}},\n",
       " {'id': 2,\n",
       "  'name': 'Ervin Howell',\n",
       "  'username': 'Antonette',\n",
       "  'email': 'Shanna@melissa.tv',\n",
       "  'address': {'street': 'Victor Plains',\n",
       "   'suite': 'Suite 879',\n",
       "   'city': 'Wisokyburgh',\n",
       "   'zipcode': '90566-7771',\n",
       "   'geo': {'lat': '-43.9509', 'lng': '-34.4618'}},\n",
       "  'phone': '010-692-6593 x09125',\n",
       "  'website': 'anastasia.net',\n",
       "  'company': {'name': 'Deckow-Crist',\n",
       "   'catchPhrase': 'Proactive didactic contingency',\n",
       "   'bs': 'synergize scalable supply-chains'}},\n",
       " {'id': 3,\n",
       "  'name': 'Clementine Bauch',\n",
       "  'username': 'Samantha',\n",
       "  'email': 'Nathan@yesenia.net',\n",
       "  'address': {'street': 'Douglas Extension',\n",
       "   'suite': 'Suite 847',\n",
       "   'city': 'McKenziehaven',\n",
       "   'zipcode': '59590-4157',\n",
       "   'geo': {'lat': '-68.6102', 'lng': '-47.0653'}},\n",
       "  'phone': '1-463-123-4447',\n",
       "  'website': 'ramiro.info',\n",
       "  'company': {'name': 'Romaguera-Jacobson',\n",
       "   'catchPhrase': 'Face to face bifurcated interface',\n",
       "   'bs': 'e-enable strategic applications'}},\n",
       " {'id': 4,\n",
       "  'name': 'Patricia Lebsack',\n",
       "  'username': 'Karianne',\n",
       "  'email': 'Julianne.OConner@kory.org',\n",
       "  'address': {'street': 'Hoeger Mall',\n",
       "   'suite': 'Apt. 692',\n",
       "   'city': 'South Elvis',\n",
       "   'zipcode': '53919-4257',\n",
       "   'geo': {'lat': '29.4572', 'lng': '-164.2990'}},\n",
       "  'phone': '493-170-9623 x156',\n",
       "  'website': 'kale.biz',\n",
       "  'company': {'name': 'Robel-Corkery',\n",
       "   'catchPhrase': 'Multi-tiered zero tolerance productivity',\n",
       "   'bs': 'transition cutting-edge web services'}},\n",
       " {'id': 5,\n",
       "  'name': 'Chelsey Dietrich',\n",
       "  'username': 'Kamren',\n",
       "  'email': 'Lucio_Hettinger@annie.ca',\n",
       "  'address': {'street': 'Skiles Walks',\n",
       "   'suite': 'Suite 351',\n",
       "   'city': 'Roscoeview',\n",
       "   'zipcode': '33263',\n",
       "   'geo': {'lat': '-31.8129', 'lng': '62.5342'}},\n",
       "  'phone': '(254)954-1289',\n",
       "  'website': 'demarco.info',\n",
       "  'company': {'name': 'Keebler LLC',\n",
       "   'catchPhrase': 'User-centric fault-tolerant solution',\n",
       "   'bs': 'revolutionize end-to-end systems'}},\n",
       " {'id': 6,\n",
       "  'name': 'Mrs. Dennis Schulist',\n",
       "  'username': 'Leopoldo_Corkery',\n",
       "  'email': 'Karley_Dach@jasper.info',\n",
       "  'address': {'street': 'Norberto Crossing',\n",
       "   'suite': 'Apt. 950',\n",
       "   'city': 'South Christy',\n",
       "   'zipcode': '23505-1337',\n",
       "   'geo': {'lat': '-71.4197', 'lng': '71.7478'}},\n",
       "  'phone': '1-477-935-8478 x6430',\n",
       "  'website': 'ola.org',\n",
       "  'company': {'name': 'Considine-Lockman',\n",
       "   'catchPhrase': 'Synchronised bottom-line interface',\n",
       "   'bs': 'e-enable innovative applications'}},\n",
       " {'id': 7,\n",
       "  'name': 'Kurtis Weissnat',\n",
       "  'username': 'Elwyn.Skiles',\n",
       "  'email': 'Telly.Hoeger@billy.biz',\n",
       "  'address': {'street': 'Rex Trail',\n",
       "   'suite': 'Suite 280',\n",
       "   'city': 'Howemouth',\n",
       "   'zipcode': '58804-1099',\n",
       "   'geo': {'lat': '24.8918', 'lng': '21.8984'}},\n",
       "  'phone': '210.067.6132',\n",
       "  'website': 'elvis.io',\n",
       "  'company': {'name': 'Johns Group',\n",
       "   'catchPhrase': 'Configurable multimedia task-force',\n",
       "   'bs': 'generate enterprise e-tailers'}},\n",
       " {'id': 8,\n",
       "  'name': 'Nicholas Runolfsdottir V',\n",
       "  'username': 'Maxime_Nienow',\n",
       "  'email': 'Sherwood@rosamond.me',\n",
       "  'address': {'street': 'Ellsworth Summit',\n",
       "   'suite': 'Suite 729',\n",
       "   'city': 'Aliyaview',\n",
       "   'zipcode': '45169',\n",
       "   'geo': {'lat': '-14.3990', 'lng': '-120.7677'}},\n",
       "  'phone': '586.493.6943 x140',\n",
       "  'website': 'jacynthe.com',\n",
       "  'company': {'name': 'Abernathy Group',\n",
       "   'catchPhrase': 'Implemented secondary concept',\n",
       "   'bs': 'e-enable extensible e-tailers'}},\n",
       " {'id': 9,\n",
       "  'name': 'Glenna Reichert',\n",
       "  'username': 'Delphine',\n",
       "  'email': 'Chaim_McDermott@dana.io',\n",
       "  'address': {'street': 'Dayna Park',\n",
       "   'suite': 'Suite 449',\n",
       "   'city': 'Bartholomebury',\n",
       "   'zipcode': '76495-3109',\n",
       "   'geo': {'lat': '24.6463', 'lng': '-168.8889'}},\n",
       "  'phone': '(775)976-6794 x41206',\n",
       "  'website': 'conrad.com',\n",
       "  'company': {'name': 'Yost and Sons',\n",
       "   'catchPhrase': 'Switchable contextually-based project',\n",
       "   'bs': 'aggregate real-time technologies'}},\n",
       " {'id': 10,\n",
       "  'name': 'Clementina DuBuque',\n",
       "  'username': 'Moriah.Stanton',\n",
       "  'email': 'Rey.Padberg@karina.biz',\n",
       "  'address': {'street': 'Kattie Turnpike',\n",
       "   'suite': 'Suite 198',\n",
       "   'city': 'Lebsackbury',\n",
       "   'zipcode': '31428-2261',\n",
       "   'geo': {'lat': '-38.2386', 'lng': '57.2232'}},\n",
       "  'phone': '024-648-3804',\n",
       "  'website': 'ambrose.net',\n",
       "  'company': {'name': 'Hoeger LLC',\n",
       "   'catchPhrase': 'Centralized empowering task-force',\n",
       "   'bs': 'target end-to-end models'}}]"
      ]
     },
     "execution_count": 93,
     "metadata": {},
     "output_type": "execute_result"
    }
   ],
   "source": [
    "data=data_dict.json()\n",
    "data"
   ]
  },
  {
   "cell_type": "code",
   "execution_count": 98,
   "id": "621a140e",
   "metadata": {},
   "outputs": [
    {
     "data": {
      "text/plain": [
       "[{'name': 'Leanne Graham',\n",
       "  'email': 'Sincere@april.biz',\n",
       "  'address': {'Gwenborough', 'Kulas Light'}}]"
      ]
     },
     "execution_count": 98,
     "metadata": {},
     "output_type": "execute_result"
    }
   ],
   "source": [
    "fil_data=[ {'name':d['name'],'email':d['email'],'address':{d['address']['city'],d['address']['street']}} for d in data]\n",
    "fil_data[:1]"
   ]
  },
  {
   "cell_type": "code",
   "execution_count": 99,
   "id": "1b43d3b6",
   "metadata": {},
   "outputs": [],
   "source": [
    "\n",
    "for d in data:\n",
    "    fil_data.append({\"name\":d[\"name\"],\"email\":d['email'],\"address\":d['address']})"
   ]
  },
  {
   "cell_type": "code",
   "execution_count": null,
   "id": "e5f4512a",
   "metadata": {},
   "outputs": [],
   "source": []
  }
 ],
 "metadata": {
  "kernelspec": {
   "display_name": "Python 3",
   "language": "python",
   "name": "python3"
  },
  "language_info": {
   "codemirror_mode": {
    "name": "ipython",
    "version": 3
   },
   "file_extension": ".py",
   "mimetype": "text/x-python",
   "name": "python",
   "nbconvert_exporter": "python",
   "pygments_lexer": "ipython3",
   "version": "3.8.20"
  }
 },
 "nbformat": 4,
 "nbformat_minor": 5
}
