{
 "cells": [
  {
   "cell_type": "markdown",
   "metadata": {},
   "source": [
    "<h2 align=\"center\" style=\"color:blue\">Codebasics Python Course: Exercise - Functions, Dict, Tuples, File Handling</h2>"
   ]
  },
  {
   "cell_type": "markdown",
   "metadata": {},
   "source": [
    "Imagine you run a loyalty program where customers earn rewards based on the total amount they have spent. The rewards levels are defined based on the total purchase amount. Based on this scenario, complete the following tasks"
   ]
  },
  {
   "cell_type": "markdown",
   "metadata": {},
   "source": [
    "### Task 1\n",
    "\n",
    "You are given a file called ```customers.txt``` that contains the name of the customer and total amount they spent. Read this file line by line and save the customer name and total amount in a dictionary.\n",
    "\n",
    "For example, customers.txt file will content the data in the following format,\n",
    "```\n",
    "Srinivas,120\n",
    "John,250\n",
    "Maria,150\n",
    "Smith,510\n",
    "Anjali,45\n",
    "```\n",
    "\n",
    "You will read this and build a dictionary like this,\n",
    "```\n",
    "{\n",
    "    \"Srinivas\": 120,\n",
    "    \"John\": 250,\n",
    "    \"Maria\": 150,\n",
    "    \"Smith\": 510,\n",
    "    \"Anjali\": 45\n",
    "}\n",
    "```"
   ]
  },
  {
   "cell_type": "code",
   "execution_count": 6,
   "metadata": {},
   "outputs": [],
   "source": [
    "# write your code here\n",
    "with open(\"customers.txt\",\"w\") as f:\n",
    "    f.writelines(['Srinivas,120\\n','John,250\\n','Maria,150\\n','Smith,510\\n','Anjali,45\\n'])"
   ]
  },
  {
   "cell_type": "code",
   "execution_count": 16,
   "metadata": {},
   "outputs": [],
   "source": [
    "customer_data={}\n",
    "with open(\"customers.txt\",\"r\") as f:\n",
    "    lines=f.readlines()\n",
    "    for line in lines:\n",
    "        customer,amount=line.split(\",\")\n",
    "        amount=int(amount)\n",
    "        if customer in customer_data:\n",
    "         customer_data[customer].append(amount)\n",
    "        else:\n",
    "         customer_data[customer]=amount"
   ]
  },
  {
   "cell_type": "code",
   "execution_count": 21,
   "metadata": {},
   "outputs": [
    {
     "name": "stdout",
     "output_type": "stream",
     "text": [
      "{'Srinivas': 120, 'John': 250, 'Maria': 150, 'Smith': 510, 'Anjali': 45}\n"
     ]
    }
   ],
   "source": [
    "customer_data={}\n",
    "with open(\"customers.txt\",\"r\") as f:\n",
    "    lines=f.readlines()\n",
    "\n",
    "    \n",
    "    for line in lines:\n",
    "        customer,amount=line.split(\",\")\n",
    "        amount=int(amount)\n",
    "        if customer in customer_data:\n",
    "            customer_data[customer].append(amount)\n",
    "        else:\n",
    "            customer_data[customer]=amount\n",
    "print(customer_data)"
   ]
  },
  {
   "cell_type": "code",
   "execution_count": 26,
   "metadata": {},
   "outputs": [],
   "source": [
    "with open(\"customers_1.txt\",\"w\") as f:\n",
    "    f.writelines([\"Srinivas,120\\n\",\"Rampraksh,1230\\n\"])\n",
    "    \n",
    "import os\n",
    "if os.path.exists(\"customers_1.txt\"):\n",
    "    os.remove('customers_1.txt')\n",
    "else:\n",
    "    print(\"path not found\")"
   ]
  },
  {
   "cell_type": "markdown",
   "metadata": {},
   "source": [
    "### Task 2\n",
    "\n",
    "The rewards levels are defined below based on the total purchase amount. Using this define a function called calculate_rewards that takes total as input and returns the reward.\n",
    "\n",
    "```\n",
    "1. Bronze: Total purchases $100-$199\n",
    "1. Silver: Total purchases $200-$499\n",
    "1. Gold: Total purchases $500+\n",
    "```"
   ]
  },
  {
   "cell_type": "code",
   "execution_count": 46,
   "metadata": {},
   "outputs": [],
   "source": [
    "# write your code here\n",
    "def calculate_rewards(purchases):\n",
    "    if 100<=purchases<=199:\n",
    "        print(\"Bronze\")\n",
    "    elif 200<=purchases<=499:\n",
    "        print(\"Silver\")\n",
    "    elif purchases>=500:\n",
    "        print(\"Gold\")\n",
    "    else:\n",
    "        return None\n",
    "\n"
   ]
  },
  {
   "cell_type": "code",
   "execution_count": 47,
   "metadata": {},
   "outputs": [
    {
     "name": "stdout",
     "output_type": "stream",
     "text": [
      "Gold\n"
     ]
    }
   ],
   "source": [
    "calculate_rewards(20000)"
   ]
  },
  {
   "cell_type": "markdown",
   "metadata": {},
   "source": [
    "### Task 3\n",
    "\n",
    "Now for each of the customers in our customers_dict, calculate the rewards and build a customers_summary dictionary that looks like the following, (key is the name of the customer and the value is a tuple containing total amount and rewards level)\n",
    "\n",
    "```\n",
    "{\n",
    "    'Srinivas': (120, 'Bronze'),\n",
    "    'John': (250, 'Silver'),\n",
    "    'Maria': (150, 'Bronze'),\n",
    "    'Smith': (510, 'Gold'),\n",
    "    'Anjali': (45, 'None')\n",
    "}\n",
    "```"
   ]
  },
  {
   "cell_type": "code",
   "execution_count": 77,
   "metadata": {},
   "outputs": [
    {
     "data": {
      "text/plain": [
       "{'Srinivas': 120, 'John': 250, 'Maria': 150, 'Smith': 510, 'Anjali': 45}"
      ]
     },
     "execution_count": 77,
     "metadata": {},
     "output_type": "execute_result"
    }
   ],
   "source": [
    "customer_data"
   ]
  },
  {
   "cell_type": "code",
   "execution_count": 76,
   "metadata": {},
   "outputs": [
    {
     "name": "stdout",
     "output_type": "stream",
     "text": [
      "Bronze\n",
      "Silver\n",
      "Bronze\n",
      "Gold\n"
     ]
    },
    {
     "data": {
      "text/plain": [
       "{'Srinivas': (120, None),\n",
       " 'John': (250, None),\n",
       " 'Maria': (150, None),\n",
       " 'Smith': (510, None),\n",
       " 'Anjali': (45, None)}"
      ]
     },
     "execution_count": 76,
     "metadata": {},
     "output_type": "execute_result"
    }
   ],
   "source": [
    "# write your code here\n",
    "\n",
    "customer_summary={}\n",
    "\n",
    "for customer,amount in customer_data.items():\n",
    "   \n",
    "    customer_summary[customer]=(amount,calculate_rewards(amount))\n",
    "\n",
    "\n",
    "customer_summary"
   ]
  },
  {
   "cell_type": "markdown",
   "metadata": {},
   "source": [
    "### Task 4\n",
    "\n",
    "Now stitch all of the above code together and create a function that takes file name as input and returns the customer_summary dictionary.\n",
    "\n",
    "```\n",
    "def process_customer_data(file_name):\n",
    "    # return customer_summary dict\n",
    "```"
   ]
  },
  {
   "cell_type": "code",
   "execution_count": null,
   "metadata": {},
   "outputs": [],
   "source": [
    "# Function to process customer data from file\n",
    "def process_customer_data(filename):\n",
    "    rewards_data = {}\n",
    "    with open(filename, \"r\") as f:\n",
    "        for line in f:\n",
    "            customer_name, total_amount = line.strip().split(\",\")\n",
    "            total_amount = int(total_amount)\n",
    "            customers_dict[customer_name] = total_amount\n",
    "    \n",
    "    # Categorize customers and prepare the summary\n",
    "    customer_summary = {}\n",
    "    for name, total in customers_dict.items():\n",
    "        rewards_level = calculate_rewards(total)\n",
    "        customer_summary[name] = (total, rewards_level)\n",
    "\n",
    "    return customer_summary\n",
    "\n",
    "process_customer_data(\"customers.txt\")"
   ]
  },
  {
   "cell_type": "code",
   "execution_count": 87,
   "metadata": {},
   "outputs": [],
   "source": [
    "# write your code here\n",
    "def process_customer_data(file_name):\n",
    "    with open(file_name,\"r\") as f:\n",
    "        customer_summary={}\n",
    "        lines=f.readlines()  \n",
    "        for line in lines:\n",
    "            customer,amount=line.strip().split(\",\")\n",
    "            amount=int(amount)\n",
    "            customer_summary[customer]=(amount,calculate_rewards(amount))\n",
    "            \n",
    "        return customer_summary\n",
    "\n"
   ]
  },
  {
   "cell_type": "code",
   "execution_count": 86,
   "metadata": {},
   "outputs": [
    {
     "name": "stdout",
     "output_type": "stream",
     "text": [
      "Bronze\n",
      "Silver\n",
      "Bronze\n",
      "Gold\n"
     ]
    },
    {
     "data": {
      "text/plain": [
       "{'Srinivas': (120, None),\n",
       " 'John': (250, None),\n",
       " 'Maria': (150, None),\n",
       " 'Smith': (510, None),\n",
       " 'Anjali': (45, None)}"
      ]
     },
     "execution_count": 86,
     "metadata": {},
     "output_type": "execute_result"
    }
   ],
   "source": [
    "process_customer_data('customers.txt')"
   ]
  },
  {
   "cell_type": "code",
   "execution_count": null,
   "metadata": {},
   "outputs": [],
   "source": []
  }
 ],
 "metadata": {
  "colab": {
   "collapsed_sections": [],
   "name": "1_Variables.ipynb",
   "provenance": []
  },
  "kernelspec": {
   "display_name": "Python 3",
   "language": "python",
   "name": "python3"
  },
  "language_info": {
   "codemirror_mode": {
    "name": "ipython",
    "version": 3
   },
   "file_extension": ".py",
   "mimetype": "text/x-python",
   "name": "python",
   "nbconvert_exporter": "python",
   "pygments_lexer": "ipython3",
   "version": "3.8.20"
  }
 },
 "nbformat": 4,
 "nbformat_minor": 1
}
