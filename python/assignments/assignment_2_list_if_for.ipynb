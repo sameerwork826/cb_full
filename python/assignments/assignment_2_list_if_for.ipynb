{
 "cells": [
  {
   "cell_type": "markdown",
   "metadata": {},
   "source": [
    "<h2 align=\"center\" style=\"color:blue\">Codebasics Python Course: Exercise - List, If Condition, For Loop</h2>"
   ]
  },
  {
   "cell_type": "markdown",
   "metadata": {},
   "source": [
    "### Task 1\n",
    "\n",
    "1. You are a Marvel fan and created a list of superheroes.\n",
    "\n",
    "```py\n",
    "avengers  = [‘Iron Man’, ‘Captain America’, ‘Black Widow’, ‘Hulk’, ‘Thor’, ‘Hawkeye’]\n",
    "```\n",
    "\n",
    "Using this list, calculate how many members in the Avengers team?\n",
    "\n"
   ]
  },
  {
   "cell_type": "code",
   "execution_count": 15,
   "metadata": {},
   "outputs": [],
   "source": [
    "avengers  = ['Iron Man', 'Captain America', 'Black Widow', 'Hulk', 'Thor', 'Hawkeye']"
   ]
  },
  {
   "cell_type": "code",
   "execution_count": 5,
   "metadata": {},
   "outputs": [
    {
     "name": "stdout",
     "output_type": "stream",
     "text": [
      "6\n"
     ]
    }
   ],
   "source": [
    "# write your code here to print total number of members in avengers team\n",
    "\n",
    "total_no_of_avengers=len(avengers)\n",
    "print(total_no_of_avengers)"
   ]
  },
  {
   "cell_type": "markdown",
   "metadata": {},
   "source": [
    "### Task 2\n",
    "\n",
    "Awesome. Now Iron Man made Spider-Man a new member of the Avengers, add him to your list at the end"
   ]
  },
  {
   "cell_type": "code",
   "execution_count": 9,
   "metadata": {},
   "outputs": [
    {
     "data": {
      "text/plain": [
       "['Iron Man',\n",
       " 'Captain America',\n",
       " 'Black Widow',\n",
       " 'Hulk',\n",
       " 'Thor',\n",
       " 'Hawkeye',\n",
       " 'spiderman']"
      ]
     },
     "execution_count": 9,
     "metadata": {},
     "output_type": "execute_result"
    }
   ],
   "source": [
    "avengers"
   ]
  },
  {
   "cell_type": "markdown",
   "metadata": {},
   "source": [
    "### Task 3\n",
    "\n",
    "Looks like you are loving this avengers exercise already😄, Let's add a twist to it. Everyone came to a conclusion that Captain America is the leader of the Avengers, so please add him before the Iron Man. Hint: You can first remove him from the list and add before the Iron Man. To remove him you can use a method called .pop()\n",
    "\n",
    "💡 Feel free to take help of ChatGPT just in case you are confused about pop() method. Remember becoming a good Python programmer is all about how well you can learn new things on your own"
   ]
  },
  {
   "cell_type": "code",
   "execution_count": 17,
   "metadata": {},
   "outputs": [
    {
     "data": {
      "text/plain": [
       "['Captain America', 'Iron Man', 'Black Widow', 'Hulk', 'Thor', 'Hawkeye']"
      ]
     },
     "execution_count": 17,
     "metadata": {},
     "output_type": "execute_result"
    }
   ],
   "source": [
    "# write your code here\n",
    "avengers.insert(1,\"Iron Man\")\n",
    "avengers"
   ]
  },
  {
   "cell_type": "markdown",
   "metadata": {},
   "source": [
    "### Task 4\n",
    "\n",
    "Thor and Hulk are getting angry easily and fight with each other. So you have to separate them with each other. To separate them, move “Black Widow” in between them."
   ]
  },
  {
   "cell_type": "code",
   "execution_count": 20,
   "metadata": {},
   "outputs": [
    {
     "data": {
      "text/plain": [
       "['Captain America', 'Iron Man', 'Hulk', 'Black Widow', 'Thor', 'Hawkeye']"
      ]
     },
     "execution_count": 20,
     "metadata": {},
     "output_type": "execute_result"
    }
   ],
   "source": [
    "# write your code here\n",
    "avengers.insert(3,\"Black Widow\")\n",
    "avengers\n"
   ]
  },
  {
   "cell_type": "markdown",
   "metadata": {
    "id": "QAGsAcQXOm1c"
   },
   "source": [
    "### Task 5\n",
    "\n",
    "Below list contains scores of students in a class as per their roll number. Which means the first element is for roll # 1, second one is for roll # 2 and so on. Print the scores of,\n",
    "\n",
    "1. The first student\n",
    "1. The last student\n",
    "1. First 3 students\n",
    "1. Scores of roll # 3, 4 and 5"
   ]
  },
  {
   "cell_type": "code",
   "execution_count": 35,
   "metadata": {
    "id": "5DbTb-5gOecw"
   },
   "outputs": [],
   "source": [
    "scores = [92, 85, 76, 58, 89, 91, 73, 84]"
   ]
  },
  {
   "cell_type": "code",
   "execution_count": 26,
   "metadata": {
    "colab": {
     "base_uri": "https://localhost:8080/"
    },
    "id": "lhYIkj4WPNA_",
    "outputId": "714b44ae-e309-45d2-c29d-6617cbecc508"
   },
   "outputs": [
    {
     "name": "stdout",
     "output_type": "stream",
     "text": [
      "the score of first student is 92\n",
      "the score of last student is 58\n"
     ]
    }
   ],
   "source": [
    "# score of the first student\n",
    "scores.sort()\n",
    "first_student_score=scores[len(scores)-1]\n",
    "last_student_score=scores[0]\n",
    "\n",
    "print(f\"the score of first student is {first_student_score}\")\n",
    "\n"
   ]
  },
  {
   "cell_type": "code",
   "execution_count": 27,
   "metadata": {
    "colab": {
     "base_uri": "https://localhost:8080/"
    },
    "id": "VzxH3ly_POxS",
    "outputId": "e5723459-a55a-4e24-93fc-5afe1a99ca60"
   },
   "outputs": [
    {
     "name": "stdout",
     "output_type": "stream",
     "text": [
      "the score of last student is 58\n"
     ]
    }
   ],
   "source": [
    "# score of the last student\n",
    "print(f\"the score of last student is {last_student_score}\")"
   ]
  },
  {
   "cell_type": "code",
   "execution_count": 31,
   "metadata": {},
   "outputs": [
    {
     "data": {
      "text/plain": [
       "[92, 91, 89, 85, 84, 76, 73, 58]"
      ]
     },
     "execution_count": 31,
     "metadata": {},
     "output_type": "execute_result"
    }
   ],
   "source": [
    "scores.reverse()\n",
    "scores"
   ]
  },
  {
   "cell_type": "code",
   "execution_count": 34,
   "metadata": {},
   "outputs": [
    {
     "data": {
      "text/plain": [
       "[92, 91, 89]"
      ]
     },
     "execution_count": 34,
     "metadata": {},
     "output_type": "execute_result"
    }
   ],
   "source": [
    "# scores of the first 3 students\n",
    "first_3_score=scores[:3]\n",
    "first_3_score"
   ]
  },
  {
   "cell_type": "code",
   "execution_count": 37,
   "metadata": {
    "scrolled": true
   },
   "outputs": [
    {
     "name": "stdout",
     "output_type": "stream",
     "text": [
      "the score of roll no 3 is 58\n",
      "the score of roll no 4 is 89\n",
      "the score of roll no 5 is 91\n"
     ]
    }
   ],
   "source": [
    "# scores of roll # 3, 4 and 5\n",
    "for i in range(len(scores)):\n",
    "    if(i>=3 and i<=5):\n",
    "        print(f\"the score of roll no {i} is {scores[i]}\")"
   ]
  },
  {
   "cell_type": "markdown",
   "metadata": {},
   "source": [
    "### Task 6\n",
    "\n",
    "We got a result of one more student which is 83 marks. Append this to the ```scores``` at the end and print the list"
   ]
  },
  {
   "cell_type": "code",
   "execution_count": 38,
   "metadata": {
    "colab": {
     "base_uri": "https://localhost:8080/",
     "height": 130
    },
    "id": "qHskWLeFPUSa",
    "outputId": "45d183f1-a28a-4e80-aee3-90d984dbbfae"
   },
   "outputs": [
    {
     "data": {
      "text/plain": [
       "[92, 85, 76, 58, 89, 91, 73, 84, 83]"
      ]
     },
     "execution_count": 38,
     "metadata": {},
     "output_type": "execute_result"
    }
   ],
   "source": [
    "# write your code here\n",
    "scores.append(83)\n",
    "scores"
   ]
  },
  {
   "cell_type": "markdown",
   "metadata": {},
   "source": [
    "### Task 7\n",
    "\n",
    "Categorizes each score into a grade based on the following thresholds:\n",
    "\n",
    "1. A: 90 to 100\n",
    "1. B: 80 to 89\n",
    "1. C: 70 to 79\n",
    "1. D: 60 to 69\n",
    "1. F: Below 60\n",
    "\n",
    "Count the number of students in each grade category and print the summary of how many students received each grade. \n",
    "\n",
    "Expected output\n",
    "\n",
    "```\n",
    "Grade Summary:\n",
    "- A: 2 students\n",
    "- B: 4 students\n",
    "- C: 2 students\n",
    "- D: 0 students\n",
    "- F: 1 students\n",
    "```"
   ]
  },
  {
   "cell_type": "code",
   "execution_count": 41,
   "metadata": {
    "id": "h-7Ro-oVQDVB"
   },
   "outputs": [
    {
     "name": "stdout",
     "output_type": "stream",
     "text": [
      "the count of A:2\n",
      "the count of B:4\n",
      "the count of C:2\n",
      "the count of D:0\n",
      "the count of F:1\n"
     ]
    }
   ],
   "source": [
    "# write your code here\n",
    "count_a=0\n",
    "count_b=0\n",
    "count_c=0\n",
    "count_d=0\n",
    "count_f=0\n",
    "\n",
    "for score in scores:\n",
    "    if(score>=90 and score<100):\n",
    "        count_a+=1\n",
    "    elif(score>=80 and score<=89):\n",
    "        count_b+=1\n",
    "    elif(score>=70 and score<79):\n",
    "        count_c+=1\n",
    "    elif(score>=60 and score<69):\n",
    "        count_d+=1\n",
    "    else:\n",
    "        count_f+=1\n",
    "        \n",
    "print(f\"the count of A:{count_a}\")\n",
    "print(f\"the count of B:{count_b}\")\n",
    "print(f\"the count of C:{count_c}\")\n",
    "print(f\"the count of D:{count_d}\")\n",
    "print(f\"the count of F:{count_f}\")\n",
    "\n"
   ]
  },
  {
   "cell_type": "markdown",
   "metadata": {},
   "source": [
    "### Task 8\n",
    "\n",
    "Managing inventory efficiently is crucial for businesses to ensure they do not run out of key products. This exercise simulates a simple inventory management system where the user can see which items are below the minimum stock level and need reordering. Below you have two lists that stores product names and their inventory stock levels.Using that,\n",
    "\n",
    "1. Check each item to see if its stock level is below a minimum threshold.\n",
    "1. If the stock level is below the minimum, add the product's name to a reorder list.\n",
    "1. Print a list of products that need to be reordered.\n",
    "\n",
    "Expected Output\n",
    "```\n",
    "Items to Reorder:\n",
    "- Pears\n",
    "- Grapes\n",
    "```"
   ]
  },
  {
   "cell_type": "code",
   "execution_count": 43,
   "metadata": {
    "scrolled": true
   },
   "outputs": [],
   "source": [
    "# Lists to store product names and stock levels\n",
    "product_names = [\"Apples\", \"Bananas\", \"Oranges\", \"Pears\", \"Grapes\"]\n",
    "stock_levels = [20, 50, 15, 5, 8]\n",
    "\n",
    "minimum_stock = 10  # Minimum stock before reordering"
   ]
  },
  {
   "cell_type": "code",
   "execution_count": 46,
   "metadata": {},
   "outputs": [
    {
     "data": {
      "text/plain": [
       "['Pears', 'Grapes']"
      ]
     },
     "execution_count": 46,
     "metadata": {},
     "output_type": "execute_result"
    }
   ],
   "source": [
    "# write your code here\n",
    "items_to_reorder=[]\n",
    "for product_name,stock_level in zip(product_names,stock_levels):\n",
    "    if(stock_level<minimum_stock):\n",
    "        items_to_reorder.append(product_name)\n",
    "\n",
    "\n",
    "items_to_reorder"
   ]
  },
  {
   "cell_type": "code",
   "execution_count": 52,
   "metadata": {},
   "outputs": [
    {
     "name": "stdout",
     "output_type": "stream",
     "text": [
      "Items to Reorder:\n",
      "- Pears\n",
      "- Grapes\n"
     ]
    }
   ],
   "source": [
    "print(f\"Items to Reorder:\\n- {items_to_reorder[0]}\\n- {items_to_reorder[1]}\")"
   ]
  },
  {
   "cell_type": "code",
   "execution_count": null,
   "metadata": {},
   "outputs": [],
   "source": []
  }
 ],
 "metadata": {
  "colab": {
   "collapsed_sections": [],
   "name": "1_Variables.ipynb",
   "provenance": []
  },
  "kernelspec": {
   "display_name": "Python 3",
   "language": "python",
   "name": "python3"
  },
  "language_info": {
   "codemirror_mode": {
    "name": "ipython",
    "version": 3
   },
   "file_extension": ".py",
   "mimetype": "text/x-python",
   "name": "python",
   "nbconvert_exporter": "python",
   "pygments_lexer": "ipython3",
   "version": "3.8.20"
  }
 },
 "nbformat": 4,
 "nbformat_minor": 1
}
