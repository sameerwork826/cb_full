{
 "cells": [
  {
   "cell_type": "markdown",
   "id": "8db972a9",
   "metadata": {},
   "source": [
    "<h2 align=\"center\" style=\"color:blue\">Codebasics Python Course: Exercise - JSON, Generators, Decorators</h2>"
   ]
  },
  {
   "cell_type": "markdown",
   "id": "19e6c089-394e-4180-80c9-95e8aa647171",
   "metadata": {},
   "source": [
    "**Loki** appreciates and conveys thank you for the help you provided with his previous ad-hoc tasks.\n",
    "\n",
    "As you've handled things well, he has some slightly more advanced ad-hoc tasks for you below.\n",
    "\n",
    "Have fun working on them! 😜"
   ]
  },
  {
   "cell_type": "markdown",
   "id": "95ff4e7d",
   "metadata": {},
   "source": [
    "### Task 1: Client Sales Data\n",
    "\n",
    "**Scenario:**  One of the Python developers, who was handling a retail client, went on vacation. However, the client has an urgent requirement to understand their sales data. Loki reached out to you for help with this. The sales records are stored in JSON format, detailing products, quantities sold, and sales categories.\n",
    "\n",
    "\n",
    "1. Load sales data from ```sales_data.json``` into a dictionary.\n",
    "\n",
    "   \n",
    "This task helps you provide actionable business insights from raw sales data."
   ]
  },
  {
   "cell_type": "code",
   "execution_count": 5,
   "id": "6948e41e",
   "metadata": {},
   "outputs": [],
   "source": [
    "import json\n"
   ]
  },
  {
   "cell_type": "code",
   "execution_count": 6,
   "id": "58c1c79a",
   "metadata": {},
   "outputs": [
    {
     "data": {
      "text/plain": [
       "[{'product': 'Laptop',\n",
       "  'category': 'Electronics',\n",
       "  'quantity': 15,\n",
       "  'price_per_unit': 1200},\n",
       " {'product': 'Jeans',\n",
       "  'category': 'Apparel',\n",
       "  'quantity': 40,\n",
       "  'price_per_unit': 50},\n",
       " {'product': 'Blender',\n",
       "  'category': 'Home Appliances',\n",
       "  'quantity': 25,\n",
       "  'price_per_unit': 150},\n",
       " {'product': 'Smartphone',\n",
       "  'category': 'Electronics',\n",
       "  'quantity': 30,\n",
       "  'price_per_unit': 800},\n",
       " {'product': 'Jacket',\n",
       "  'category': 'Apparel',\n",
       "  'quantity': 20,\n",
       "  'price_per_unit': 120}]"
      ]
     },
     "execution_count": 6,
     "metadata": {},
     "output_type": "execute_result"
    }
   ],
   "source": [
    "\n",
    "sales_data=[]\n",
    "\n",
    "# write your code here\n",
    "with open(\"sales_data.json\",\"r\") as f:\n",
    "    data=json.load(f)\n",
    "    \n",
    "data"
   ]
  },
  {
   "cell_type": "markdown",
   "id": "a8a49eba",
   "metadata": {},
   "source": [
    "### Task 2: Calculate and Display Total Sales by Category\n",
    "\n",
    "**Scenario:** Continuing your role, after successfully loading and organizing the sales data from a retail client, your next step is to provide a breakdown of total sales per category.\n",
    "\n",
    "1. Aggregate this data by product category to calculate total sales per category.\n",
    "2. Print the results, showing the total sales for each product category."
   ]
  },
  {
   "cell_type": "code",
   "execution_count": 21,
   "id": "cec25c2c",
   "metadata": {},
   "outputs": [],
   "source": [
    "category_sales={}\n",
    "\n",
    "for items in data:\n",
    "    category=items['category']\n",
    "    sale=items['price_per_unit']*items['quantity']\n",
    "    \n",
    "    if category in category_sales:\n",
    "        category_sales[category]+=sale\n",
    "    else:\n",
    "        category_sales[category]=sale"
   ]
  },
  {
   "cell_type": "code",
   "execution_count": 22,
   "id": "ade25a57",
   "metadata": {},
   "outputs": [
    {
     "data": {
      "text/plain": [
       "{'Electronics': 42000, 'Apparel': 4400, 'Home Appliances': 3750}"
      ]
     },
     "execution_count": 22,
     "metadata": {},
     "output_type": "execute_result"
    }
   ],
   "source": [
    "category_sales"
   ]
  },
  {
   "cell_type": "code",
   "execution_count": 30,
   "id": "c259f1bb",
   "metadata": {},
   "outputs": [],
   "source": [
    "category_sales_format=[{\"Category\":category ,\"total_sales\":sales}  for category,sales in category_sales.items()]"
   ]
  },
  {
   "cell_type": "code",
   "execution_count": 31,
   "metadata": {},
   "outputs": [
    {
     "data": {
      "text/plain": [
       "[{'Category': 'Electronics', 'total_sales': 42000},\n",
       " {'Category': 'Apparel', 'total_sales': 4400},\n",
       " {'Category': 'Home Appliances', 'total_sales': 3750}]"
      ]
     },
     "execution_count": 31,
     "metadata": {},
     "output_type": "execute_result"
    }
   ],
   "source": [
    "category_sales_format"
   ]
  },
  {
   "cell_type": "markdown",
   "id": "4edb28b4",
   "metadata": {},
   "source": [
    "### Task 3: Output Aggregated Sales Data to JSON File\n",
    "\n",
    "**Scenario:** Building on your previous work, where you calculated total sales by category, your client now requires this information in a structured digital format for integration into their business systems.\n",
    "\n",
    "1. Generate a JSON file named ```aggregated_sales.json``` containing the total sales data by category.\n",
    "2. Ensure the data is formatted as a list of dictionaries, each representing a category and its corresponding total sales.\n",
    "   \n",
    "**Expected JSON Output Format:**\n",
    "\n",
    "```\n",
    "[\n",
    "    {\n",
    "        \"category\": \"Electronics\",\n",
    "        \"total_sales\": 42000\n",
    "    },\n",
    "    {\n",
    "        \"category\": \"Apparel\",\n",
    "        \"total_sales\": 4400\n",
    "    },\n",
    "    {\n",
    "        \"category\": \"Home Appliances\",\n",
    "        \"total_sales\": 3750\n",
    "    }\n",
    "]\n",
    "```"
   ]
  },
  {
   "cell_type": "code",
   "execution_count": 34,
   "id": "1a000254",
   "metadata": {},
   "outputs": [],
   "source": [
    "# write your code here\n",
    "with open(\"aggregated_sales.json\",\"w\") as f:\n",
    "    \n",
    "    json.dump(category_sales_format,f,indent=4)\n",
    "    "
   ]
  },
  {
   "cell_type": "code",
   "execution_count": null,
   "id": "85393074",
   "metadata": {},
   "outputs": [],
   "source": [
    "json_string_file= '''\n",
    "\n",
    "[\n",
    "    {\n",
    "        \"Category\": \"Electronics\",\n",
    "        \"total_sales\": 42000\n",
    "    },\n",
    "    {\n",
    "        \"Category\": \"Apparel\",\n",
    "        \"total_sales\": 4400\n",
    "    },\n",
    "    {\n",
    "        \"Category\": \"Home Appliances\",\n",
    "        \"total_sales\": 3750\n",
    "    }\n",
    "]\n",
    "\n",
    "'''"
   ]
  },
  {
   "cell_type": "markdown",
   "id": "fcada7bc",
   "metadata": {},
   "source": [
    "### Task 4: Monitor and Filter Temperature Readings\n",
    "\n",
    "**Scenario:** At **AtliQ**, your next ad-hoc task involves monitoring equipment sensor data to promptly identify any readings that suggest potential overheating. The sensor data file ```sensor_data.txt``` is so HUGE that you can't read it all at once (For this exercise we have given a small file but just assume that in real life such a file will be pretty HUGE).\n",
    "\n",
    "**Objective:** Develop a Python program with a generator function `read_and_filter_temperatures` that efficiently processes this large dataset by:\n",
    "\n",
    "1. Taking two parameters: ```filename``` (the name of the sensor data file) and ```threshold``` (the temperature limit that indicates overheating).\n",
    "2. Yielding temperatures that exceed the specified threshold.\n",
    "3. Printing each critical temperature reading as it's identified to allow immediate action."
   ]
  },
  {
   "cell_type": "code",
   "execution_count": 40,
   "id": "870dadf1",
   "metadata": {},
   "outputs": [
    {
     "name": "stdout",
     "output_type": "stream",
     "text": [
      "the filterd temperature above 20 are\n",
      "21.8 degree celcius\n",
      "22.5 degree celcius\n",
      "24.1 degree celcius\n"
     ]
    }
   ],
   "source": [
    "def read_and_filter_temperatures(filename,threshold):\n",
    "    with open(filename,\"r\") as f:\n",
    "        for line in f:\n",
    "            parts=line.strip().split(\",\")\n",
    "            temp=float(parts[1])\n",
    "            if temp>threshold:\n",
    "                yield temp\n",
    "                \n",
    "\n",
    "filename='sensor_data.txt'\n",
    "threshold=20\n",
    "\n",
    "filterd_temp=read_and_filter_temperatures(filename,threshold)\n",
    "\n",
    "\n",
    "print(f\"the filterd temperature above {threshold} are\")\n",
    "\n",
    "for t in filterd_temp:\n",
    "    print(f\"{t} degree celcius\") \n"
   ]
  },
  {
   "cell_type": "code",
   "execution_count": 39,
   "id": "4bf6fab6",
   "metadata": {},
   "outputs": [
    {
     "name": "stdout",
     "output_type": "stream",
     "text": [
      "Filtered Temperatures (Above 20.0°C):\n",
      "21.8°C\n",
      "22.5°C\n",
      "24.1°C\n"
     ]
    }
   ],
   "source": [
    "def read_and_filter_temperatures(filename, threshold):\n",
    "    \"\"\"Generator function to read and filter temperatures from a file.\"\"\"\n",
    "    with open(filename, 'r') as file:\n",
    "        for line in file:\n",
    "            parts = line.strip().split(',')\n",
    "            temp = float(parts[1])\n",
    "            if temp > threshold:\n",
    "                yield temp\n",
    "\n",
    "# Usage of the generator\n",
    "filename = 'sensor_data.txt'\n",
    "threshold = 20.0\n",
    "filtered_temperatures = read_and_filter_temperatures(filename, threshold)\n",
    "\n",
    "# Print the filtered temperatures\n",
    "print(\"Filtered Temperatures (Above 20.0°C):\")\n",
    "for temperature in filtered_temperatures:\n",
    "    print(f\"{temperature}°C\")"
   ]
  },
  {
   "cell_type": "markdown",
   "id": "a1e66533",
   "metadata": {},
   "source": [
    "### Task 5: Optimize API Usage with Caching for Client Financial Data Retrieval\n",
    "\n",
    "At AtliQ, you have been assigned to work on a new ad-hoc task for a client project involving a FINTECH company. Your task is to retrieve the company name based on the company's ticker. For example, for the ticker \"AAPL\", the company name will be \"Apple Inc.\". \n",
    "\n",
    "You are using the Bloomberg API for this, and each API call costs money. To reduce expenses, you want to implement a caching function using a decorator so that if a company name has previously been retrieved, it will be fetched from the cache; otherwise, an API call will be made. We don't have an actual API for this exercise, but we've provided you with a function called `get_company_name`, for which you can assume that every call incurs a cost, and your goal is to minimize the number of calls.\n",
    "\n",
    "You will write a decorator,\n",
    "\n",
    "```\n",
    "def cache_decorator(func):\n",
    "```\n",
    "\n",
    "And annotate the main function\n",
    "```\n",
    "@cache_decorator\n",
    "def get_company_name(ticker):\n",
    "```"
   ]
  },
  {
   "cell_type": "code",
   "execution_count": 41,
   "id": "168dcaf0",
   "metadata": {},
   "outputs": [],
   "source": [
    "def get_company_name(ticker):\n",
    "    \"\"\"Simulated API function to fetch a company name based on the ticker symbol.\"\"\"\n",
    "    # Simulate different responses based on the ticker symbol\n",
    "    api_responses = {\n",
    "        \"AAPL\": \"Apple Inc.\",\n",
    "        \"MSFT\": \"Microsoft Corporation\",\n",
    "        \"GOOGL\": \"Alphabet Inc.\"\n",
    "    }\n",
    "    return api_responses.get(ticker, \"Unknown Company\")"
   ]
  },
  {
   "cell_type": "code",
   "execution_count": null,
   "id": "e3211d28",
   "metadata": {},
   "outputs": [],
   "source": [
    "def timer_decorator(func):\n",
    "    def wrapper(*args,**kwargs):\n",
    "        start=time.time()\n",
    "        result=func(*args,**kwargs)\n",
    "        end=time.time()\n",
    "        print(f\"Time taken: {end-start} seconds\")\n",
    "        return result\n",
    "    return wrapper"
   ]
  },
  {
   "cell_type": "code",
   "execution_count": 42,
   "id": "7ee2dedc-9044-4e62-8353-c6458efdd92d",
   "metadata": {},
   "outputs": [
    {
     "name": "stdout",
     "output_type": "stream",
     "text": [
      "API call for AAPL\n",
      "Apple Inc.\n",
      "Cache hit for AAPL\n",
      "Apple Inc.\n",
      "API call for MSFT\n",
      "Microsoft Corporation\n",
      "Cache hit for MSFT\n",
      "Microsoft Corporation\n",
      "API call for GOOGL\n",
      "Alphabet Inc.\n",
      "Cache hit for GOOGL\n",
      "Alphabet Inc.\n"
     ]
    }
   ],
   "source": [
    "def cache_decorator(func):\n",
    "    \"\"\"Decorator to cache API call results.\"\"\"\n",
    "    cache = {}\n",
    "    def wrapper(ticker):\n",
    "        if ticker in cache:\n",
    "            print(f\"Cache hit for {ticker}\")\n",
    "            return cache[ticker]\n",
    "        else:\n",
    "            print(f\"API call for {ticker}\")\n",
    "            result = func(ticker)\n",
    "            cache[ticker] = result\n",
    "            return result\n",
    "    return wrapper\n",
    "\n",
    "@cache_decorator\n",
    "def get_company_name(ticker):\n",
    "    \"\"\"Simulated API function to fetch a company name based on the ticker symbol.\"\"\"\n",
    "    # Simulate different responses based on the ticker symbol\n",
    "    api_responses = {\n",
    "        \"AAPL\": \"Apple Inc.\",\n",
    "        \"MSFT\": \"Microsoft Corporation\",\n",
    "        \"GOOGL\": \"Alphabet Inc.\"\n",
    "    }\n",
    "    return api_responses.get(ticker, \"Unknown Company\")\n",
    "\n",
    "# Test the decorated function\n",
    "print(get_company_name(\"AAPL\"))  # Expected to trigger an API call\n",
    "print(get_company_name(\"AAPL\"))  # Expected to use cached data\n",
    "print(get_company_name(\"MSFT\"))  # Expected to trigger an API call\n",
    "print(get_company_name(\"MSFT\"))  # Expected to use cached data\n",
    "print(get_company_name(\"GOOGL\"))  # Expected to trigger an API call\n",
    "print(get_company_name(\"GOOGL\"))  # Expected to use cached data"
   ]
  },
  {
   "cell_type": "code",
   "execution_count": null,
   "id": "d3720937",
   "metadata": {},
   "outputs": [],
   "source": []
  },
  {
   "cell_type": "code",
   "execution_count": null,
   "id": "8fd380d4",
   "metadata": {},
   "outputs": [],
   "source": []
  }
 ],
 "metadata": {
  "kernelspec": {
   "display_name": "Python 3",
   "language": "python",
   "name": "python3"
  },
  "language_info": {
   "codemirror_mode": {
    "name": "ipython",
    "version": 3
   },
   "file_extension": ".py",
   "mimetype": "text/x-python",
   "name": "python",
   "nbconvert_exporter": "python",
   "pygments_lexer": "ipython3",
   "version": "3.8.20"
  }
 },
 "nbformat": 4,
 "nbformat_minor": 5
}
