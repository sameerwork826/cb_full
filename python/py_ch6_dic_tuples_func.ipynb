{
 "cells": [
  {
   "cell_type": "code",
   "execution_count": 1,
   "metadata": {},
   "outputs": [],
   "source": [
    "expenses_sam=[30,40,50]\n",
    "expenses_tom=[40,50,60]\n"
   ]
  },
  {
   "cell_type": "code",
   "execution_count": 2,
   "metadata": {},
   "outputs": [
    {
     "name": "stdout",
     "output_type": "stream",
     "text": [
      "120\n"
     ]
    }
   ],
   "source": [
    "total_expenses_sam=0\n",
    "\n",
    "for expense in expenses_sam:\n",
    "    total_expenses_sam+=expense\n",
    "print(total_expenses_sam)\n",
    "\n"
   ]
  },
  {
   "cell_type": "code",
   "execution_count": 4,
   "metadata": {},
   "outputs": [
    {
     "name": "stdout",
     "output_type": "stream",
     "text": [
      "150\n"
     ]
    }
   ],
   "source": [
    "total_expenses_tom=0\n",
    "\n",
    "for expense in expenses_tom:\n",
    "    total_expenses_tom+=expense\n",
    "    \n",
    "print(total_expenses_tom)\n"
   ]
  },
  {
   "cell_type": "code",
   "execution_count": null,
   "metadata": {},
   "outputs": [],
   "source": [
    "def find_total_expenses(expenses):\n",
    "    total=0\n",
    "    for expense in expenses:\n",
    "        total+=expense\n",
    "    return total\n",
    "\n",
    "# Functions in Python\n",
    "# A function is a reusable block of code that performs a specific task\n",
    "# It helps avoid code repetition and makes code more organized\n",
    "\n",
    "# Example 1: Simple function with no parameters\n",
    "def greet():\n",
    "    print(\"Hello! Welcome to Python functions\")\n",
    "\n",
    "greet()  # Calling the function\n",
    "\n",
    "# Example 2: Function with parameters\n",
    "def greet_person(name):\n",
    "    print(f\"Hello {name}!\")\n",
    "\n",
    "greet_person(\"Sam\")  # Output: Hello Sam!\n",
    "\n",
    "# Example 3: Function with return value\n",
    "def square(number):\n",
    "    return number * number\n",
    "\n",
    "result = square(5)  # result = 25\n",
    "\n",
    "# Example 4: Function with multiple parameters\n",
    "def add_numbers(a, b):\n",
    "    return a + b\n",
    "\n",
    "sum_result = add_numbers(10, 20)  # sum_result = 30\n",
    "\n",
    "# Example 5: Function with default parameters\n",
    "def power(base, exponent=2):  # exponent defaults to 2 if not provided\n",
    "    return base ** exponent\n",
    "\n",
    "print(power(3))     # Output: 9 (3^2)\n",
    "print(power(3, 3))  # Output: 27 (3^3)\n",
    "\n",
    "# Like our find_total_expenses() function above,\n",
    "# functions help us avoid repeating code and make our program more efficient\n",
    "\n",
    "\n"
   ]
  },
  {
   "cell_type": "code",
   "execution_count": 7,
   "metadata": {},
   "outputs": [
    {
     "name": "stdout",
     "output_type": "stream",
     "text": [
      "120\n",
      "150\n"
     ]
    }
   ],
   "source": [
    "total_expenses_sam=find_total_expenses(expenses_sam)\n",
    "total_expenses_tom=find_total_expenses(expenses_tom)\n",
    "\n",
    "print(total_expenses_sam)\n",
    "print(total_expenses_tom)\n"
   ]
  },
  {
   "cell_type": "code",
   "execution_count": 13,
   "metadata": {},
   "outputs": [
    {
     "name": "stdout",
     "output_type": "stream",
     "text": [
      "157.0\n"
     ]
    }
   ],
   "source": [
    "def vol_of_circle(radius,height=7):\n",
    "    return 3.14*radius**2*height\n",
    "\n",
    "vol=vol_of_circle(5,2)\n",
    "print(vol)\n"
   ]
  },
  {
   "cell_type": "code",
   "execution_count": 14,
   "metadata": {},
   "outputs": [
    {
     "name": "stdout",
     "output_type": "stream",
     "text": [
      "15\n"
     ]
    }
   ],
   "source": [
    "def sum_all(*args):\n",
    "    total=0\n",
    "    \n",
    "    for num in args:\n",
    "        total+=num\n",
    "    return total\n",
    "\n",
    "total=sum_all(1,2,3,4,5)\n",
    "print(total)\n"
   ]
  },
  {
   "cell_type": "code",
   "execution_count": 19,
   "metadata": {},
   "outputs": [
    {
     "name": "stdout",
     "output_type": "stream",
     "text": [
      "ticker AAPL\n",
      "price 150\n",
      "location California\n",
      "8\n"
     ]
    }
   ],
   "source": [
    "def company_info(**kwargs):\n",
    "    for key in kwargs:\n",
    "        print(key,kwargs[key])\n",
    "\n",
    "\n",
    "company_info(ticker='AAPL',price=150,location='California')\n",
    "\n",
    "\n",
    "def find_square(a):\n",
    "    return a*a\n",
    "\n",
    "\n",
    "\n",
    "x=lambda a,b: a+b\n",
    "        \n",
    "print(x(5,3))"
   ]
  },
  {
   "cell_type": "code",
   "execution_count": 20,
   "metadata": {},
   "outputs": [
    {
     "name": "stdout",
     "output_type": "stream",
     "text": [
      "120\n"
     ]
    }
   ],
   "source": [
    "expenses_sam=[30,40,50]\n",
    "\n",
    "total_expenses=sum(expenses_sam)\n",
    "\n",
    "print(total_expenses)\n"
   ]
  },
  {
   "cell_type": "code",
   "execution_count": 21,
   "metadata": {},
   "outputs": [],
   "source": [
    "import math"
   ]
  },
  {
   "cell_type": "code",
   "execution_count": 24,
   "metadata": {},
   "outputs": [],
   "source": [
    "math.sqrt(16)\n",
    "\n",
    "def of():\n",
    "    pass\n",
    "\n"
   ]
  },
  {
   "cell_type": "code",
   "execution_count": 25,
   "metadata": {},
   "outputs": [],
   "source": [
    "#tuples are indexed\n",
    "#tuples are iterable\n",
    "#tuples are heterogeneous\n",
    "#tuples are immutable\n",
    "#tuples are ordered\n",
    "#tuples are indexed\n"
   ]
  },
  {
   "cell_type": "code",
   "execution_count": 27,
   "metadata": {},
   "outputs": [
    {
     "data": {
      "text/plain": [
       "5"
      ]
     },
     "execution_count": 27,
     "metadata": {},
     "output_type": "execute_result"
    }
   ],
   "source": [
    "point=(5,6)\n",
    "point[0]"
   ]
  },
  {
   "cell_type": "code",
   "execution_count": 33,
   "metadata": {},
   "outputs": [
    {
     "data": {
      "text/plain": [
       "tuple"
      ]
     },
     "execution_count": 33,
     "metadata": {},
     "output_type": "execute_result"
    }
   ],
   "source": [
    "type(point)\n"
   ]
  },
  {
   "cell_type": "code",
   "execution_count": 34,
   "metadata": {},
   "outputs": [],
   "source": [
    "point_3d=(5,8,10)"
   ]
  },
  {
   "cell_type": "code",
   "execution_count": 35,
   "metadata": {},
   "outputs": [
    {
     "name": "stdout",
     "output_type": "stream",
     "text": [
      "10.0 2.0\n"
     ]
    }
   ],
   "source": [
    "def find_pe_and_pb(price,eps,book_value):\n",
    "    pe=price/eps\n",
    "    pb=price/book_value\n",
    "    return pe,pb\n",
    "\n",
    "pe,pb=find_pe_and_pb(100,10,50)\n",
    "print(pe,pb)"
   ]
  },
  {
   "cell_type": "code",
   "execution_count": 36,
   "metadata": {},
   "outputs": [],
   "source": [
    "#dictonaries are indexed    \n",
    "#dictonaries are iterable\n",
    "#dictonaries are heterogeneous\n",
    "#dictonaries are mutable\n",
    "#dictonaries are ordered\n",
    "#dictonaries are indexed"
   ]
  },
  {
   "cell_type": "code",
   "execution_count": 37,
   "metadata": {},
   "outputs": [],
   "source": [
    "contacts=[('rachel','1234567890'),('monica','9876543210'),('chandler','1234567890')]\n"
   ]
  },
  {
   "cell_type": "code",
   "execution_count": 38,
   "metadata": {},
   "outputs": [
    {
     "name": "stdout",
     "output_type": "stream",
     "text": [
      "1234567890\n"
     ]
    }
   ],
   "source": [
    "for contact in contacts:\n",
    "    if contact[0]=='rachel':\n",
    "        print(contact[1])\n"
   ]
  },
  {
   "cell_type": "code",
   "execution_count": 41,
   "metadata": {},
   "outputs": [
    {
     "data": {
      "text/plain": [
       "{'rachel': 1234567890,\n",
       " 'monica': 9876543210,\n",
       " 'chandler': 1234567890,\n",
       " 'joey': 1234567899}"
      ]
     },
     "execution_count": 41,
     "metadata": {},
     "output_type": "execute_result"
    }
   ],
   "source": [
    "d={\n",
    "    'rachel':1234567890,\n",
    "    'monica':9876543210,\n",
    "    'chandler':1234567890\n",
    "}\n",
    "\n",
    "d['rachel']\n",
    "\n",
    "d['joey']=1234567899\n",
    "d\n",
    "\n",
    "\n",
    "\n",
    "\n"
   ]
  },
  {
   "cell_type": "code",
   "execution_count": 44,
   "metadata": {},
   "outputs": [
    {
     "data": {
      "text/plain": [
       "{'phone': 1234567890, 'email': 'rachel@gmail.com'}"
      ]
     },
     "execution_count": 44,
     "metadata": {},
     "output_type": "execute_result"
    }
   ],
   "source": [
    "contact={\n",
    "    'rachel':{'phone':1234567890,'email':'rachel@gmail.com'},\n",
    "    'monica':{'phone':9876543210,'email':'monica@gmail.com'},\n",
    "    'chandler':{'phone':1234567890,'email':'chandler@gmail.com'}\n",
    "}\n",
    "\n",
    "contact['rachel']\n",
    "\n"
   ]
  },
  {
   "cell_type": "code",
   "execution_count": 46,
   "metadata": {},
   "outputs": [
    {
     "data": {
      "text/plain": [
       "dict_items([('rachel', 1234567890), ('monica', 9876543210), ('chandler', 1234567890), ('joey', 1234567899)])"
      ]
     },
     "execution_count": 46,
     "metadata": {},
     "output_type": "execute_result"
    }
   ],
   "source": [
    "d.keys()\n",
    "d.values()\n",
    "d.items()"
   ]
  },
  {
   "cell_type": "code",
   "execution_count": 48,
   "metadata": {},
   "outputs": [
    {
     "name": "stdout",
     "output_type": "stream",
     "text": [
      "rachel\n",
      "monica\n",
      "chandler\n",
      "joey\n"
     ]
    }
   ],
   "source": [
    "for name,number in d.items()\n",
    "    print(name)\n"
   ]
  },
  {
   "cell_type": "code",
   "execution_count": 55,
   "metadata": {},
   "outputs": [],
   "source": [
    "import math\n",
    "import calendar\n"
   ]
  },
  {
   "cell_type": "code",
   "execution_count": 61,
   "metadata": {},
   "outputs": [],
   "source": [
    "import numpy as np\n"
   ]
  },
  {
   "cell_type": "code",
   "execution_count": 64,
   "metadata": {},
   "outputs": [
    {
     "name": "stdout",
     "output_type": "stream",
     "text": [
      "[list([1, 23, 4, 5, 6, 7, 8, 9, 10]) list([123, 1423])]\n"
     ]
    },
    {
     "name": "stderr",
     "output_type": "stream",
     "text": [
      "C:\\Users\\nande\\AppData\\Local\\Temp\\ipykernel_21408\\935031180.py:1: VisibleDeprecationWarning: Creating an ndarray from ragged nested sequences (which is a list-or-tuple of lists-or-tuples-or ndarrays with different lengths or shapes) is deprecated. If you meant to do this, you must specify 'dtype=object' when creating the ndarray.\n",
      "  q1=np.array([[1,23,4,5,6,7,8,9,10],[123,1423]])\n"
     ]
    }
   ],
   "source": [
    "q1=np.array([[1,23,4,5,6,7,8,9,10],[123,1423]])\n",
    "print(q1)\n",
    "\n"
   ]
  },
  {
   "cell_type": "code",
   "execution_count": 65,
   "metadata": {},
   "outputs": [
    {
     "name": "stdout",
     "output_type": "stream",
     "text": [
      "Mathematical operations:\n",
      "List multiplied by 2: [2, 4, 6, 8, 10]\n",
      "NumPy array multiplied by 2: [ 2  4  6  8 10]\n",
      "\n",
      "Memory and data type:\n",
      "List can contain different types: [1, 'string', 3.14]\n",
      "NumPy array type: int32\n",
      "\n",
      "Multi-dimensional operations:\n",
      "2D NumPy array shape: (2, 3)\n",
      "2D NumPy array dimension: 2\n",
      "\n",
      "Time for list operation: 0.10133910179138184\n",
      "Time for NumPy operation: 0.002986907958984375\n"
     ]
    }
   ],
   "source": [
    "# Create regular Python list and NumPy array for comparison\n",
    "regular_list = [1, 2, 3, 4, 5]\n",
    "numpy_array = np.array([1, 2, 3, 4, 5])\n",
    "\n",
    "# 1. Mathematical operations\n",
    "print(\"Mathematical operations:\")\n",
    "print(\"List multiplied by 2:\", [x*2 for x in regular_list])  # Requires explicit loop\n",
    "print(\"NumPy array multiplied by 2:\", numpy_array * 2)  # Element-wise operation\n",
    "\n",
    "# 2. Memory efficiency and homogeneous data\n",
    "print(\"\\nMemory and data type:\")\n",
    "print(\"List can contain different types:\", [1, \"string\", 3.14])  # Lists can be heterogeneous\n",
    "print(\"NumPy array type:\", numpy_array.dtype)  # NumPy arrays are homogeneous\n",
    "\n",
    "# 3. Multi-dimensional operations\n",
    "list_2d = [[1, 2, 3], [4, 5, 6]]\n",
    "numpy_2d = np.array([[1, 2, 3], [4, 5, 6]])\n",
    "print(\"\\nMulti-dimensional operations:\")\n",
    "print(\"2D NumPy array shape:\", numpy_2d.shape)\n",
    "print(\"2D NumPy array dimension:\", numpy_2d.ndim)\n",
    "\n",
    "# 4. Performance with large datasets\n",
    "import time\n",
    "\n",
    "# Create large dataset\n",
    "size = 1000000\n",
    "list_large = list(range(size))\n",
    "array_large = np.array(list_large)\n",
    "\n",
    "# Compare operation speed\n",
    "start = time.time()\n",
    "[x + 1 for x in list_large]\n",
    "print(\"\\nTime for list operation:\", time.time() - start)\n",
    "\n",
    "start = time.time()\n",
    "array_large + 1\n",
    "print(\"Time for NumPy operation:\", time.time() - start)\n"
   ]
  },
  {
   "cell_type": "code",
   "execution_count": 70,
   "metadata": {},
   "outputs": [
    {
     "name": "stdout",
     "output_type": "stream",
     "text": [
      "safklksanf\n",
      "\n",
      "safjkasbjfbas\n",
      "\n",
      "dsajbfjasbf\n",
      "\n",
      "asfnasjkfbjkasf\n",
      "\n",
      "s fhjasf\n",
      "\n",
      "\n",
      "\n",
      "s'nasjbf\n",
      "\n"
     ]
    }
   ],
   "source": [
    "with open('funny.txt','r') as f:\n",
    "    for line in f:\n",
    "        print(line)"
   ]
  },
  {
   "cell_type": "code",
   "execution_count": 71,
   "metadata": {},
   "outputs": [
    {
     "name": "stdout",
     "output_type": "stream",
     "text": [
      "safklksanf\n",
      "\n",
      "safjkasbjfbas\n",
      "\n",
      "dsajbfjasbf\n",
      "\n",
      "asfnasjkfbjkasf\n",
      "\n",
      "s fhjasf\n",
      "\n",
      "\n",
      "\n",
      "s'nasjbf\n",
      "\n"
     ]
    }
   ],
   "source": [
    "with open(\"funny.txt\",\"r\") as f:\n",
    "    lines=f.readlines()\n",
    "    for line in lines:\n",
    "        print(line)"
   ]
  },
  {
   "cell_type": "code",
   "execution_count": 74,
   "metadata": {},
   "outputs": [],
   "source": [
    "with open(\"love.txt\",\"w\") as f:\n",
    "    f.write(\"i love you \\n\")\n",
    "    f.write(\"i love you too\")\n"
   ]
  },
  {
   "cell_type": "code",
   "execution_count": 78,
   "metadata": {},
   "outputs": [],
   "source": [
    "with open(\"love1.txt\",\"a\") as f:\n",
    "    f.write(\"i love you too\")\n",
    "    f.writelines([\"i love\",\"eiief\"])\n",
    "    \n"
   ]
  },
  {
   "cell_type": "code",
   "execution_count": 80,
   "metadata": {},
   "outputs": [],
   "source": [
    "with open(\"match.csv\",\"w\") as f:\n",
    "    f.write(\"name,match_id,runs \\n\")\n",
    "    f.write(\"dhoni,1,100 \\n\")\n",
    "    f.write(\"kohli,2,150 \\n\")\n",
    "    f.write(\"rohit,3,120 \\n\")\n",
    "    f.write(\"pandya,4,130 \\n\")\n",
    "    f.write(\"bumrah,5,140 \\n\")\n",
    "    f.write(\"ashwin,6,110 \\n\")\n",
    "    f.write(\"chahal,7,120 \\n\") \n"
   ]
  },
  {
   "cell_type": "code",
   "execution_count": 85,
   "metadata": {},
   "outputs": [],
   "source": [
    "d={\n",
    "    'rohit':[9,120,240],\n",
    "    'dhoni':[1,100,100],\n",
    "    'kohli':[2,150,150],\n",
    "    'bumrah':[3,140,140],\n",
    "    'ashwin':[4,110,110],\n",
    "    'chahal':[5,120,120]\n",
    "}\n"
   ]
  },
  {
   "cell_type": "code",
   "execution_count": 86,
   "metadata": {},
   "outputs": [
    {
     "data": {
      "text/plain": [
       "[9, 120, 240]"
      ]
     },
     "execution_count": 86,
     "metadata": {},
     "output_type": "execute_result"
    }
   ],
   "source": [
    "d['rohit']"
   ]
  },
  {
   "cell_type": "code",
   "execution_count": 97,
   "metadata": {},
   "outputs": [],
   "source": [
    "player_scores={}\n",
    "\n",
    "with open(\"match.csv\",\"r\") as f:\n",
    "    lines=f.readlines()\n",
    "    for line in lines:\n",
    "        player,match_id,score=line.split(',')\n",
    "\n",
    "        if player in player_scores:\n",
    "            player_scores[player].append(score)\n",
    "        else:\n",
    "            player_scores[player]=[score]\n"
   ]
  },
  {
   "cell_type": "code",
   "execution_count": 98,
   "metadata": {},
   "outputs": [
    {
     "data": {
      "text/plain": [
       "{'rohit': [9, 120, 240],\n",
       " 'dhoni': [1, 100, 100],\n",
       " 'kohli': [2, 150, 150],\n",
       " 'bumrah': [3, 140, 140],\n",
       " 'ashwin': [4, 110, 110],\n",
       " 'chahal': [5, 120, 120]}"
      ]
     },
     "execution_count": 98,
     "metadata": {},
     "output_type": "execute_result"
    }
   ],
   "source": [
    "d"
   ]
  },
  {
   "cell_type": "code",
   "execution_count": 100,
   "metadata": {},
   "outputs": [
    {
     "name": "stdout",
     "output_type": "stream",
     "text": [
      "name has scored runs \n",
      " and runs \n",
      " in his career \n",
      "\n",
      "dhoni has scored 100 \n",
      " and 100 \n",
      " in his career \n",
      "\n",
      "kohli has scored 150 \n",
      " and 150 \n",
      " in his career \n",
      "\n",
      "rohit has scored 120 \n",
      " and 120 \n",
      " in his career \n",
      "\n",
      "pandya has scored 130 \n",
      " and 130 \n",
      " in his career \n",
      "\n",
      "bumrah has scored 140 \n",
      " and 140 \n",
      " in his career \n",
      "\n",
      "ashwin has scored 110 \n",
      " and 110 \n",
      " in his career \n",
      "\n",
      "chahal has scored 120 \n",
      " and 120 \n",
      " in his career \n",
      "\n"
     ]
    }
   ],
   "source": [
    "for player,scores in player_scores.items():\n",
    "    min_score=min(scores)\n",
    "    max_score=max(scores)\n",
    "    print(f\"{player} has scored {min_score} and {max_score} in his career \\n\")\n",
    "    \n"
   ]
  },
  {
   "cell_type": "code",
   "execution_count": 105,
   "metadata": {},
   "outputs": [],
   "source": [
    "with open(\"dummy.txt\",\"w\") as f:\n",
    "    f.write(\"hello world \\n\")\n",
    "import os\n",
    "if os.path.exists(\"dummy.txt\"):\n",
    "   os.remove(\"dummy.txt\") \n",
    "else:\n",
    "    print(\"file does not exist\")\n",
    "    \n"
   ]
  },
  {
   "cell_type": "code",
   "execution_count": 106,
   "metadata": {},
   "outputs": [
    {
     "data": {
      "text/plain": [
       "dict_items([('rohit', [9, 120, 240]), ('dhoni', [1, 100, 100]), ('kohli', [2, 150, 150]), ('bumrah', [3, 140, 140]), ('ashwin', [4, 110, 110]), ('chahal', [5, 120, 120])])"
      ]
     },
     "execution_count": 106,
     "metadata": {},
     "output_type": "execute_result"
    }
   ],
   "source": [
    "d.items()\n",
    "\n",
    "\n",
    "\n",
    "\n",
    "\n"
   ]
  },
  {
   "cell_type": "code",
   "execution_count": null,
   "metadata": {},
   "outputs": [],
   "source": []
  }
 ],
 "metadata": {
  "kernelspec": {
   "display_name": "Python 3",
   "language": "python",
   "name": "python3"
  },
  "language_info": {
   "codemirror_mode": {
    "name": "ipython",
    "version": 3
   },
   "file_extension": ".py",
   "mimetype": "text/x-python",
   "name": "python",
   "nbconvert_exporter": "python",
   "pygments_lexer": "ipython3",
   "version": "3.8.20"
  }
 },
 "nbformat": 4,
 "nbformat_minor": 2
}
