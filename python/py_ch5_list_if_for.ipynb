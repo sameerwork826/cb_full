{
 "cells": [
  {
   "cell_type": "code",
   "execution_count": 1,
   "metadata": {},
   "outputs": [
    {
     "name": "stdout",
     "output_type": "stream",
     "text": [
      "bread\n",
      "butter\n",
      "jam\n"
     ]
    }
   ],
   "source": [
    "item1=\"bread\"\n",
    "item2=\"butter\"\n",
    "item3=\"jam\"\n",
    "\n",
    "print(item1)\n",
    "print(item2)\n",
    "print(item3)\n",
    "\n"
   ]
  },
  {
   "cell_type": "code",
   "execution_count": 2,
   "metadata": {},
   "outputs": [
    {
     "name": "stdout",
     "output_type": "stream",
     "text": [
      "['bread', 'butter', 'jam']\n"
     ]
    }
   ],
   "source": [
    "items=[\"bread\",\"butter\",\"jam\"]\n",
    "\n",
    "print(items)\n"
   ]
  },
  {
   "cell_type": "code",
   "execution_count": 3,
   "metadata": {},
   "outputs": [
    {
     "name": "stdout",
     "output_type": "stream",
     "text": [
      "Original list: ['apple', 'banana', 'orange']\n",
      "List with duplicates: [1, 2, 2, 3, 3, 4]\n",
      "After modification: ['mango', 'banana', 'orange']\n",
      "Mixed data types: [1, 'hello', 3.14, True]\n",
      "First element: mango\n",
      "Last element: orange\n",
      "Slice: ['mango', 'banana']\n",
      "After append: ['mango', 'banana', 'orange', 'grape']\n",
      "After remove: ['mango', 'orange', 'grape']\n",
      "Nested list: [[1, 2], [3, 4], [5, 6]]\n",
      "Concatenated: [1, 2, 3, 4]\n",
      "Repeated: [1, 2, 1, 2]\n"
     ]
    }
   ],
   "source": [
    "# Properties of Lists in Python:\n",
    "\n",
    "# 1. Lists are ordered collections\n",
    "fruits = [\"apple\", \"banana\", \"orange\"]\n",
    "print(\"Original list:\", fruits)  # Order is maintained\n",
    "\n",
    "# 2. Lists allow duplicate elements\n",
    "numbers = [1, 2, 2, 3, 3, 4]\n",
    "print(\"List with duplicates:\", numbers)\n",
    "\n",
    "# 3. Lists are mutable (can be modified)\n",
    "fruits[0] = \"mango\"  # Changing an element\n",
    "print(\"After modification:\", fruits)\n",
    "\n",
    "# 4. Lists can contain different data types\n",
    "mixed_list = [1, \"hello\", 3.14, True]\n",
    "print(\"Mixed data types:\", mixed_list)\n",
    "\n",
    "# 5. Lists support indexing and slicing\n",
    "print(\"First element:\", fruits[0])\n",
    "print(\"Last element:\", fruits[-1])\n",
    "print(\"Slice:\", fruits[0:2])\n",
    "\n",
    "# 6. Lists have dynamic length\n",
    "fruits.append(\"grape\")  # Adding element\n",
    "print(\"After append:\", fruits)\n",
    "fruits.remove(\"banana\")  # Removing element\n",
    "print(\"After remove:\", fruits)\n",
    "\n",
    "# 7. Lists can be nested\n",
    "nested_list = [[1, 2], [3, 4], [5, 6]]\n",
    "print(\"Nested list:\", nested_list)\n",
    "\n",
    "# 8. List operations\n",
    "list1 = [1, 2]\n",
    "list2 = [3, 4]\n",
    "# Concatenation\n",
    "print(\"Concatenated:\", list1 + list2)\n",
    "# Repetition\n",
    "print(\"Repeated:\", list1 * 2)\n"
   ]
  },
  {
   "cell_type": "code",
   "execution_count": 9,
   "metadata": {},
   "outputs": [
    {
     "name": "stdout",
     "output_type": "stream",
     "text": [
      "['bread', 'butter', 'jam']\n"
     ]
    },
    {
     "data": {
      "text/plain": [
       "['bread', 'butter']"
      ]
     },
     "execution_count": 9,
     "metadata": {},
     "output_type": "execute_result"
    }
   ],
   "source": [
    "print(items)\n",
    "items[:2]"
   ]
  },
  {
   "cell_type": "code",
   "execution_count": 2,
   "metadata": {},
   "outputs": [
    {
     "name": "stdout",
     "output_type": "stream",
     "text": [
      "[2000, 3000, 4000, 5000]\n"
     ]
    }
   ],
   "source": [
    "expenses=[2000,4000,5000,3000]\n",
    "expenses.sort()\n",
    "print(expenses)\n"
   ]
  },
  {
   "cell_type": "code",
   "execution_count": 16,
   "metadata": {},
   "outputs": [
    {
     "name": "stdout",
     "output_type": "stream",
     "text": [
      "['car', 1, 2, 'sameer']\n"
     ]
    }
   ],
   "source": [
    "random=[\"car\",1,2,\"sameer\"]\n",
    "print(random)\n"
   ]
  },
  {
   "cell_type": "code",
   "execution_count": 15,
   "metadata": {},
   "outputs": [
    {
     "name": "stdout",
     "output_type": "stream",
     "text": [
      "[]\n"
     ]
    }
   ],
   "source": [
    "items.clear()\n",
    "print(items)"
   ]
  },
  {
   "cell_type": "code",
   "execution_count": 4,
   "metadata": {},
   "outputs": [
    {
     "data": {
      "text/plain": [
       "[2000, 3000, 4000, 5000]"
      ]
     },
     "execution_count": 4,
     "metadata": {},
     "output_type": "execute_result"
    }
   ],
   "source": [
    "expenses.reverse()\n",
    "expenses\n"
   ]
  },
  {
   "cell_type": "code",
   "execution_count": 17,
   "metadata": {},
   "outputs": [
    {
     "name": "stdout",
     "output_type": "stream",
     "text": [
      "10 is even\n",
      "Number is even\n",
      "nay\n",
      "indian\n"
     ]
    }
   ],
   "source": [
    "n=input(\"Enter the number of items:\")\n",
    "n=int(n)\n",
    "if(n%2==0):\n",
    "    print(f\"{n} is even\")\n",
    "else:\n",
    "    print(f\"{int(n)} is odd\")\n",
    "\n",
    "message= \"Number is even\" if n%2==0 else \"Numebr is even\" \n",
    "print(message)\n",
    "\n",
    "if n>10 and n%2==0:\n",
    "    print(\"yay\")\n",
    "else:\n",
    "    print(\"nay\")\n",
    "    \n",
    "    \n",
    "indian={\"idly\",\"dosa\",\"vada\"}\n",
    "italian={\"pizza\",\"pasta\",\"risotto\"}\n",
    "chinese={\"noodles\",\"dumplings\",\"fried rice\"}\n",
    "\n",
    "dish=input(\"enter a dish name:\")\n",
    "\n",
    "str(dish)\n",
    "if dish in indian:\n",
    "    print(\"indian\")\n",
    "elif dish in italian:\n",
    "    print(\"italin\")\n",
    "elif dish in chinese:\n",
    "    print(\"chinese\")\n",
    "else:\n",
    "    print(\"unknown\")\n",
    "\n",
    "\n",
    "\n",
    "\n"
   ]
  },
  {
   "cell_type": "code",
   "execution_count": 26,
   "metadata": {},
   "outputs": [
    {
     "name": "stdout",
     "output_type": "stream",
     "text": [
      "2000\n",
      "4000\n",
      "5000\n",
      "3000\n",
      "total expense is 14000\n",
      "expense 1 is 2000\n",
      "expense 2 is 4000\n",
      "expense 3 is 5000\n",
      "expense 4 is 3000\n",
      "38 is below threshold in this month jan\n"
     ]
    }
   ],
   "source": [
    "expenses=[2000,4000,5000,3000]\n",
    "total_expenses=0\n",
    "\n",
    "for expense in expenses:\n",
    "    print(expense)\n",
    "    total_expenses+=expense\n",
    "print(f\"total expense is {total_expenses}\")\n",
    "\n",
    "\n",
    "for i in range(len(expenses)):\n",
    "    print(f\"expense {i+1} is {expenses[i]}\")\n",
    "    \n",
    "monthly_sales={42,38,40,41,42,43,44,45,46,47,48,49,50}\n",
    "threshold=40\n",
    "months=[\"jan\",\"feb\",\"mar\",\"apr\",\"may\",\"jun\",\"jul\",\"aug\",\"sep\",\"oct\",\"nov\",\"dec\"]\n",
    "\n",
    "for sales,months in zip(monthly_sales,months):\n",
    "    if(sales<threshold):\n",
    "        print(f\"{sales} is below threshold in this month {months}\") \n",
    "        break\n",
    "    else:\n",
    "        print(f\"{sales} is above threshold in this month {months}\")\n",
    "\n",
    "\n",
    "\n",
    "    "
   ]
  },
  {
   "cell_type": "code",
   "execution_count": 38,
   "metadata": {},
   "outputs": [
    {
     "name": "stdout",
     "output_type": "stream",
     "text": [
      "the product apple in regions india has revenue 1000\n",
      "the product apple in regions usa has revenue 2000\n",
      "the product apple in regions uk has revenue 3000\n",
      "the product apple in regions france has revenue 4000\n",
      "the product apple in regions germany has revenue 5000\n"
     ]
    },
    {
     "ename": "IndexError",
     "evalue": "list index out of range",
     "output_type": "error",
     "traceback": [
      "\u001b[1;31m---------------------------------------------------------------------------\u001b[0m",
      "\u001b[1;31mIndexError\u001b[0m                                Traceback (most recent call last)",
      "Cell \u001b[1;32mIn[38], line 17\u001b[0m\n\u001b[0;32m     15\u001b[0m \u001b[38;5;28;01mfor\u001b[39;00m products \u001b[38;5;129;01min\u001b[39;00m products:\n\u001b[0;32m     16\u001b[0m     \u001b[38;5;28;01mfor\u001b[39;00m regions \u001b[38;5;129;01min\u001b[39;00m regions:\n\u001b[1;32m---> 17\u001b[0m         rev\u001b[38;5;241m=\u001b[39m\u001b[43mrevenue\u001b[49m\u001b[43m[\u001b[49m\u001b[43mi\u001b[49m\u001b[43m]\u001b[49m\n\u001b[0;32m     18\u001b[0m         i\u001b[38;5;241m+\u001b[39m\u001b[38;5;241m=\u001b[39m\u001b[38;5;241m1\u001b[39m\n\u001b[0;32m     19\u001b[0m         \u001b[38;5;28mprint\u001b[39m(\u001b[38;5;124mf\u001b[39m\u001b[38;5;124m\"\u001b[39m\u001b[38;5;124mthe product \u001b[39m\u001b[38;5;132;01m{\u001b[39;00mproducts\u001b[38;5;132;01m}\u001b[39;00m\u001b[38;5;124m in regions \u001b[39m\u001b[38;5;132;01m{\u001b[39;00mregions\u001b[38;5;132;01m}\u001b[39;00m\u001b[38;5;124m has revenue \u001b[39m\u001b[38;5;132;01m{\u001b[39;00mrev\u001b[38;5;132;01m}\u001b[39;00m\u001b[38;5;124m\"\u001b[39m)\n",
      "\u001b[1;31mIndexError\u001b[0m: list index out of range"
     ]
    }
   ],
   "source": [
    "# for i in range(1,10):\n",
    "#     if i%2==0:\n",
    "#         continue\n",
    "#     print(i)\n",
    "\n",
    "\n",
    "\n",
    "products=[\"apple\",\"banana\",\"orange\",\"mango\",\"pineapple\"]\n",
    "\n",
    "regions=[\"india\",\"usa\",\"uk\",\"france\",\"germany\"]\n",
    "\n",
    "revenue=[1000,2000,3000,4000,5000]\n",
    "i=0\n",
    "\n",
    "for products in products:\n",
    "    for regions in regions:\n",
    "        rev=revenue[i]\n",
    "        i+=1\n",
    "        print(f\"the product {products} in regions {regions} has revenue {rev}\")\n",
    "\n",
    "\n",
    "\n",
    "\n",
    "\n",
    "\n"
   ]
  },
  {
   "cell_type": "code",
   "execution_count": null,
   "metadata": {},
   "outputs": [],
   "source": [
    "# List comprehension example\n",
    "numbers = [1, 2, 3, 4, 5]\n",
    "squares = [x**2 for x in numbers]\n",
    "print(\"List comprehension:\", squares)\n",
    "\n",
    "# For loop with list\n",
    "fruits = [\"apple\", \"banana\", \"orange\"]\n",
    "print(\"\\nFor loop through list:\")\n",
    "for fruit in fruits:\n",
    "    print(fruit)\n",
    "\n",
    "# If condition with list\n",
    "print(\"\\nFiltering with if:\")\n",
    "even_numbers = []\n",
    "for num in numbers:\n",
    "    if num % 2 == 0:\n",
    "        even_numbers.append(num)\n",
    "print(\"Even numbers:\", even_numbers)\n",
    "\n",
    "# For loop with range\n",
    "print(\"\\nFor loop with range:\")\n",
    "for i in range(3):\n",
    "    print(f\"Count: {i}\")\n",
    "\n",
    "# For loop with enumerate\n",
    "print(\"\\nFor loop with enumerate:\")\n",
    "for index, fruit in enumerate(fruits):\n",
    "    print(f\"Index {index}: {fruit}\")\n",
    "\n",
    "# Nested if-else with list\n",
    "print(\"\\nNested if-else with list:\")\n",
    "for num in numbers:\n",
    "    if num > 3:\n",
    "        print(f\"{num} is greater than 3\")\n",
    "    elif num == 3:\n",
    "        print(f\"{num} is equal to 3\")\n",
    "    else:\n",
    "        print(f\"{num} is less than 3\")\n"
   ]
  },
  {
   "cell_type": "code",
   "execution_count": null,
   "metadata": {},
   "outputs": [],
   "source": []
  }
 ],
 "metadata": {
  "kernelspec": {
   "display_name": "Python 3",
   "language": "python",
   "name": "python3"
  },
  "language_info": {
   "codemirror_mode": {
    "name": "ipython",
    "version": 3
   },
   "file_extension": ".py",
   "mimetype": "text/x-python",
   "name": "python",
   "nbconvert_exporter": "python",
   "pygments_lexer": "ipython3",
   "version": "3.8.20"
  }
 },
 "nbformat": 4,
 "nbformat_minor": 2
}
