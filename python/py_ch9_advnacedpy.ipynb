{
 "cells": [
  {
   "cell_type": "markdown",
   "metadata": {},
   "source": [
    "## Set\n"
   ]
  },
  {
   "cell_type": "code",
   "execution_count": 30,
   "metadata": {},
   "outputs": [],
   "source": [
    "myset=set([1,2,3,2,3,4])\n",
    "#sets are mutable list are mutable\n",
    "#sets are unordered list are ordered\n",
    "#sets are unindexed list are indexed\n",
    "#sets allow unique elements list allow duplicates\n"
   ]
  },
  {
   "cell_type": "code",
   "execution_count": 31,
   "metadata": {},
   "outputs": [
    {
     "data": {
      "text/plain": [
       "{1, 2, 3, 4}"
      ]
     },
     "execution_count": 31,
     "metadata": {},
     "output_type": "execute_result"
    }
   ],
   "source": [
    "myset"
   ]
  },
  {
   "cell_type": "code",
   "execution_count": 32,
   "metadata": {},
   "outputs": [
    {
     "data": {
      "text/plain": [
       "[1, 2, 3, 4]"
      ]
     },
     "execution_count": 32,
     "metadata": {},
     "output_type": "execute_result"
    }
   ],
   "source": [
    "list(myset)\n"
   ]
  },
  {
   "cell_type": "code",
   "execution_count": 33,
   "metadata": {},
   "outputs": [
    {
     "ename": "SyntaxError",
     "evalue": "invalid syntax (3489139720.py, line 1)",
     "output_type": "error",
     "traceback": [
      "\u001b[1;36m  Cell \u001b[1;32mIn[33], line 1\u001b[1;36m\u001b[0m\n\u001b[1;33m    myset={1,2,3,4,5,,5,5,6}\u001b[0m\n\u001b[1;37m                     ^\u001b[0m\n\u001b[1;31mSyntaxError\u001b[0m\u001b[1;31m:\u001b[0m invalid syntax\n"
     ]
    }
   ],
   "source": [
    "myset={1,2,3,4,5,,5,5,6}\n",
    "\n",
    "#another way of intialising set for list it was list=[] for set its set={} another way is set([1,2,3,4,5,6,7,8,9,10])"
   ]
  },
  {
   "cell_type": "code",
   "execution_count": 34,
   "metadata": {},
   "outputs": [
    {
     "data": {
      "text/plain": [
       "{1, 2, 3, 4}"
      ]
     },
     "execution_count": 34,
     "metadata": {},
     "output_type": "execute_result"
    }
   ],
   "source": [
    "myset\n",
    "\n",
    "#onyl unique elemnts alowed\n"
   ]
  },
  {
   "cell_type": "code",
   "execution_count": 35,
   "metadata": {},
   "outputs": [],
   "source": [
    "menu=set([\"pizza\",\"burger\",\"hotdog\",\"pizza\",\"burger\"])\n"
   ]
  },
  {
   "cell_type": "code",
   "execution_count": 36,
   "metadata": {},
   "outputs": [
    {
     "data": {
      "text/plain": [
       "{'burger', 'hotdog', 'noodles'}"
      ]
     },
     "execution_count": 36,
     "metadata": {},
     "output_type": "execute_result"
    }
   ],
   "source": [
    "menu.add(\"noodles\")\n",
    "menu.remove(\"pizza\")\n",
    "\n",
    "\n",
    "menu"
   ]
  },
  {
   "cell_type": "code",
   "execution_count": 37,
   "metadata": {},
   "outputs": [
    {
     "ename": "AttributeError",
     "evalue": "'frozenset' object has no attribute 'add'",
     "output_type": "error",
     "traceback": [
      "\u001b[1;31m---------------------------------------------------------------------------\u001b[0m",
      "\u001b[1;31mAttributeError\u001b[0m                            Traceback (most recent call last)",
      "Cell \u001b[1;32mIn[37], line 2\u001b[0m\n\u001b[0;32m      1\u001b[0m menu\u001b[38;5;241m=\u001b[39m\u001b[38;5;28mfrozenset\u001b[39m([\u001b[38;5;124m\"\u001b[39m\u001b[38;5;124mpizza\u001b[39m\u001b[38;5;124m\"\u001b[39m,\u001b[38;5;124m\"\u001b[39m\u001b[38;5;124mburger\u001b[39m\u001b[38;5;124m\"\u001b[39m,\u001b[38;5;124m\"\u001b[39m\u001b[38;5;124mhotdog\u001b[39m\u001b[38;5;124m\"\u001b[39m,\u001b[38;5;124m\"\u001b[39m\u001b[38;5;124mpizza\u001b[39m\u001b[38;5;124m\"\u001b[39m,\u001b[38;5;124m\"\u001b[39m\u001b[38;5;124mburger\u001b[39m\u001b[38;5;124m\"\u001b[39m])\n\u001b[1;32m----> 2\u001b[0m \u001b[43mmenu\u001b[49m\u001b[38;5;241;43m.\u001b[39;49m\u001b[43madd\u001b[49m(\u001b[38;5;124m\"\u001b[39m\u001b[38;5;124mnoodles\u001b[39m\u001b[38;5;124m\"\u001b[39m)\n",
      "\u001b[1;31mAttributeError\u001b[0m: 'frozenset' object has no attribute 'add'"
     ]
    }
   ],
   "source": [
    "menu=frozenset([\"pizza\",\"burger\",\"hotdog\",\"pizza\",\"burger\"])\n",
    "menu.add(\"noodles\")\n",
    "\n",
    "#cannot change elements of frozen set\n"
   ]
  },
  {
   "cell_type": "code",
   "execution_count": 38,
   "metadata": {},
   "outputs": [
    {
     "data": {
      "text/plain": [
       "False"
      ]
     },
     "execution_count": 38,
     "metadata": {},
     "output_type": "execute_result"
    }
   ],
   "source": [
    "\"dosa\" in menu"
   ]
  },
  {
   "cell_type": "code",
   "execution_count": 39,
   "metadata": {},
   "outputs": [],
   "source": [
    "transactions=[\n",
    "    {\"customer\":\"John\",\"item\":\"burger\",\"amount\":15},\n",
    "    {\"customer\":\"Jane\",\"item\":\"burger\",\"amount\":15},\n",
    "    {\"customer\":\"John\",\"item\":\"burger\",\"amount\":15},\n",
    "    {\"customer\":\"Jane\",\"item\":\"burger\",\"amount\":15},\n",
    "    {\"customer\":\"John\",\"item\":\"burger\",\"amount\":15},\n",
    "    {\"customer\":\"Jane\",\"item\":\"burger\",\"amount\":15},\n",
    "    \n",
    "]\n",
    "\n",
    "\n",
    "#initialize dictonary "
   ]
  },
  {
   "cell_type": "code",
   "execution_count": 40,
   "metadata": {},
   "outputs": [],
   "source": [
    "customers=set()\n",
    "for trans in transactions:\n",
    "    customers.add(trans['customer'])\n",
    "    \n",
    "# adding all dictonary elements though duplciae into merging single set which does not allow duplicates\n",
    "\n"
   ]
  },
  {
   "cell_type": "code",
   "execution_count": 41,
   "metadata": {},
   "outputs": [
    {
     "data": {
      "text/plain": [
       "{'Jane', 'John'}"
      ]
     },
     "execution_count": 41,
     "metadata": {},
     "output_type": "execute_result"
    }
   ],
   "source": [
    "customers"
   ]
  },
  {
   "cell_type": "code",
   "execution_count": 42,
   "metadata": {},
   "outputs": [],
   "source": [
    "customers_list=list(customers)\n",
    "#converting set to list"
   ]
  },
  {
   "cell_type": "code",
   "execution_count": 43,
   "metadata": {},
   "outputs": [
    {
     "data": {
      "text/plain": [
       "['Jane', 'John']"
      ]
     },
     "execution_count": 43,
     "metadata": {},
     "output_type": "execute_result"
    }
   ],
   "source": [
    "customers_list\n"
   ]
  },
  {
   "cell_type": "code",
   "execution_count": 44,
   "metadata": {},
   "outputs": [
    {
     "name": "stdout",
     "output_type": "stream",
     "text": [
      "a union b is {'mira', 'sameer', 'nandini', 'lucky', 'saniya', 'mohan'} also written as {'mira', 'sameer', 'nandini', 'lucky', 'saniya', 'mohan'}\n",
      "a intersection b is {'mohan', 'lucky', 'nandini'} also written as {'mohan', 'lucky', 'nandini'}\n",
      "a - b is {'mira'} also written as {'mira'}\n"
     ]
    }
   ],
   "source": [
    "a={\"mira\",\"nandini\",\"mohan\",\"lucky\"}\n",
    "b={\"mohan\",\"lucky\",\"nandini\",\"sameer\",'saniya'}\n",
    "\n",
    "print(f\"a union b is {a.union(b)} also written as {a|b}\")\n",
    "print(f\"a intersection b is {a.intersection(b)} also written as {a&b}\")\n",
    "print(f\"a - b is {a.difference(b)} also written as {a-b}\")\n",
    "\n"
   ]
  },
  {
   "cell_type": "markdown",
   "metadata": {},
   "source": [
    "### list and dict comprehension"
   ]
  },
  {
   "cell_type": "code",
   "execution_count": 47,
   "metadata": {},
   "outputs": [
    {
     "name": "stdout",
     "output_type": "stream",
     "text": [
      "[1, 4, 9, 16, 25, 36, 49, 64, 81, 100]\n"
     ]
    }
   ],
   "source": [
    "numbers=[1,2,3,4,5,6,7,8,9,10]\n",
    "sq_number=[]\n",
    "\n",
    "for num in numbers:\n",
    "    sq_number.append(num*num)\n",
    "    \n",
    "print(sq_number)\n"
   ]
  },
  {
   "cell_type": "code",
   "execution_count": 50,
   "metadata": {},
   "outputs": [],
   "source": [
    "sq_numbers=[n*n for n in numbers]\n",
    "\n",
    "#compact way\n",
    "# performaance is better"
   ]
  },
  {
   "cell_type": "code",
   "execution_count": 49,
   "metadata": {},
   "outputs": [
    {
     "name": "stdout",
     "output_type": "stream",
     "text": [
      "[1, 4, 9, 16, 25, 36, 49, 64, 81, 100]\n"
     ]
    }
   ],
   "source": [
    "print(sq_numbers)\n"
   ]
  },
  {
   "cell_type": "code",
   "execution_count": null,
   "metadata": {},
   "outputs": [
    {
     "name": "stdout",
     "output_type": "stream",
     "text": [
      "time taken for list this loop is 22.127432823181152\n"
     ]
    }
   ],
   "source": [
    "import time\n",
    "\n",
    "long_list=range(100000000)\n",
    "\n",
    "sqr_list=[]\n",
    "\n",
    "\n",
    "start=time.time()\n",
    "for n in long_list:\n",
    "    sqr_list.append(n*n)\n",
    "    \n",
    "end=time.time()\n",
    "\n",
    "print(f\"time taken for list this loop is {end-start}\")\n"
   ]
  },
  {
   "cell_type": "code",
   "execution_count": 56,
   "metadata": {},
   "outputs": [
    {
     "name": "stdout",
     "output_type": "stream",
     "text": [
      "the time taken for list comprehension is 13.631354093551636\n"
     ]
    }
   ],
   "source": [
    "start=time.time()\n",
    "sqr_list=[n*n for n in long_list]\n",
    "end=time.time()\n",
    "\n",
    "print(f\"the time taken for list comprehension is {end-start}\")"
   ]
  },
  {
   "cell_type": "code",
   "execution_count": 60,
   "metadata": {},
   "outputs": [],
   "source": [
    "price=[100,120,130,140,150,160,170,180,190,200]\n",
    "eps=[1,2,3,4,5,6,7,8,9,10]"
   ]
  },
  {
   "cell_type": "code",
   "execution_count": 66,
   "metadata": {},
   "outputs": [
    {
     "name": "stdout",
     "output_type": "stream",
     "text": [
      "[100.0, 60.0, 43.333333333333336, 35.0, 30.0, 26.666666666666668, 24.285714285714285, 22.5, 21.11111111111111, 20.0]\n"
     ]
    }
   ],
   "source": [
    "pe_ratio=[p/e if e!=0 else -1 for p,e in zip(price,eps)]\n",
    "\n",
    "print(pe_ratio)\n"
   ]
  },
  {
   "cell_type": "code",
   "execution_count": 63,
   "metadata": {},
   "outputs": [
    {
     "data": {
      "text/plain": [
       "((100, 1),\n",
       " (120, 2),\n",
       " (130, 3),\n",
       " (140, 4),\n",
       " (150, 5),\n",
       " (160, 6),\n",
       " (170, 7),\n",
       " (180, 8),\n",
       " (190, 9),\n",
       " (200, 10))"
      ]
     },
     "execution_count": 63,
     "metadata": {},
     "output_type": "execute_result"
    }
   ],
   "source": [
    "tuple(zip(price,eps))"
   ]
  },
  {
   "cell_type": "code",
   "execution_count": 64,
   "metadata": {},
   "outputs": [],
   "source": [
    "#what is tuple nad how its diff from list\n",
    "#tuple is immutable list is mutable\n",
    "#tuple is ordered list is unordered\n",
    "#tuple is indexed list is unindexed\n",
    "#tuple allows duplicates list allows duplicates\n",
    "#tuple is faster than list\n",
    "#tuple is more memory efficient than list\n"
   ]
  },
  {
   "cell_type": "code",
   "execution_count": 77,
   "metadata": {},
   "outputs": [],
   "source": [
    "words=[\"apple\",\"banana\",\"cherry\",\"date\",\"elderberry\",\"fig\",\"grape\",\"honeydew\",\"kiwi\",\"lemon\"]\n",
    "\n",
    "lengths=[len(word) for word in words]"
   ]
  },
  {
   "cell_type": "code",
   "execution_count": 78,
   "metadata": {},
   "outputs": [
    {
     "name": "stdout",
     "output_type": "stream",
     "text": [
      "[5, 6, 6, 4, 10, 3, 5, 8, 4, 5]\n"
     ]
    }
   ],
   "source": [
    "print(lengths)\n"
   ]
  },
  {
   "cell_type": "code",
   "execution_count": 79,
   "metadata": {},
   "outputs": [
    {
     "name": "stdout",
     "output_type": "stream",
     "text": [
      "[5, 6, 6, 4, 10, 3, 5, 8, 4, 5]\n"
     ]
    }
   ],
   "source": [
    "lengths_1=[]\n",
    "\n",
    "for word in words:\n",
    "    lengths_1.append(len(word))\n",
    "\n",
    "print(lengths_1)\n"
   ]
  },
  {
   "cell_type": "code",
   "execution_count": 87,
   "metadata": {},
   "outputs": [
    {
     "name": "stdout",
     "output_type": "stream",
     "text": [
      "[0.1, 0, 0.1, 0, 0]\n",
      "[108.0, 99, 135.0, 50, 100]\n",
      "[108.0, 99, 135.0, 50, 100]\n"
     ]
    }
   ],
   "source": [
    "prices=[120,99,150,50,100]\n",
    "\n",
    "#if price is >10 give 10pc discount\n",
    "\n",
    "discounted_prices=[p-p*0.1 if p>100 else p for p in prices]\n",
    "discount=[0.1 if p>100 else 0 for p in prices]\n",
    "\n",
    "print(discount)\n",
    "after_discount=[p-p*d for p,d in zip(prices,discount)]\n",
    "print(discounted_prices)\n",
    "\n",
    "print(after_discount)\n"
   ]
  },
  {
   "cell_type": "code",
   "execution_count": 88,
   "metadata": {},
   "outputs": [],
   "source": [
    "# all this is called which technique?\n",
    "# list comprehension\n",
    "\n",
    "# what is list comprehension?\n",
    "# list comprehension is a way to create a new list by iterating over an existing list and applying a condition to each element.\n",
    "\n",
    "#now lets see dictonary comprehension\n"
   ]
  },
  {
   "cell_type": "code",
   "execution_count": 89,
   "metadata": {},
   "outputs": [
    {
     "name": "stdout",
     "output_type": "stream",
     "text": [
      "{'nandini': 25, 'mohan': 26, 'lucky': 27, 'mira': 28, 'saniya': 29, 'sameer': 30}\n"
     ]
    }
   ],
   "source": [
    "names=[\"nandini\",\"mohan\",\"lucky\",\"mira\",\"saniya\",\"sameer\"]\n",
    "\n",
    "ages=[25,26,27,28,29,30]\n",
    "\n",
    "name_age_dict={names[i]:ages[i] for i in range(len(names))}\n",
    "\n",
    "print(name_age_dict)\n",
    "\n"
   ]
  },
  {
   "cell_type": "code",
   "execution_count": 90,
   "metadata": {},
   "outputs": [
    {
     "name": "stdout",
     "output_type": "stream",
     "text": [
      "{'nandini': 25, 'mohan': 26, 'lucky': 27, 'mira': 28, 'saniya': 29, 'sameer': 30}\n"
     ]
    }
   ],
   "source": [
    "new_name_age_dict={}\n",
    "for name,age in zip(names,ages):\n",
    "    new_name_age_dict[name]=age\n",
    "    \n",
    "print(new_name_age_dict)\n"
   ]
  },
  {
   "cell_type": "code",
   "execution_count": null,
   "metadata": {},
   "outputs": [],
   "source": [
    "#these are two diff ways to create dictonary \n",
    "#1. using for loop and zip function\n",
    "#2. using dict comprehension\n"
   ]
  },
  {
   "cell_type": "code",
   "execution_count": 91,
   "metadata": {},
   "outputs": [
    {
     "data": {
      "text/plain": [
       "[{'customer': 'John', 'item': 'burger', 'amount': 15},\n",
       " {'customer': 'Jane', 'item': 'burger', 'amount': 15},\n",
       " {'customer': 'John', 'item': 'burger', 'amount': 15},\n",
       " {'customer': 'Jane', 'item': 'burger', 'amount': 15},\n",
       " {'customer': 'John', 'item': 'burger', 'amount': 15},\n",
       " {'customer': 'Jane', 'item': 'burger', 'amount': 15}]"
      ]
     },
     "execution_count": 91,
     "metadata": {},
     "output_type": "execute_result"
    }
   ],
   "source": [
    "transactions\n"
   ]
  },
  {
   "cell_type": "code",
   "execution_count": 94,
   "metadata": {},
   "outputs": [
    {
     "data": {
      "text/plain": [
       "{'Jane', 'John'}"
      ]
     },
     "execution_count": 94,
     "metadata": {},
     "output_type": "execute_result"
    }
   ],
   "source": [
    "customers=set()\n",
    "for trans in transactions:\n",
    "    customers.add(trans['customer'])\n",
    "    \n",
    "customers\n",
    "    \n",
    "# adding all dictonary elements though duplciae into merging single set which does not allow duplicates"
   ]
  },
  {
   "cell_type": "code",
   "execution_count": 95,
   "metadata": {},
   "outputs": [
    {
     "data": {
      "text/plain": [
       "{'Jane', 'John'}"
      ]
     },
     "execution_count": 95,
     "metadata": {},
     "output_type": "execute_result"
    }
   ],
   "source": [
    "#lets try using set comprehension\n",
    "customers_set=[ trans['customer'] for trans in transactions]\n",
    "customers"
   ]
  },
  {
   "cell_type": "code",
   "execution_count": 98,
   "metadata": {},
   "outputs": [],
   "source": [
    "set=range(5)"
   ]
  },
  {
   "cell_type": "code",
   "execution_count": 101,
   "metadata": {},
   "outputs": [
    {
     "name": "stdout",
     "output_type": "stream",
     "text": [
      "range(0, 5)\n",
      "0\n",
      "1\n",
      "2\n",
      "3\n",
      "4\n"
     ]
    }
   ],
   "source": [
    "print(set)"
   ]
  },
  {
   "cell_type": "code",
   "execution_count": 106,
   "metadata": {},
   "outputs": [
    {
     "data": {
      "text/plain": [
       "{1, 2, 3, 4, 5, 6}"
      ]
     },
     "execution_count": 106,
     "metadata": {},
     "output_type": "execute_result"
    }
   ],
   "source": [
    "s={1,2,3,4,5}\n",
    "s.add(6)\n",
    "# s.insert(2,6) # does not work for set as it is unordered\n",
    "# s.append(6) # does not work for set as it is unordered but why?\n",
    "# because set is unordered and append is used for list which is ordered\n",
    "s"
   ]
  },
  {
   "cell_type": "code",
   "execution_count": 115,
   "metadata": {},
   "outputs": [],
   "source": [
    "list=[1,2,3,4,5]\n",
    "\n",
    "list.append(6)\n",
    "# list.add(6) does not work for list\n",
    "list.insert(2,6) # adding element at index 2"
   ]
  },
  {
   "cell_type": "code",
   "execution_count": 116,
   "metadata": {},
   "outputs": [
    {
     "data": {
      "text/plain": [
       "[1, 2, 6, 3, 4, 5]"
      ]
     },
     "execution_count": 116,
     "metadata": {},
     "output_type": "execute_result"
    }
   ],
   "source": [
    "list"
   ]
  },
  {
   "cell_type": "code",
   "execution_count": null,
   "metadata": {},
   "outputs": [],
   "source": [
    "# PEP 8 Conventions:\n",
    "# 1. Indentation: Use 4 spaces per indentation level (not tabs)\n",
    "def good_indentation():\n",
    "    first_level = True\n",
    "    if first_level:\n",
    "        second_level = True\n",
    "\n",
    "# 2. Maximum Line Length: Limit lines to 79 characters\n",
    "very_long_string = (\n",
    "    \"This is a very long string that would exceed \"\n",
    "    \"79 characters if written on one line\"\n",
    ")\n",
    "\n",
    "# 3. Imports: Should be on separate lines and grouped\n",
    "# Standard library imports first\n",
    "import os\n",
    "import sys\n",
    "# Third party imports second\n",
    "# import numpy as np\n",
    "# Local application imports last\n",
    "# from mypackage import mymodule\n",
    "\n",
    "# 4. Whitespace: Avoid extraneous whitespace\n",
    "spam(ham[1], {eggs: 2})  # Good\n",
    "spam( ham[ 1 ], { eggs: 2 } )  # Bad\n",
    "\n",
    "# 5. Naming Conventions:\n",
    "# - Function names should be lowercase with underscores\n",
    "def calculate_average():\n",
    "    pass\n",
    "\n",
    "# - Class names should use CapWords\n",
    "class CustomerRecord:\n",
    "    pass\n",
    "\n",
    "# - Constants are usually uppercase\n",
    "MAX_VALUE = 100\n",
    "\n",
    "# 6. String Quotes: Use single quotes for string literals unless string contains a single quote\n",
    "name = 'John'\n",
    "quote = \"Don't forget to code well\"\n",
    "\n",
    "# 7. Comments: Should be complete sentences and start with # followed by a space\n",
    "# This is a good comment\n",
    "#This is not a good comment\n",
    "\n",
    "# 8. Method Definitions: Use self for first argument to instance methods\n",
    "class Example:\n",
    "    def instance_method(self, arg1):\n",
    "        pass\n",
    "\n",
    "# These conventions help make Python code more readable and maintainable\n",
    "\n"
   ]
  }
 ],
 "metadata": {
  "kernelspec": {
   "display_name": "Python 3",
   "language": "python",
   "name": "python3"
  },
  "language_info": {
   "codemirror_mode": {
    "name": "ipython",
    "version": 3
   },
   "file_extension": ".py",
   "mimetype": "text/x-python",
   "name": "python",
   "nbconvert_exporter": "python",
   "pygments_lexer": "ipython3",
   "version": "3.8.20"
  }
 },
 "nbformat": 4,
 "nbformat_minor": 2
}
